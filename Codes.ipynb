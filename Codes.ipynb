{
 "cells": [
  {
   "cell_type": "markdown",
   "metadata": {},
   "source": [
    "# Heatmap"
   ]
  },
  {
   "cell_type": "code",
   "execution_count": null,
   "metadata": {},
   "outputs": [],
   "source": [
    "##########\n",
    "### Input\n",
    "##########\n",
    "# 2D array\n",
    "data_matrix=\n",
    "# Columns in 2D array\n",
    "xlabs=\n",
    "# Rows in 2D array\n",
    "ylabs=\n",
    "# Output image file name\n",
    "output_name=\n",
    "\n",
    "##########\n",
    "### Main\n",
    "##########\n",
    "fig, ax=plt.subplots()\n",
    "im=plt.imshow(data_matrix,aspect='auto',cmap=plt.cm.Blues)\n",
    "ax.figure.colorbar(im,ax=ax)\n",
    "\n",
    "ax.set_xticks(np.arange(len(xlabs)))\n",
    "ax.set_yticks(np.arange(len(ylabs)))\n",
    "\n",
    "ax.set_xticklabels(xlabs)\n",
    "ax.set_yticklabels(ylabs)\n",
    "\n",
    "plt.setp(ax.get_xticklabels(),rotation=45,ha=\"right\",rotation_mode=\"anchor\")\n",
    "\n",
    "for i in range(len(ylabs)):\n",
    "    for j in range(len(xlabs)):\n",
    "        if data_matrix[i][j]>40:\n",
    "            ax.text(j,i,\"%.1f%%\" % data_matrix[i][j],ha=\"center\",va=\"center\",color=\"w\")\n",
    "        else:\n",
    "            ax.text(j,i,\"%.1f%%\" % data_matrix[i][j],ha=\"center\",va=\"center\")\n",
    "        \n",
    "#ax.set_title(\"\")\n",
    "plt.savefig(output_name+\".png\",bbox_inches='tight',dpi=300)"
   ]
  }
 ],
 "metadata": {
  "kernelspec": {
   "display_name": "Python 3",
   "language": "python",
   "name": "python3"
  },
  "language_info": {
   "codemirror_mode": {
    "name": "ipython",
    "version": 3
   },
   "file_extension": ".py",
   "mimetype": "text/x-python",
   "name": "python",
   "nbconvert_exporter": "python",
   "pygments_lexer": "ipython3",
   "version": "3.6.5"
  }
 },
 "nbformat": 4,
 "nbformat_minor": 2
}
