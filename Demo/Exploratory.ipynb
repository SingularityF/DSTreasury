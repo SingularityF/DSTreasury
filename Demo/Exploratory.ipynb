{
 "cells": [
  {
   "cell_type": "code",
   "execution_count": 2,
   "metadata": {},
   "outputs": [],
   "source": [
    "import pandas as pd\n",
    "import numpy as np\n",
    "import matplotlib.pyplot as plt\n",
    "\n",
    "import glob\n",
    "# Requires paramnb package to be installed\n",
    "import param,paramnb"
   ]
  },
  {
   "cell_type": "markdown",
   "metadata": {},
   "source": [
    "# Contents\n",
    "### Data Frame\n",
    "<div style=\"margin-left:50px\">\n",
    "<a href=\"#filesel\">File selector</a><br>\n",
    "<a href=\"#shape\">Shape</a><br>\n",
    "<a href=\"#cols\">Column names and data types</a><br>\n",
    "<a href=\"#preview\">Preview</a><br>\n",
    "</div>\n",
    "\n",
    "### Column\n",
    "<div style=\"margin-left:50px\">\n",
    "<a href=\"#colsel\">Column selector</a><br>\n",
    "<a href=\"#coldescription\">Description</a><br>\n",
    "<a href=\"#colvalues\">Values count</a><br>\n",
    "</div>\n",
    "\n",
    "### Filter\n",
    "<div style=\"margin-left:50px\">\n",
    "<a href=\"#filtersel\">Filter selector</a><br>\n",
    "<a href=\"#filteredprev\">Filtered preview</a><br>\n",
    "<a href=\"#filteredcolsel\">Filtered column selector</a><br>\n",
    "<a href=\"#filtereddesc\">Filtered description</a><br>\n",
    "<a href=\"#filteredvalues\">Filtered values count</a><br>\n",
    "</div>\n",
    "\n",
    "\n",
    "### Plots\n",
    "<div style=\"margin-left:50px\">\n",
    "<a href=\"#intersel\">Interaction selector</a><br>\n",
    "<a href=\"#scatter\">Scatter plot</a><br>\n",
    "</div>"
   ]
  },
  {
   "cell_type": "code",
   "execution_count": 3,
   "metadata": {},
   "outputs": [],
   "source": [
    "# Define global variables\n",
    "\n",
    "available_encodings=[\n",
    "\"utf-8\",\n",
    "\"latin1\"\n",
    "]\n",
    "\n",
    "available_dtypes=[\n",
    "    \"Do not convert\",\n",
    "    \"Numeric (remove commas)\"\n",
    "]\n",
    "\n",
    "class DataConverters():\n",
    "    def remove_commas(series):\n",
    "        for i,val in enumerate(series):\n",
    "            if type(val)==\"str\":\n",
    "                series[i]=str(series[i]).replace(\",\",\"\")\n",
    "        return series"
   ]
  },
  {
   "cell_type": "markdown",
   "metadata": {},
   "source": [
    "# <font color=\"goldenrod\">Enter a list of input files here to get started </font>"
   ]
  },
  {
   "cell_type": "markdown",
   "metadata": {},
   "source": [
    "<a name=\"filesel\"></a>"
   ]
  },
  {
   "cell_type": "code",
   "execution_count": null,
   "metadata": {},
   "outputs": [],
   "source": [
    "# A list of input files\n",
    "\n",
    "# obtained by wildcard\n",
    "#path2files=glob.glob(\"\")\n",
    "\n",
    "# OR from a list\n",
    "path2files=[\n",
    "    \"train.csv\"\n",
    "]\n",
    "\n",
    "class FileSelector(param.Parameterized):\n",
    "    selected_file=param.ObjectSelector(objects=path2files)\n",
    "    file_encoding=param.ObjectSelector(default=\"utf-8\",objects=available_encodings)\n",
    "\n",
    "paramnb.Widgets(FileSelector,next_n=4)"
   ]
  },
  {
   "attachments": {
    "FileSelector.PNG": {
     "image/png": "[encoded data removed]"
    }
   },
   "cell_type": "markdown",
   "metadata": {},
   "source": [
    "![FileSelector.PNG](attachment:FileSelector.PNG)"
   ]
  },
  {
   "cell_type": "markdown",
   "metadata": {},
   "source": [
    "<a name=\"shape\"></a>"
   ]
  },
  {
   "cell_type": "code",
   "execution_count": 5,
   "metadata": {
    "scrolled": true
   },
   "outputs": [
    {
     "name": "stdout",
     "output_type": "stream",
     "text": [
      "Rows: 891\tCols: 12\n"
     ]
    }
   ],
   "source": [
    "# Read file into a data frame\n",
    "if FileSelector.selected_file.endswith(\"csv\"):\n",
    "    df=pd.read_csv(FileSelector.selected_file,encoding=FileSelector.file_encoding)\n",
    "elif FileSelector.selected_file.endswith(\"xlsx\") or FileSelector.selected_file.endswith(\"xls\"):\n",
    "    df=pd.read_excel(FileSelector.selected_file,encoding=FileSelector.file_encoding)\n",
    "\n",
    "print(\"Rows: {}\\tCols: {}\".format(df.shape[0],df.shape[1]))"
   ]
  },
  {
   "cell_type": "markdown",
   "metadata": {},
   "source": [
    "<a name=\"cols\"></a>"
   ]
  },
  {
   "cell_type": "code",
   "execution_count": 6,
   "metadata": {
    "scrolled": false
   },
   "outputs": [
    {
     "data": {
      "text/html": [
       "<div>\n",
       "<style scoped>\n",
       "    .dataframe tbody tr th:only-of-type {\n",
       "        vertical-align: middle;\n",
       "    }\n",
       "\n",
       "    .dataframe tbody tr th {\n",
       "        vertical-align: top;\n",
       "    }\n",
       "\n",
       "    .dataframe thead th {\n",
       "        text-align: right;\n",
       "    }\n",
       "</style>\n",
       "<table border=\"1\" class=\"dataframe\">\n",
       "  <thead>\n",
       "    <tr style=\"text-align: right;\">\n",
       "      <th></th>\n",
       "      <th>Column Names</th>\n",
       "      <th>Data Types</th>\n",
       "    </tr>\n",
       "  </thead>\n",
       "  <tbody>\n",
       "    <tr>\n",
       "      <th>0</th>\n",
       "      <td>PassengerId</td>\n",
       "      <td>int64</td>\n",
       "    </tr>\n",
       "    <tr>\n",
       "      <th>1</th>\n",
       "      <td>Survived</td>\n",
       "      <td>int64</td>\n",
       "    </tr>\n",
       "    <tr>\n",
       "      <th>2</th>\n",
       "      <td>Pclass</td>\n",
       "      <td>int64</td>\n",
       "    </tr>\n",
       "    <tr>\n",
       "      <th>3</th>\n",
       "      <td>Name</td>\n",
       "      <td>object</td>\n",
       "    </tr>\n",
       "    <tr>\n",
       "      <th>4</th>\n",
       "      <td>Sex</td>\n",
       "      <td>object</td>\n",
       "    </tr>\n",
       "    <tr>\n",
       "      <th>5</th>\n",
       "      <td>Age</td>\n",
       "      <td>float64</td>\n",
       "    </tr>\n",
       "    <tr>\n",
       "      <th>6</th>\n",
       "      <td>SibSp</td>\n",
       "      <td>int64</td>\n",
       "    </tr>\n",
       "    <tr>\n",
       "      <th>7</th>\n",
       "      <td>Parch</td>\n",
       "      <td>int64</td>\n",
       "    </tr>\n",
       "    <tr>\n",
       "      <th>8</th>\n",
       "      <td>Ticket</td>\n",
       "      <td>object</td>\n",
       "    </tr>\n",
       "    <tr>\n",
       "      <th>9</th>\n",
       "      <td>Fare</td>\n",
       "      <td>float64</td>\n",
       "    </tr>\n",
       "    <tr>\n",
       "      <th>10</th>\n",
       "      <td>Cabin</td>\n",
       "      <td>object</td>\n",
       "    </tr>\n",
       "    <tr>\n",
       "      <th>11</th>\n",
       "      <td>Embarked</td>\n",
       "      <td>object</td>\n",
       "    </tr>\n",
       "  </tbody>\n",
       "</table>\n",
       "</div>"
      ],
      "text/plain": [
       "   Column Names Data Types\n",
       "0   PassengerId      int64\n",
       "1      Survived      int64\n",
       "2        Pclass      int64\n",
       "3          Name     object\n",
       "4           Sex     object\n",
       "5           Age    float64\n",
       "6         SibSp      int64\n",
       "7         Parch      int64\n",
       "8        Ticket     object\n",
       "9          Fare    float64\n",
       "10        Cabin     object\n",
       "11     Embarked     object"
      ]
     },
     "execution_count": 6,
     "metadata": {},
     "output_type": "execute_result"
    }
   ],
   "source": [
    "pd.DataFrame({\"Column Names\":df.columns.values,\"Data Types\":df.dtypes.values})"
   ]
  },
  {
   "cell_type": "markdown",
   "metadata": {},
   "source": [
    "<a name=\"preview\"></a>"
   ]
  },
  {
   "cell_type": "code",
   "execution_count": 7,
   "metadata": {
    "scrolled": false
   },
   "outputs": [
    {
     "data": {
      "text/html": [
       "<div>\n",
       "<style scoped>\n",
       "    .dataframe tbody tr th:only-of-type {\n",
       "        vertical-align: middle;\n",
       "    }\n",
       "\n",
       "    .dataframe tbody tr th {\n",
       "        vertical-align: top;\n",
       "    }\n",
       "\n",
       "    .dataframe thead th {\n",
       "        text-align: right;\n",
       "    }\n",
       "</style>\n",
       "<table border=\"1\" class=\"dataframe\">\n",
       "  <thead>\n",
       "    <tr style=\"text-align: right;\">\n",
       "      <th></th>\n",
       "      <th>109</th>\n",
       "      <th>741</th>\n",
       "      <th>254</th>\n",
       "      <th>606</th>\n",
       "      <th>759</th>\n",
       "      <th>333</th>\n",
       "      <th>401</th>\n",
       "      <th>58</th>\n",
       "      <th>581</th>\n",
       "      <th>636</th>\n",
       "    </tr>\n",
       "  </thead>\n",
       "  <tbody>\n",
       "    <tr>\n",
       "      <th>PassengerId</th>\n",
       "      <td>110</td>\n",
       "      <td>742</td>\n",
       "      <td>255</td>\n",
       "      <td>607</td>\n",
       "      <td>760</td>\n",
       "      <td>334</td>\n",
       "      <td>402</td>\n",
       "      <td>59</td>\n",
       "      <td>582</td>\n",
       "      <td>637</td>\n",
       "    </tr>\n",
       "    <tr>\n",
       "      <th>Survived</th>\n",
       "      <td>1</td>\n",
       "      <td>0</td>\n",
       "      <td>0</td>\n",
       "      <td>0</td>\n",
       "      <td>1</td>\n",
       "      <td>0</td>\n",
       "      <td>0</td>\n",
       "      <td>1</td>\n",
       "      <td>1</td>\n",
       "      <td>0</td>\n",
       "    </tr>\n",
       "    <tr>\n",
       "      <th>Pclass</th>\n",
       "      <td>3</td>\n",
       "      <td>1</td>\n",
       "      <td>3</td>\n",
       "      <td>3</td>\n",
       "      <td>1</td>\n",
       "      <td>3</td>\n",
       "      <td>3</td>\n",
       "      <td>2</td>\n",
       "      <td>1</td>\n",
       "      <td>3</td>\n",
       "    </tr>\n",
       "    <tr>\n",
       "      <th>Name</th>\n",
       "      <td>Moran, Miss. Bertha</td>\n",
       "      <td>Cavendish, Mr. Tyrell William</td>\n",
       "      <td>Rosblom, Mrs. Viktor (Helena Wilhelmina)</td>\n",
       "      <td>Karaic, Mr. Milan</td>\n",
       "      <td>Rothes, the Countess. of (Lucy Noel Martha Dye...</td>\n",
       "      <td>Vander Planke, Mr. Leo Edmondus</td>\n",
       "      <td>Adams, Mr. John</td>\n",
       "      <td>West, Miss. Constance Mirium</td>\n",
       "      <td>Thayer, Mrs. John Borland (Marian Longstreth M...</td>\n",
       "      <td>Leinonen, Mr. Antti Gustaf</td>\n",
       "    </tr>\n",
       "    <tr>\n",
       "      <th>Sex</th>\n",
       "      <td>female</td>\n",
       "      <td>male</td>\n",
       "      <td>female</td>\n",
       "      <td>male</td>\n",
       "      <td>female</td>\n",
       "      <td>male</td>\n",
       "      <td>male</td>\n",
       "      <td>female</td>\n",
       "      <td>female</td>\n",
       "      <td>male</td>\n",
       "    </tr>\n",
       "    <tr>\n",
       "      <th>Age</th>\n",
       "      <td>NaN</td>\n",
       "      <td>36</td>\n",
       "      <td>41</td>\n",
       "      <td>30</td>\n",
       "      <td>33</td>\n",
       "      <td>16</td>\n",
       "      <td>26</td>\n",
       "      <td>5</td>\n",
       "      <td>39</td>\n",
       "      <td>32</td>\n",
       "    </tr>\n",
       "    <tr>\n",
       "      <th>SibSp</th>\n",
       "      <td>1</td>\n",
       "      <td>1</td>\n",
       "      <td>0</td>\n",
       "      <td>0</td>\n",
       "      <td>0</td>\n",
       "      <td>2</td>\n",
       "      <td>0</td>\n",
       "      <td>1</td>\n",
       "      <td>1</td>\n",
       "      <td>0</td>\n",
       "    </tr>\n",
       "    <tr>\n",
       "      <th>Parch</th>\n",
       "      <td>0</td>\n",
       "      <td>0</td>\n",
       "      <td>2</td>\n",
       "      <td>0</td>\n",
       "      <td>0</td>\n",
       "      <td>0</td>\n",
       "      <td>0</td>\n",
       "      <td>2</td>\n",
       "      <td>1</td>\n",
       "      <td>0</td>\n",
       "    </tr>\n",
       "    <tr>\n",
       "      <th>Ticket</th>\n",
       "      <td>371110</td>\n",
       "      <td>19877</td>\n",
       "      <td>370129</td>\n",
       "      <td>349246</td>\n",
       "      <td>110152</td>\n",
       "      <td>345764</td>\n",
       "      <td>341826</td>\n",
       "      <td>C.A. 34651</td>\n",
       "      <td>17421</td>\n",
       "      <td>STON/O 2. 3101292</td>\n",
       "    </tr>\n",
       "    <tr>\n",
       "      <th>Fare</th>\n",
       "      <td>24.15</td>\n",
       "      <td>78.85</td>\n",
       "      <td>20.2125</td>\n",
       "      <td>7.8958</td>\n",
       "      <td>86.5</td>\n",
       "      <td>18</td>\n",
       "      <td>8.05</td>\n",
       "      <td>27.75</td>\n",
       "      <td>110.883</td>\n",
       "      <td>7.925</td>\n",
       "    </tr>\n",
       "    <tr>\n",
       "      <th>Cabin</th>\n",
       "      <td>NaN</td>\n",
       "      <td>C46</td>\n",
       "      <td>NaN</td>\n",
       "      <td>NaN</td>\n",
       "      <td>B77</td>\n",
       "      <td>NaN</td>\n",
       "      <td>NaN</td>\n",
       "      <td>NaN</td>\n",
       "      <td>C68</td>\n",
       "      <td>NaN</td>\n",
       "    </tr>\n",
       "    <tr>\n",
       "      <th>Embarked</th>\n",
       "      <td>Q</td>\n",
       "      <td>S</td>\n",
       "      <td>S</td>\n",
       "      <td>S</td>\n",
       "      <td>S</td>\n",
       "      <td>S</td>\n",
       "      <td>S</td>\n",
       "      <td>S</td>\n",
       "      <td>C</td>\n",
       "      <td>S</td>\n",
       "    </tr>\n",
       "  </tbody>\n",
       "</table>\n",
       "</div>"
      ],
      "text/plain": [
       "                             109                            741  \\\n",
       "PassengerId                  110                            742   \n",
       "Survived                       1                              0   \n",
       "Pclass                         3                              1   \n",
       "Name         Moran, Miss. Bertha  Cavendish, Mr. Tyrell William   \n",
       "Sex                       female                           male   \n",
       "Age                          NaN                             36   \n",
       "SibSp                          1                              1   \n",
       "Parch                          0                              0   \n",
       "Ticket                    371110                          19877   \n",
       "Fare                       24.15                          78.85   \n",
       "Cabin                        NaN                            C46   \n",
       "Embarked                       Q                              S   \n",
       "\n",
       "                                                  254                606  \\\n",
       "PassengerId                                       255                607   \n",
       "Survived                                            0                  0   \n",
       "Pclass                                              3                  3   \n",
       "Name         Rosblom, Mrs. Viktor (Helena Wilhelmina)  Karaic, Mr. Milan   \n",
       "Sex                                            female               male   \n",
       "Age                                                41                 30   \n",
       "SibSp                                               0                  0   \n",
       "Parch                                               2                  0   \n",
       "Ticket                                         370129             349246   \n",
       "Fare                                          20.2125             7.8958   \n",
       "Cabin                                             NaN                NaN   \n",
       "Embarked                                            S                  S   \n",
       "\n",
       "                                                           759  \\\n",
       "PassengerId                                                760   \n",
       "Survived                                                     1   \n",
       "Pclass                                                       1   \n",
       "Name         Rothes, the Countess. of (Lucy Noel Martha Dye...   \n",
       "Sex                                                     female   \n",
       "Age                                                         33   \n",
       "SibSp                                                        0   \n",
       "Parch                                                        0   \n",
       "Ticket                                                  110152   \n",
       "Fare                                                      86.5   \n",
       "Cabin                                                      B77   \n",
       "Embarked                                                     S   \n",
       "\n",
       "                                         333              401  \\\n",
       "PassengerId                              334              402   \n",
       "Survived                                   0                0   \n",
       "Pclass                                     3                3   \n",
       "Name         Vander Planke, Mr. Leo Edmondus  Adams, Mr. John   \n",
       "Sex                                     male             male   \n",
       "Age                                       16               26   \n",
       "SibSp                                      2                0   \n",
       "Parch                                      0                0   \n",
       "Ticket                                345764           341826   \n",
       "Fare                                      18             8.05   \n",
       "Cabin                                    NaN              NaN   \n",
       "Embarked                                   S                S   \n",
       "\n",
       "                                      58   \\\n",
       "PassengerId                            59   \n",
       "Survived                                1   \n",
       "Pclass                                  2   \n",
       "Name         West, Miss. Constance Mirium   \n",
       "Sex                                female   \n",
       "Age                                     5   \n",
       "SibSp                                   1   \n",
       "Parch                                   2   \n",
       "Ticket                         C.A. 34651   \n",
       "Fare                                27.75   \n",
       "Cabin                                 NaN   \n",
       "Embarked                                S   \n",
       "\n",
       "                                                           581  \\\n",
       "PassengerId                                                582   \n",
       "Survived                                                     1   \n",
       "Pclass                                                       1   \n",
       "Name         Thayer, Mrs. John Borland (Marian Longstreth M...   \n",
       "Sex                                                     female   \n",
       "Age                                                         39   \n",
       "SibSp                                                        1   \n",
       "Parch                                                        1   \n",
       "Ticket                                                   17421   \n",
       "Fare                                                   110.883   \n",
       "Cabin                                                      C68   \n",
       "Embarked                                                     C   \n",
       "\n",
       "                                    636  \n",
       "PassengerId                         637  \n",
       "Survived                              0  \n",
       "Pclass                                3  \n",
       "Name         Leinonen, Mr. Antti Gustaf  \n",
       "Sex                                male  \n",
       "Age                                  32  \n",
       "SibSp                                 0  \n",
       "Parch                                 0  \n",
       "Ticket                STON/O 2. 3101292  \n",
       "Fare                              7.925  \n",
       "Cabin                               NaN  \n",
       "Embarked                              S  "
      ]
     },
     "execution_count": 7,
     "metadata": {},
     "output_type": "execute_result"
    }
   ],
   "source": [
    "df.sample(10).transpose()"
   ]
  },
  {
   "cell_type": "markdown",
   "metadata": {},
   "source": [
    "# <font color=\"goldenrod\">Select a column to take a closer look</font>"
   ]
  },
  {
   "cell_type": "markdown",
   "metadata": {},
   "source": [
    "<a name=\"colsel\"></a>"
   ]
  },
  {
   "cell_type": "code",
   "execution_count": null,
   "metadata": {},
   "outputs": [],
   "source": [
    "class ColumnSelector(param.Parameterized):\n",
    "    selected_col=param.ObjectSelector(objects=df.columns.values)\n",
    "    convert_dtype=param.ObjectSelector(default=\"Do not convert\",objects=available_dtypes)\n",
    "    \n",
    "paramnb.Widgets(ColumnSelector,next_n=3)"
   ]
  },
  {
   "attachments": {
    "ColumnSelector.PNG": {
     "image/png": "[encoded data removed]"
    }
   },
   "cell_type": "markdown",
   "metadata": {},
   "source": [
    "![ColumnSelector.PNG](attachment:ColumnSelector.PNG)"
   ]
  },
  {
   "cell_type": "markdown",
   "metadata": {},
   "source": [
    "<a name=\"coldescription\"></a>"
   ]
  },
  {
   "cell_type": "code",
   "execution_count": 9,
   "metadata": {},
   "outputs": [
    {
     "name": "stdout",
     "output_type": "stream",
     "text": [
      "count    714.000000\n",
      "mean      29.699118\n",
      "std       14.526497\n",
      "min        0.420000\n",
      "25%       20.125000\n",
      "50%       28.000000\n",
      "75%       38.000000\n",
      "max       80.000000\n",
      "Name: Age, dtype: float64\n"
     ]
    },
    {
     "data": {
      "image/png": "[encoded data removed]",
      "text/plain": [
       "<Figure size 432x288 with 1 Axes>"
      ]
     },
     "metadata": {},
     "output_type": "display_data"
    }
   ],
   "source": [
    "if not ColumnSelector.convert_dtype==\"Do not convert\":\n",
    "    if ColumnSelector.convert_dtype==\"Numeric (remove commas)\":\n",
    "        column_series=DataConverters.remove_commas(df[ColumnSelector.selected_col])\n",
    "        column_series=pd.to_numeric(column_series,errors=\"coerce\")\n",
    "else:\n",
    "    column_series=df[ColumnSelector.selected_col]\n",
    "\n",
    "print(column_series.describe())\n",
    "\n",
    "if np.issubdtype(column_series.dtype,np.number):\n",
    "    plt.boxplot(column_series.dropna())"
   ]
  },
  {
   "cell_type": "markdown",
   "metadata": {},
   "source": [
    "<a name=\"colvalues\"></a>"
   ]
  },
  {
   "cell_type": "code",
   "execution_count": 10,
   "metadata": {},
   "outputs": [
    {
     "name": "stdout",
     "output_type": "stream",
     "text": [
      "NA count: 177\n"
     ]
    },
    {
     "data": {
      "image/png": "[encoded data removed]",
      "text/plain": [
       "<Figure size 432x288 with 1 Axes>"
      ]
     },
     "metadata": {},
     "output_type": "display_data"
    }
   ],
   "source": [
    "if np.issubdtype(column_series.dtype,np.number):\n",
    "    print(\"NA count: {}\".format(np.sum(pd.isnull(column_series))))\n",
    "    plt.hist(column_series.dropna())\n",
    "else:\n",
    "    print(\"NA count: {}\".format(np.sum(pd.isnull(column_series))))\n",
    "    print(pd.DataFrame(column_series.value_counts(dropna=False)))"
   ]
  },
  {
   "cell_type": "markdown",
   "metadata": {},
   "source": [
    "# <font color=\"goldenrod\">Look at data filtered by the selected column</font>"
   ]
  },
  {
   "cell_type": "markdown",
   "metadata": {},
   "source": [
    "<a name=\"filtersel\"></a>"
   ]
  },
  {
   "cell_type": "code",
   "execution_count": null,
   "metadata": {},
   "outputs": [],
   "source": [
    "if np.issubdtype(column_series.dtype,np.number):\n",
    "    class FilterSelector(param.Parameterized):\n",
    "        filter_by_value=param.Range(bounds=(column_series.min(), column_series.max()))\n",
    "        filter_by_na=param.Boolean()\n",
    "else:    \n",
    "    class FilterSelector(param.Parameterized):\n",
    "        filter_by_value=param.ObjectSelector(objects=column_series.values)\n",
    "        filter_by_na=param.Boolean()\n",
    "\n",
    "if not np.issubdtype(column_series.dtype,np.number):\n",
    "# May take too long to load\n",
    "    if len(column_series.unique())<2000:\n",
    "        paramnb.Widgets(FilterSelector,next_n=2)\n",
    "else:\n",
    "    paramnb.Widgets(FilterSelector,next_n=2)"
   ]
  },
  {
   "attachments": {
    "FilterSelector.PNG": {
     "image/png": "[encoded data removed]"
    }
   },
   "cell_type": "markdown",
   "metadata": {},
   "source": [
    "![FilterSelector.PNG](attachment:FilterSelector.PNG)"
   ]
  },
  {
   "cell_type": "markdown",
   "metadata": {},
   "source": [
    "<a name=\"filteredprev\"></a>"
   ]
  },
  {
   "cell_type": "code",
   "execution_count": 18,
   "metadata": {
    "scrolled": false
   },
   "outputs": [
    {
     "data": {
      "text/html": [
       "<div>\n",
       "<style scoped>\n",
       "    .dataframe tbody tr th:only-of-type {\n",
       "        vertical-align: middle;\n",
       "    }\n",
       "\n",
       "    .dataframe tbody tr th {\n",
       "        vertical-align: top;\n",
       "    }\n",
       "\n",
       "    .dataframe thead th {\n",
       "        text-align: right;\n",
       "    }\n",
       "</style>\n",
       "<table border=\"1\" class=\"dataframe\">\n",
       "  <thead>\n",
       "    <tr style=\"text-align: right;\">\n",
       "      <th></th>\n",
       "      <th>252</th>\n",
       "      <th>54</th>\n",
       "      <th>96</th>\n",
       "      <th>851</th>\n",
       "      <th>366</th>\n",
       "      <th>570</th>\n",
       "      <th>326</th>\n",
       "      <th>829</th>\n",
       "      <th>493</th>\n",
       "      <th>672</th>\n",
       "    </tr>\n",
       "  </thead>\n",
       "  <tbody>\n",
       "    <tr>\n",
       "      <th>PassengerId</th>\n",
       "      <td>253</td>\n",
       "      <td>55</td>\n",
       "      <td>97</td>\n",
       "      <td>852</td>\n",
       "      <td>367</td>\n",
       "      <td>571</td>\n",
       "      <td>327</td>\n",
       "      <td>830</td>\n",
       "      <td>494</td>\n",
       "      <td>673</td>\n",
       "    </tr>\n",
       "    <tr>\n",
       "      <th>Survived</th>\n",
       "      <td>0</td>\n",
       "      <td>0</td>\n",
       "      <td>0</td>\n",
       "      <td>0</td>\n",
       "      <td>1</td>\n",
       "      <td>1</td>\n",
       "      <td>0</td>\n",
       "      <td>1</td>\n",
       "      <td>0</td>\n",
       "      <td>0</td>\n",
       "    </tr>\n",
       "    <tr>\n",
       "      <th>Pclass</th>\n",
       "      <td>1</td>\n",
       "      <td>1</td>\n",
       "      <td>1</td>\n",
       "      <td>3</td>\n",
       "      <td>1</td>\n",
       "      <td>2</td>\n",
       "      <td>3</td>\n",
       "      <td>1</td>\n",
       "      <td>1</td>\n",
       "      <td>2</td>\n",
       "    </tr>\n",
       "    <tr>\n",
       "      <th>Name</th>\n",
       "      <td>Stead, Mr. William Thomas</td>\n",
       "      <td>Ostby, Mr. Engelhart Cornelius</td>\n",
       "      <td>Goldschmidt, Mr. George B</td>\n",
       "      <td>Svensson, Mr. Johan</td>\n",
       "      <td>Warren, Mrs. Frank Manley (Anna Sophia Atkinson)</td>\n",
       "      <td>Harris, Mr. George</td>\n",
       "      <td>Nysveen, Mr. Johan Hansen</td>\n",
       "      <td>Stone, Mrs. George Nelson (Martha Evelyn)</td>\n",
       "      <td>Artagaveytia, Mr. Ramon</td>\n",
       "      <td>Mitchell, Mr. Henry Michael</td>\n",
       "    </tr>\n",
       "    <tr>\n",
       "      <th>Sex</th>\n",
       "      <td>male</td>\n",
       "      <td>male</td>\n",
       "      <td>male</td>\n",
       "      <td>male</td>\n",
       "      <td>female</td>\n",
       "      <td>male</td>\n",
       "      <td>male</td>\n",
       "      <td>female</td>\n",
       "      <td>male</td>\n",
       "      <td>male</td>\n",
       "    </tr>\n",
       "    <tr>\n",
       "      <th>Age</th>\n",
       "      <td>62</td>\n",
       "      <td>65</td>\n",
       "      <td>71</td>\n",
       "      <td>74</td>\n",
       "      <td>60</td>\n",
       "      <td>62</td>\n",
       "      <td>61</td>\n",
       "      <td>62</td>\n",
       "      <td>71</td>\n",
       "      <td>70</td>\n",
       "    </tr>\n",
       "    <tr>\n",
       "      <th>SibSp</th>\n",
       "      <td>0</td>\n",
       "      <td>0</td>\n",
       "      <td>0</td>\n",
       "      <td>0</td>\n",
       "      <td>1</td>\n",
       "      <td>0</td>\n",
       "      <td>0</td>\n",
       "      <td>0</td>\n",
       "      <td>0</td>\n",
       "      <td>0</td>\n",
       "    </tr>\n",
       "    <tr>\n",
       "      <th>Parch</th>\n",
       "      <td>0</td>\n",
       "      <td>1</td>\n",
       "      <td>0</td>\n",
       "      <td>0</td>\n",
       "      <td>0</td>\n",
       "      <td>0</td>\n",
       "      <td>0</td>\n",
       "      <td>0</td>\n",
       "      <td>0</td>\n",
       "      <td>0</td>\n",
       "    </tr>\n",
       "    <tr>\n",
       "      <th>Ticket</th>\n",
       "      <td>113514</td>\n",
       "      <td>113509</td>\n",
       "      <td>PC 17754</td>\n",
       "      <td>347060</td>\n",
       "      <td>110813</td>\n",
       "      <td>S.W./PP 752</td>\n",
       "      <td>345364</td>\n",
       "      <td>113572</td>\n",
       "      <td>PC 17609</td>\n",
       "      <td>C.A. 24580</td>\n",
       "    </tr>\n",
       "    <tr>\n",
       "      <th>Fare</th>\n",
       "      <td>26.55</td>\n",
       "      <td>61.9792</td>\n",
       "      <td>34.6542</td>\n",
       "      <td>7.775</td>\n",
       "      <td>75.25</td>\n",
       "      <td>10.5</td>\n",
       "      <td>6.2375</td>\n",
       "      <td>80</td>\n",
       "      <td>49.5042</td>\n",
       "      <td>10.5</td>\n",
       "    </tr>\n",
       "    <tr>\n",
       "      <th>Cabin</th>\n",
       "      <td>C87</td>\n",
       "      <td>B30</td>\n",
       "      <td>A5</td>\n",
       "      <td>NaN</td>\n",
       "      <td>D37</td>\n",
       "      <td>NaN</td>\n",
       "      <td>NaN</td>\n",
       "      <td>B28</td>\n",
       "      <td>NaN</td>\n",
       "      <td>NaN</td>\n",
       "    </tr>\n",
       "    <tr>\n",
       "      <th>Embarked</th>\n",
       "      <td>S</td>\n",
       "      <td>C</td>\n",
       "      <td>C</td>\n",
       "      <td>S</td>\n",
       "      <td>C</td>\n",
       "      <td>S</td>\n",
       "      <td>S</td>\n",
       "      <td>NaN</td>\n",
       "      <td>C</td>\n",
       "      <td>S</td>\n",
       "    </tr>\n",
       "  </tbody>\n",
       "</table>\n",
       "</div>"
      ],
      "text/plain": [
       "                                   252                             54   \\\n",
       "PassengerId                        253                              55   \n",
       "Survived                             0                               0   \n",
       "Pclass                               1                               1   \n",
       "Name         Stead, Mr. William Thomas  Ostby, Mr. Engelhart Cornelius   \n",
       "Sex                               male                            male   \n",
       "Age                                 62                              65   \n",
       "SibSp                                0                               0   \n",
       "Parch                                0                               1   \n",
       "Ticket                          113514                          113509   \n",
       "Fare                             26.55                         61.9792   \n",
       "Cabin                              C87                             B30   \n",
       "Embarked                             S                               C   \n",
       "\n",
       "                                   96                   851  \\\n",
       "PassengerId                         97                  852   \n",
       "Survived                             0                    0   \n",
       "Pclass                               1                    3   \n",
       "Name         Goldschmidt, Mr. George B  Svensson, Mr. Johan   \n",
       "Sex                               male                 male   \n",
       "Age                                 71                   74   \n",
       "SibSp                                0                    0   \n",
       "Parch                                0                    0   \n",
       "Ticket                        PC 17754               347060   \n",
       "Fare                           34.6542                7.775   \n",
       "Cabin                               A5                  NaN   \n",
       "Embarked                             C                    S   \n",
       "\n",
       "                                                          366  \\\n",
       "PassengerId                                               367   \n",
       "Survived                                                    1   \n",
       "Pclass                                                      1   \n",
       "Name         Warren, Mrs. Frank Manley (Anna Sophia Atkinson)   \n",
       "Sex                                                    female   \n",
       "Age                                                        60   \n",
       "SibSp                                                       1   \n",
       "Parch                                                       0   \n",
       "Ticket                                                 110813   \n",
       "Fare                                                    75.25   \n",
       "Cabin                                                     D37   \n",
       "Embarked                                                    C   \n",
       "\n",
       "                            570                        326  \\\n",
       "PassengerId                 571                        327   \n",
       "Survived                      1                          0   \n",
       "Pclass                        2                          3   \n",
       "Name         Harris, Mr. George  Nysveen, Mr. Johan Hansen   \n",
       "Sex                        male                       male   \n",
       "Age                          62                         61   \n",
       "SibSp                         0                          0   \n",
       "Parch                         0                          0   \n",
       "Ticket              S.W./PP 752                     345364   \n",
       "Fare                       10.5                     6.2375   \n",
       "Cabin                       NaN                        NaN   \n",
       "Embarked                      S                          S   \n",
       "\n",
       "                                                   829  \\\n",
       "PassengerId                                        830   \n",
       "Survived                                             1   \n",
       "Pclass                                               1   \n",
       "Name         Stone, Mrs. George Nelson (Martha Evelyn)   \n",
       "Sex                                             female   \n",
       "Age                                                 62   \n",
       "SibSp                                                0   \n",
       "Parch                                                0   \n",
       "Ticket                                          113572   \n",
       "Fare                                                80   \n",
       "Cabin                                              B28   \n",
       "Embarked                                           NaN   \n",
       "\n",
       "                                 493                          672  \n",
       "PassengerId                      494                          673  \n",
       "Survived                           0                            0  \n",
       "Pclass                             1                            2  \n",
       "Name         Artagaveytia, Mr. Ramon  Mitchell, Mr. Henry Michael  \n",
       "Sex                             male                         male  \n",
       "Age                               71                           70  \n",
       "SibSp                              0                            0  \n",
       "Parch                              0                            0  \n",
       "Ticket                      PC 17609                   C.A. 24580  \n",
       "Fare                         49.5042                         10.5  \n",
       "Cabin                            NaN                          NaN  \n",
       "Embarked                           C                            S  "
      ]
     },
     "metadata": {},
     "output_type": "display_data"
    }
   ],
   "source": [
    "if FilterSelector.filter_by_na==True:\n",
    "    subdf=df[df[ColumnSelector.selected_col].isnull()]\n",
    "    display(subdf.sample(10).transpose())\n",
    "else:\n",
    "    if np.issubdtype(column_series.dtype,np.number):\n",
    "        subdf=df[np.array(df[ColumnSelector.selected_col]>=FilterSelector.filter_by_value[0]) & np.array(df[ColumnSelector.selected_col]<=FilterSelector.filter_by_value[1])]\n",
    "        display(subdf.sample(10).transpose())\n",
    "    else:\n",
    "        subdf=df[df[ColumnSelector.selected_col]==FilterSelector.filter_by_value]\n",
    "        display(subdf.sample(10).transpose())"
   ]
  },
  {
   "cell_type": "markdown",
   "metadata": {},
   "source": [
    "# <font color=\"goldenrod\">Distribution of a column after filtering</font>"
   ]
  },
  {
   "cell_type": "markdown",
   "metadata": {},
   "source": [
    "<a name=\"filteredcolsel\"></a>"
   ]
  },
  {
   "cell_type": "code",
   "execution_count": null,
   "metadata": {},
   "outputs": [],
   "source": [
    "class FilteredColumnSelector(param.Parameterized):\n",
    "    selected_col=param.ObjectSelector(objects=df.columns.values)\n",
    "    convert_dtype=param.ObjectSelector(default=\"Do not convert\",objects=available_dtypes)\n",
    "    \n",
    "paramnb.Widgets(FilteredColumnSelector,next_n=2)"
   ]
  },
  {
   "attachments": {
    "FilteredColumnSelector.PNG": {
     "image/png": "[encoded data removed]"
    }
   },
   "cell_type": "markdown",
   "metadata": {},
   "source": [
    "![FilteredColumnSelector.PNG](attachment:FilteredColumnSelector.PNG)"
   ]
  },
  {
   "cell_type": "markdown",
   "metadata": {},
   "source": [
    "<a name=\"filtereddesc\"></a>"
   ]
  },
  {
   "cell_type": "code",
   "execution_count": 20,
   "metadata": {},
   "outputs": [
    {
     "name": "stdout",
     "output_type": "stream",
     "text": [
      "count       26\n",
      "unique       2\n",
      "top       male\n",
      "freq        22\n",
      "Name: Sex, dtype: object\n"
     ]
    }
   ],
   "source": [
    "if not FilteredColumnSelector.convert_dtype==\"Do not convert\":\n",
    "    if FilteredColumnSelector.convert_dtype==\"Numeric (remove commas)\":\n",
    "        filtered_column_series=DataConverters.remove_commas(subdf[FilteredColumnSelector.selected_col])\n",
    "        filtered_column_series=pd.to_numeric(filtered_column_series,errors=\"coerce\")\n",
    "else:\n",
    "    filtered_column_series=subdf[FilteredColumnSelector.selected_col]\n",
    "\n",
    "print(filtered_column_series.describe())\n",
    "\n",
    "if np.issubdtype(filtered_column_series.dtype,np.number):\n",
    "    plt.boxplot(filtered_column_series.dropna())"
   ]
  },
  {
   "cell_type": "markdown",
   "metadata": {},
   "source": [
    "<a name=\"filteredvalues\"></a>"
   ]
  },
  {
   "cell_type": "code",
   "execution_count": 21,
   "metadata": {},
   "outputs": [
    {
     "name": "stdout",
     "output_type": "stream",
     "text": [
      "NA count: 0\n",
      "        Sex\n",
      "male     22\n",
      "female    4\n"
     ]
    }
   ],
   "source": [
    "if np.issubdtype(filtered_column_series.dtype,np.number):\n",
    "    print(\"NA count: {}\".format(np.sum(pd.isnull(filtered_column_series))))\n",
    "    plt.hist(filtered_column_series.dropna())\n",
    "else:\n",
    "    print(\"NA count: {}\".format(np.sum(pd.isnull(filtered_column_series))))\n",
    "    print(pd.DataFrame(filtered_column_series.value_counts(dropna=False)))"
   ]
  },
  {
   "cell_type": "markdown",
   "metadata": {},
   "source": [
    "# <font color=\"goldenrod\">Interaction between two variables</font>"
   ]
  },
  {
   "cell_type": "markdown",
   "metadata": {},
   "source": [
    "<a name=\"intersel\"></a>"
   ]
  },
  {
   "cell_type": "code",
   "execution_count": null,
   "metadata": {},
   "outputs": [],
   "source": [
    "class InteractionSelector(param.Parameterized):\n",
    "    first_variable=param.ObjectSelector(objects=df.columns.values)\n",
    "    second_variable=param.ObjectSelector(objects=df.columns.values)\n",
    "    invert_axis=param.Boolean()\n",
    "    \n",
    "paramnb.Widgets(InteractionSelector,next_n=1)"
   ]
  },
  {
   "attachments": {
    "InteractionSelector.PNG": {
     "image/png": "[encoded data removed]"
    }
   },
   "cell_type": "markdown",
   "metadata": {},
   "source": [
    "![InteractionSelector.PNG](attachment:InteractionSelector.PNG)"
   ]
  },
  {
   "cell_type": "markdown",
   "metadata": {},
   "source": [
    "<a name=\"scatter\"></a>"
   ]
  },
  {
   "cell_type": "code",
   "execution_count": 33,
   "metadata": {},
   "outputs": [
    {
     "data": {
      "image/png": "[encoded data removed]",
      "text/plain": [
       "<Figure size 720x720 with 1 Axes>"
      ]
     },
     "metadata": {},
     "output_type": "display_data"
    }
   ],
   "source": [
    "# Scatter plot\n",
    "plt.figure(figsize=(10,10))\n",
    "if not InteractionSelector.invert_axis==True:\n",
    "    plt.scatter(df.dropna()[InteractionSelector.first_variable],df.dropna()[InteractionSelector.second_variable],marker='x',s=2)\n",
    "    plt.xlabel(InteractionSelector.first_variable)\n",
    "    plt.ylabel(InteractionSelector.second_variable)\n",
    "else:\n",
    "    plt.scatter(df.dropna()[InteractionSelector.second_variable],df.dropna()[InteractionSelector.first_variable],marker=\"x\",s=2)\n",
    "    plt.ylabel(InteractionSelector.first_variable)\n",
    "    plt.xlabel(InteractionSelector.second_variable)"
   ]
  },
  {
   "cell_type": "markdown",
   "metadata": {},
   "source": [
    "# Do not change codes above, insert your custom codes below"
   ]
  }
 ],
 "metadata": {
  "kernelspec": {
   "display_name": "Python 3",
   "language": "python",
   "name": "python3"
  },
  "language_info": {
   "codemirror_mode": {
    "name": "ipython",
    "version": 3
   },
   "file_extension": ".py",
   "mimetype": "text/x-python",
   "name": "python",
   "nbconvert_exporter": "python",
   "pygments_lexer": "ipython3",
   "version": "3.6.5"
  }
 },
 "nbformat": 4,
 "nbformat_minor": 2
}
