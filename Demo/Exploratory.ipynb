{
 "cells": [
  {
   "cell_type": "code",
   "execution_count": 1,
   "metadata": {},
   "outputs": [],
   "source": [
    "import pandas as pd\n",
    "import numpy as np\n",
    "import matplotlib.pyplot as plt\n",
    "\n",
    "import glob\n",
    "# Requires paramnb package to be installed\n",
    "import param,paramnb"
   ]
  },
  {
   "cell_type": "markdown",
   "metadata": {},
   "source": [
    "# Contents\n",
    "### Data Frame\n",
    "<div style=\"margin-left:50px\">\n",
    "<a href=\"#filesel\">File selector</a><br>\n",
    "<a href=\"#shape\">Shape</a><br>\n",
    "<a href=\"#cols\">Column names and data types</a><br>\n",
    "<a href=\"#preview\">Preview</a><br>\n",
    "</div>\n",
    "\n",
    "### Column\n",
    "<div style=\"margin-left:50px\">\n",
    "<a href=\"#colsel\">Column selector</a><br>\n",
    "<a href=\"#coldescription\">Description</a><br>\n",
    "<a href=\"#colvalues\">Values count</a><br>\n",
    "</div>\n",
    "\n",
    "### Filter\n",
    "<div style=\"margin-left:50px\">\n",
    "<a href=\"#colsel\">Column selector</a><br>\n",
    "</div>"
   ]
  },
  {
   "cell_type": "code",
   "execution_count": 2,
   "metadata": {},
   "outputs": [],
   "source": [
    "# Define global variables\n",
    "\n",
    "available_encodings=[\n",
    "\"utf-8\",\n",
    "\"latin1\"\n",
    "]\n",
    "\n",
    "available_dtypes=[\n",
    "    \"Do not convert\",\n",
    "    \"Numeric (remove commas)\"\n",
    "]\n",
    "\n",
    "class DataConverters():\n",
    "    def remove_commas(series):\n",
    "        for i,val in enumerate(series):\n",
    "            if type(val)==\"str\":\n",
    "                series[i]=str(series[i]).replace(\",\",\"\")\n",
    "        return series"
   ]
  },
  {
   "cell_type": "markdown",
   "metadata": {},
   "source": [
    "# <font color=\"goldenrod\">Enter a list of input files here to get started </font>"
   ]
  },
  {
   "cell_type": "markdown",
   "metadata": {},
   "source": [
    "<a name=\"filesel\"></a>"
   ]
  },
  {
   "cell_type": "code",
   "execution_count": 3,
   "metadata": {},
   "outputs": [
    {
     "data": {
      "application/javascript": [
       "\n",
       "define('activehtml', [\"jupyter-js-widgets\"], function(widgets) {\n",
       "    var ActiveHTMLView = widgets.HTMLView.extend({\n",
       "        update: function() {\n",
       "            $(this.el).html(this.model.get('value'));\n",
       "        }\n",
       "    });\n",
       "    return {\n",
       "        ActiveHTMLView: ActiveHTMLView\n",
       "    };\n",
       "});\n"
      ],
      "text/plain": [
       "<IPython.core.display.Javascript object>"
      ]
     },
     "metadata": {},
     "output_type": "display_data"
    },
    {
     "data": {
      "application/vnd.jupyter.widget-view+json": {
       "model_id": "b476f66704ab4d22a7ad1675f8b6664e",
       "version_major": 2,
       "version_minor": 0
      },
      "text/plain": [
       "VBox(children=(HTML(value='\\n        <style>\\n          .ttip { position: relative; display: inline-block; }\\n…"
      ]
     },
     "metadata": {},
     "output_type": "display_data"
    },
    {
     "data": {
      "application/javascript": [
       "\n",
       "       var num = 4;\n",
       "       var run = false;\n",
       "       var current = $(this)[0];\n",
       "       $.each(IPython.notebook.get_cells(), function (idx, cell) {\n",
       "          if ((cell.output_area === current) && !run) {\n",
       "             run = true;\n",
       "          } else if ((cell.cell_type == 'code') && !(num < 1) && run) {\n",
       "             cell.execute();\n",
       "             num = num - 1;\n",
       "          }\n",
       "       });\n",
       "    "
      ],
      "text/plain": [
       "<IPython.core.display.Javascript object>"
      ]
     },
     "metadata": {},
     "output_type": "display_data"
    }
   ],
   "source": [
    "# A list of input files\n",
    "\n",
    "# obtained by wildcard\n",
    "#path2files=glob.glob(\"\")\n",
    "\n",
    "# OR from a list\n",
    "path2files=[\n",
    "    \"train.csv\"\n",
    "]\n",
    "\n",
    "class FileSelector(param.Parameterized):\n",
    "    selected_file=param.ObjectSelector(objects=path2files)\n",
    "    file_encoding=param.ObjectSelector(default=\"utf-8\",objects=available_encodings)\n",
    "\n",
    "paramnb.Widgets(FileSelector,next_n=4)"
   ]
  },
  {
   "cell_type": "markdown",
   "metadata": {},
   "source": [
    "<a name=\"shape\"></a>"
   ]
  },
  {
   "cell_type": "code",
   "execution_count": 4,
   "metadata": {
    "scrolled": true
   },
   "outputs": [
    {
     "name": "stdout",
     "output_type": "stream",
     "text": [
      "Rows: 891\tCols: 12\n"
     ]
    }
   ],
   "source": [
    "# Read file into a data frame\n",
    "if FileSelector.selected_file.endswith(\"csv\"):\n",
    "    df=pd.read_csv(FileSelector.selected_file,encoding=FileSelector.file_encoding)\n",
    "elif FileSelector.selected_file.endswith(\"xlsx\") or FileSelector.selected_file.endswith(\"xls\"):\n",
    "    df=pd.read_excel(FileSelector.selected_file,encoding=FileSelector.file_encoding)\n",
    "\n",
    "print(\"Rows: {}\\tCols: {}\".format(df.shape[0],df.shape[1]))"
   ]
  },
  {
   "cell_type": "markdown",
   "metadata": {},
   "source": [
    "<a name=\"cols\"></a>"
   ]
  },
  {
   "cell_type": "code",
   "execution_count": 5,
   "metadata": {
    "scrolled": true
   },
   "outputs": [
    {
     "data": {
      "text/html": [
       "<div>\n",
       "<style scoped>\n",
       "    .dataframe tbody tr th:only-of-type {\n",
       "        vertical-align: middle;\n",
       "    }\n",
       "\n",
       "    .dataframe tbody tr th {\n",
       "        vertical-align: top;\n",
       "    }\n",
       "\n",
       "    .dataframe thead th {\n",
       "        text-align: right;\n",
       "    }\n",
       "</style>\n",
       "<table border=\"1\" class=\"dataframe\">\n",
       "  <thead>\n",
       "    <tr style=\"text-align: right;\">\n",
       "      <th></th>\n",
       "      <th>Column Names</th>\n",
       "      <th>Data Types</th>\n",
       "    </tr>\n",
       "  </thead>\n",
       "  <tbody>\n",
       "    <tr>\n",
       "      <th>0</th>\n",
       "      <td>PassengerId</td>\n",
       "      <td>int64</td>\n",
       "    </tr>\n",
       "    <tr>\n",
       "      <th>1</th>\n",
       "      <td>Survived</td>\n",
       "      <td>int64</td>\n",
       "    </tr>\n",
       "    <tr>\n",
       "      <th>2</th>\n",
       "      <td>Pclass</td>\n",
       "      <td>int64</td>\n",
       "    </tr>\n",
       "    <tr>\n",
       "      <th>3</th>\n",
       "      <td>Name</td>\n",
       "      <td>object</td>\n",
       "    </tr>\n",
       "    <tr>\n",
       "      <th>4</th>\n",
       "      <td>Sex</td>\n",
       "      <td>object</td>\n",
       "    </tr>\n",
       "    <tr>\n",
       "      <th>5</th>\n",
       "      <td>Age</td>\n",
       "      <td>float64</td>\n",
       "    </tr>\n",
       "    <tr>\n",
       "      <th>6</th>\n",
       "      <td>SibSp</td>\n",
       "      <td>int64</td>\n",
       "    </tr>\n",
       "    <tr>\n",
       "      <th>7</th>\n",
       "      <td>Parch</td>\n",
       "      <td>int64</td>\n",
       "    </tr>\n",
       "    <tr>\n",
       "      <th>8</th>\n",
       "      <td>Ticket</td>\n",
       "      <td>object</td>\n",
       "    </tr>\n",
       "    <tr>\n",
       "      <th>9</th>\n",
       "      <td>Fare</td>\n",
       "      <td>float64</td>\n",
       "    </tr>\n",
       "    <tr>\n",
       "      <th>10</th>\n",
       "      <td>Cabin</td>\n",
       "      <td>object</td>\n",
       "    </tr>\n",
       "    <tr>\n",
       "      <th>11</th>\n",
       "      <td>Embarked</td>\n",
       "      <td>object</td>\n",
       "    </tr>\n",
       "  </tbody>\n",
       "</table>\n",
       "</div>"
      ],
      "text/plain": [
       "   Column Names Data Types\n",
       "0   PassengerId      int64\n",
       "1      Survived      int64\n",
       "2        Pclass      int64\n",
       "3          Name     object\n",
       "4           Sex     object\n",
       "5           Age    float64\n",
       "6         SibSp      int64\n",
       "7         Parch      int64\n",
       "8        Ticket     object\n",
       "9          Fare    float64\n",
       "10        Cabin     object\n",
       "11     Embarked     object"
      ]
     },
     "execution_count": 5,
     "metadata": {},
     "output_type": "execute_result"
    }
   ],
   "source": [
    "pd.DataFrame({\"Column Names\":df.columns.values,\"Data Types\":df.dtypes.values})"
   ]
  },
  {
   "cell_type": "markdown",
   "metadata": {},
   "source": [
    "<a name=\"preview\"></a>"
   ]
  },
  {
   "cell_type": "code",
   "execution_count": 6,
   "metadata": {
    "scrolled": true
   },
   "outputs": [
    {
     "data": {
      "text/html": [
       "<div>\n",
       "<style scoped>\n",
       "    .dataframe tbody tr th:only-of-type {\n",
       "        vertical-align: middle;\n",
       "    }\n",
       "\n",
       "    .dataframe tbody tr th {\n",
       "        vertical-align: top;\n",
       "    }\n",
       "\n",
       "    .dataframe thead th {\n",
       "        text-align: right;\n",
       "    }\n",
       "</style>\n",
       "<table border=\"1\" class=\"dataframe\">\n",
       "  <thead>\n",
       "    <tr style=\"text-align: right;\">\n",
       "      <th></th>\n",
       "      <th>526</th>\n",
       "      <th>29</th>\n",
       "      <th>607</th>\n",
       "      <th>459</th>\n",
       "      <th>265</th>\n",
       "      <th>215</th>\n",
       "      <th>445</th>\n",
       "      <th>719</th>\n",
       "      <th>161</th>\n",
       "      <th>240</th>\n",
       "    </tr>\n",
       "  </thead>\n",
       "  <tbody>\n",
       "    <tr>\n",
       "      <th>PassengerId</th>\n",
       "      <td>527</td>\n",
       "      <td>30</td>\n",
       "      <td>608</td>\n",
       "      <td>460</td>\n",
       "      <td>266</td>\n",
       "      <td>216</td>\n",
       "      <td>446</td>\n",
       "      <td>720</td>\n",
       "      <td>162</td>\n",
       "      <td>241</td>\n",
       "    </tr>\n",
       "    <tr>\n",
       "      <th>Survived</th>\n",
       "      <td>1</td>\n",
       "      <td>0</td>\n",
       "      <td>1</td>\n",
       "      <td>0</td>\n",
       "      <td>0</td>\n",
       "      <td>1</td>\n",
       "      <td>1</td>\n",
       "      <td>0</td>\n",
       "      <td>1</td>\n",
       "      <td>0</td>\n",
       "    </tr>\n",
       "    <tr>\n",
       "      <th>Pclass</th>\n",
       "      <td>2</td>\n",
       "      <td>3</td>\n",
       "      <td>1</td>\n",
       "      <td>3</td>\n",
       "      <td>2</td>\n",
       "      <td>1</td>\n",
       "      <td>1</td>\n",
       "      <td>3</td>\n",
       "      <td>2</td>\n",
       "      <td>3</td>\n",
       "    </tr>\n",
       "    <tr>\n",
       "      <th>Name</th>\n",
       "      <td>Ridsdale, Miss. Lucy</td>\n",
       "      <td>Todoroff, Mr. Lalio</td>\n",
       "      <td>Daniel, Mr. Robert Williams</td>\n",
       "      <td>O'Connor, Mr. Maurice</td>\n",
       "      <td>Reeves, Mr. David</td>\n",
       "      <td>Newell, Miss. Madeleine</td>\n",
       "      <td>Dodge, Master. Washington</td>\n",
       "      <td>Johnson, Mr. Malkolm Joackim</td>\n",
       "      <td>Watt, Mrs. James (Elizabeth \"Bessie\" Inglis Mi...</td>\n",
       "      <td>Zabour, Miss. Thamine</td>\n",
       "    </tr>\n",
       "    <tr>\n",
       "      <th>Sex</th>\n",
       "      <td>female</td>\n",
       "      <td>male</td>\n",
       "      <td>male</td>\n",
       "      <td>male</td>\n",
       "      <td>male</td>\n",
       "      <td>female</td>\n",
       "      <td>male</td>\n",
       "      <td>male</td>\n",
       "      <td>female</td>\n",
       "      <td>female</td>\n",
       "    </tr>\n",
       "    <tr>\n",
       "      <th>Age</th>\n",
       "      <td>50</td>\n",
       "      <td>NaN</td>\n",
       "      <td>27</td>\n",
       "      <td>NaN</td>\n",
       "      <td>36</td>\n",
       "      <td>31</td>\n",
       "      <td>4</td>\n",
       "      <td>33</td>\n",
       "      <td>40</td>\n",
       "      <td>NaN</td>\n",
       "    </tr>\n",
       "    <tr>\n",
       "      <th>SibSp</th>\n",
       "      <td>0</td>\n",
       "      <td>0</td>\n",
       "      <td>0</td>\n",
       "      <td>0</td>\n",
       "      <td>0</td>\n",
       "      <td>1</td>\n",
       "      <td>0</td>\n",
       "      <td>0</td>\n",
       "      <td>0</td>\n",
       "      <td>1</td>\n",
       "    </tr>\n",
       "    <tr>\n",
       "      <th>Parch</th>\n",
       "      <td>0</td>\n",
       "      <td>0</td>\n",
       "      <td>0</td>\n",
       "      <td>0</td>\n",
       "      <td>0</td>\n",
       "      <td>0</td>\n",
       "      <td>2</td>\n",
       "      <td>0</td>\n",
       "      <td>0</td>\n",
       "      <td>0</td>\n",
       "    </tr>\n",
       "    <tr>\n",
       "      <th>Ticket</th>\n",
       "      <td>W./C. 14258</td>\n",
       "      <td>349216</td>\n",
       "      <td>113804</td>\n",
       "      <td>371060</td>\n",
       "      <td>C.A. 17248</td>\n",
       "      <td>35273</td>\n",
       "      <td>33638</td>\n",
       "      <td>347062</td>\n",
       "      <td>C.A. 33595</td>\n",
       "      <td>2665</td>\n",
       "    </tr>\n",
       "    <tr>\n",
       "      <th>Fare</th>\n",
       "      <td>10.5</td>\n",
       "      <td>7.8958</td>\n",
       "      <td>30.5</td>\n",
       "      <td>7.75</td>\n",
       "      <td>10.5</td>\n",
       "      <td>113.275</td>\n",
       "      <td>81.8583</td>\n",
       "      <td>7.775</td>\n",
       "      <td>15.75</td>\n",
       "      <td>14.4542</td>\n",
       "    </tr>\n",
       "    <tr>\n",
       "      <th>Cabin</th>\n",
       "      <td>NaN</td>\n",
       "      <td>NaN</td>\n",
       "      <td>NaN</td>\n",
       "      <td>NaN</td>\n",
       "      <td>NaN</td>\n",
       "      <td>D36</td>\n",
       "      <td>A34</td>\n",
       "      <td>NaN</td>\n",
       "      <td>NaN</td>\n",
       "      <td>NaN</td>\n",
       "    </tr>\n",
       "    <tr>\n",
       "      <th>Embarked</th>\n",
       "      <td>S</td>\n",
       "      <td>S</td>\n",
       "      <td>S</td>\n",
       "      <td>Q</td>\n",
       "      <td>S</td>\n",
       "      <td>C</td>\n",
       "      <td>S</td>\n",
       "      <td>S</td>\n",
       "      <td>S</td>\n",
       "      <td>C</td>\n",
       "    </tr>\n",
       "  </tbody>\n",
       "</table>\n",
       "</div>"
      ],
      "text/plain": [
       "                              526                  29   \\\n",
       "PassengerId                   527                   30   \n",
       "Survived                        1                    0   \n",
       "Pclass                          2                    3   \n",
       "Name         Ridsdale, Miss. Lucy  Todoroff, Mr. Lalio   \n",
       "Sex                        female                 male   \n",
       "Age                            50                  NaN   \n",
       "SibSp                           0                    0   \n",
       "Parch                           0                    0   \n",
       "Ticket                W./C. 14258               349216   \n",
       "Fare                         10.5               7.8958   \n",
       "Cabin                         NaN                  NaN   \n",
       "Embarked                        S                    S   \n",
       "\n",
       "                                     607                    459  \\\n",
       "PassengerId                          608                    460   \n",
       "Survived                               1                      0   \n",
       "Pclass                                 1                      3   \n",
       "Name         Daniel, Mr. Robert Williams  O'Connor, Mr. Maurice   \n",
       "Sex                                 male                   male   \n",
       "Age                                   27                    NaN   \n",
       "SibSp                                  0                      0   \n",
       "Parch                                  0                      0   \n",
       "Ticket                            113804                 371060   \n",
       "Fare                                30.5                   7.75   \n",
       "Cabin                                NaN                    NaN   \n",
       "Embarked                               S                      Q   \n",
       "\n",
       "                           265                      215  \\\n",
       "PassengerId                266                      216   \n",
       "Survived                     0                        1   \n",
       "Pclass                       2                        1   \n",
       "Name         Reeves, Mr. David  Newell, Miss. Madeleine   \n",
       "Sex                       male                   female   \n",
       "Age                         36                       31   \n",
       "SibSp                        0                        1   \n",
       "Parch                        0                        0   \n",
       "Ticket              C.A. 17248                    35273   \n",
       "Fare                      10.5                  113.275   \n",
       "Cabin                      NaN                      D36   \n",
       "Embarked                     S                        C   \n",
       "\n",
       "                                   445                           719  \\\n",
       "PassengerId                        446                           720   \n",
       "Survived                             1                             0   \n",
       "Pclass                               1                             3   \n",
       "Name         Dodge, Master. Washington  Johnson, Mr. Malkolm Joackim   \n",
       "Sex                               male                          male   \n",
       "Age                                  4                            33   \n",
       "SibSp                                0                             0   \n",
       "Parch                                2                             0   \n",
       "Ticket                           33638                        347062   \n",
       "Fare                           81.8583                         7.775   \n",
       "Cabin                              A34                           NaN   \n",
       "Embarked                             S                             S   \n",
       "\n",
       "                                                           161  \\\n",
       "PassengerId                                                162   \n",
       "Survived                                                     1   \n",
       "Pclass                                                       2   \n",
       "Name         Watt, Mrs. James (Elizabeth \"Bessie\" Inglis Mi...   \n",
       "Sex                                                     female   \n",
       "Age                                                         40   \n",
       "SibSp                                                        0   \n",
       "Parch                                                        0   \n",
       "Ticket                                              C.A. 33595   \n",
       "Fare                                                     15.75   \n",
       "Cabin                                                      NaN   \n",
       "Embarked                                                     S   \n",
       "\n",
       "                               240  \n",
       "PassengerId                    241  \n",
       "Survived                         0  \n",
       "Pclass                           3  \n",
       "Name         Zabour, Miss. Thamine  \n",
       "Sex                         female  \n",
       "Age                            NaN  \n",
       "SibSp                            1  \n",
       "Parch                            0  \n",
       "Ticket                        2665  \n",
       "Fare                       14.4542  \n",
       "Cabin                          NaN  \n",
       "Embarked                         C  "
      ]
     },
     "execution_count": 6,
     "metadata": {},
     "output_type": "execute_result"
    }
   ],
   "source": [
    "df.sample(10).transpose()"
   ]
  },
  {
   "cell_type": "markdown",
   "metadata": {},
   "source": [
    "# <font color=\"goldenrod\">Select a column to take a closer look</font>"
   ]
  },
  {
   "cell_type": "markdown",
   "metadata": {},
   "source": [
    "<a name=\"colsel\"></a>"
   ]
  },
  {
   "cell_type": "code",
   "execution_count": 7,
   "metadata": {},
   "outputs": [
    {
     "data": {
      "application/javascript": [
       "\n",
       "define('activehtml', [\"jupyter-js-widgets\"], function(widgets) {\n",
       "    var ActiveHTMLView = widgets.HTMLView.extend({\n",
       "        update: function() {\n",
       "            $(this.el).html(this.model.get('value'));\n",
       "        }\n",
       "    });\n",
       "    return {\n",
       "        ActiveHTMLView: ActiveHTMLView\n",
       "    };\n",
       "});\n"
      ],
      "text/plain": [
       "<IPython.core.display.Javascript object>"
      ]
     },
     "metadata": {},
     "output_type": "display_data"
    },
    {
     "data": {
      "application/vnd.jupyter.widget-view+json": {
       "model_id": "73082164be4d49aeafcd1373f354a4ab",
       "version_major": 2,
       "version_minor": 0
      },
      "text/plain": [
       "VBox(children=(HTML(value='\\n        <style>\\n          .ttip { position: relative; display: inline-block; }\\n…"
      ]
     },
     "metadata": {},
     "output_type": "display_data"
    },
    {
     "data": {
      "application/javascript": [
       "\n",
       "       var num = 3;\n",
       "       var run = false;\n",
       "       var current = $(this)[0];\n",
       "       $.each(IPython.notebook.get_cells(), function (idx, cell) {\n",
       "          if ((cell.output_area === current) && !run) {\n",
       "             run = true;\n",
       "          } else if ((cell.cell_type == 'code') && !(num < 1) && run) {\n",
       "             cell.execute();\n",
       "             num = num - 1;\n",
       "          }\n",
       "       });\n",
       "    "
      ],
      "text/plain": [
       "<IPython.core.display.Javascript object>"
      ]
     },
     "metadata": {},
     "output_type": "display_data"
    }
   ],
   "source": [
    "class ColumnSelector(param.Parameterized):\n",
    "    selected_col=param.ObjectSelector(objects=df.columns.values)\n",
    "    convert_dtype=param.ObjectSelector(default=\"Do not convert\",objects=available_dtypes)\n",
    "    \n",
    "paramnb.Widgets(ColumnSelector,next_n=3)"
   ]
  },
  {
   "cell_type": "markdown",
   "metadata": {},
   "source": [
    "<a name=\"coldescription\"></a>"
   ]
  },
  {
   "cell_type": "code",
   "execution_count": 8,
   "metadata": {},
   "outputs": [
    {
     "name": "stdout",
     "output_type": "stream",
     "text": [
      "count    714.000000\n",
      "mean      29.699118\n",
      "std       14.526497\n",
      "min        0.420000\n",
      "25%       20.125000\n",
      "50%       28.000000\n",
      "75%       38.000000\n",
      "max       80.000000\n",
      "Name: Age, dtype: float64\n"
     ]
    },
    {
     "data": {
      "image/png": "[encoded data removed]",
      "text/plain": [
       "<Figure size 432x288 with 1 Axes>"
      ]
     },
     "metadata": {},
     "output_type": "display_data"
    }
   ],
   "source": [
    "if not ColumnSelector.convert_dtype==\"Do not convert\":\n",
    "    if ColumnSelector.convert_dtype==\"Numeric (remove commas)\":\n",
    "        column_series=DataConverters.remove_commas(df[ColumnSelector.selected_col])\n",
    "        column_series=pd.to_numeric(column_series,errors=\"coerce\")\n",
    "else:\n",
    "    column_series=df[ColumnSelector.selected_col]\n",
    "\n",
    "print(column_series.describe())\n",
    "\n",
    "if np.issubdtype(column_series.dtype,np.number):\n",
    "    plt.boxplot(column_series.dropna())"
   ]
  },
  {
   "cell_type": "markdown",
   "metadata": {},
   "source": [
    "<a name=\"colvalues\"></a>"
   ]
  },
  {
   "cell_type": "code",
   "execution_count": 9,
   "metadata": {},
   "outputs": [
    {
     "name": "stdout",
     "output_type": "stream",
     "text": [
      "NA count: 177\n"
     ]
    },
    {
     "data": {
      "image/png": "[encoded data removed]",
      "text/plain": [
       "<Figure size 432x288 with 1 Axes>"
      ]
     },
     "metadata": {},
     "output_type": "display_data"
    }
   ],
   "source": [
    "if np.issubdtype(column_series.dtype,np.number):\n",
    "    print(\"NA count: {}\".format(np.sum(pd.isnull(column_series))))\n",
    "    plt.hist(column_series.dropna())\n",
    "else:\n",
    "    print(\"NA count: {}\".format(np.sum(pd.isnull(column_series))))\n",
    "    print(pd.DataFrame(column_series.value_counts(dropna=False)))"
   ]
  },
  {
   "cell_type": "markdown",
   "metadata": {},
   "source": [
    "# <font color=\"goldenrod\">Look at data filtered by the selected column</font>"
   ]
  },
  {
   "cell_type": "code",
   "execution_count": 10,
   "metadata": {},
   "outputs": [
    {
     "data": {
      "application/javascript": [
       "\n",
       "define('activehtml', [\"jupyter-js-widgets\"], function(widgets) {\n",
       "    var ActiveHTMLView = widgets.HTMLView.extend({\n",
       "        update: function() {\n",
       "            $(this.el).html(this.model.get('value'));\n",
       "        }\n",
       "    });\n",
       "    return {\n",
       "        ActiveHTMLView: ActiveHTMLView\n",
       "    };\n",
       "});\n"
      ],
      "text/plain": [
       "<IPython.core.display.Javascript object>"
      ]
     },
     "metadata": {},
     "output_type": "display_data"
    },
    {
     "data": {
      "application/vnd.jupyter.widget-view+json": {
       "model_id": "4b2679892e9c4694820089e451f67f73",
       "version_major": 2,
       "version_minor": 0
      },
      "text/plain": [
       "VBox(children=(HTML(value='\\n        <style>\\n          .ttip { position: relative; display: inline-block; }\\n…"
      ]
     },
     "metadata": {},
     "output_type": "display_data"
    },
    {
     "data": {
      "application/javascript": [
       "\n",
       "       var num = 1;\n",
       "       var run = false;\n",
       "       var current = $(this)[0];\n",
       "       $.each(IPython.notebook.get_cells(), function (idx, cell) {\n",
       "          if ((cell.output_area === current) && !run) {\n",
       "             run = true;\n",
       "          } else if ((cell.cell_type == 'code') && !(num < 1) && run) {\n",
       "             cell.execute();\n",
       "             num = num - 1;\n",
       "          }\n",
       "       });\n",
       "    "
      ],
      "text/plain": [
       "<IPython.core.display.Javascript object>"
      ]
     },
     "metadata": {},
     "output_type": "display_data"
    },
    {
     "data": {
      "application/javascript": [
       "\n",
       "       var num = 1;\n",
       "       var run = false;\n",
       "       var current = $(this)[0];\n",
       "       $.each(IPython.notebook.get_cells(), function (idx, cell) {\n",
       "          if ((cell.output_area === current) && !run) {\n",
       "             run = true;\n",
       "          } else if ((cell.cell_type == 'code') && !(num < 1) && run) {\n",
       "             cell.execute();\n",
       "             num = num - 1;\n",
       "          }\n",
       "       });\n",
       "    "
      ],
      "text/plain": [
       "<IPython.core.display.Javascript object>"
      ]
     },
     "metadata": {},
     "output_type": "display_data"
    },
    {
     "data": {
      "application/javascript": [
       "\n",
       "       var num = 1;\n",
       "       var run = false;\n",
       "       var current = $(this)[0];\n",
       "       $.each(IPython.notebook.get_cells(), function (idx, cell) {\n",
       "          if ((cell.output_area === current) && !run) {\n",
       "             run = true;\n",
       "          } else if ((cell.cell_type == 'code') && !(num < 1) && run) {\n",
       "             cell.execute();\n",
       "             num = num - 1;\n",
       "          }\n",
       "       });\n",
       "    "
      ],
      "text/plain": [
       "<IPython.core.display.Javascript object>"
      ]
     },
     "metadata": {},
     "output_type": "display_data"
    }
   ],
   "source": [
    "if np.issubdtype(column_series.dtype,np.number):\n",
    "    class FilterSelector(param.Parameterized):\n",
    "        filter_by_value=param.Range(bounds=(column_series.min(), column_series.max()))\n",
    "else:    \n",
    "    class FilterSelector(param.Parameterized):\n",
    "        filter_by_value=param.ObjectSelector(objects=column_series.values)\n",
    "\n",
    "if not np.issubdtype(column_series.dtype,np.number):\n",
    "# May take too long to load\n",
    "    if len(column_series.unique())<2000:\n",
    "        paramnb.Widgets(FilterSelector,next_n=1)\n",
    "else:\n",
    "    paramnb.Widgets(FilterSelector,next_n=1)"
   ]
  },
  {
   "cell_type": "code",
   "execution_count": 13,
   "metadata": {
    "scrolled": false
   },
   "outputs": [
    {
     "data": {
      "text/html": [
       "<div>\n",
       "<style scoped>\n",
       "    .dataframe tbody tr th:only-of-type {\n",
       "        vertical-align: middle;\n",
       "    }\n",
       "\n",
       "    .dataframe tbody tr th {\n",
       "        vertical-align: top;\n",
       "    }\n",
       "\n",
       "    .dataframe thead th {\n",
       "        text-align: right;\n",
       "    }\n",
       "</style>\n",
       "<table border=\"1\" class=\"dataframe\">\n",
       "  <thead>\n",
       "    <tr style=\"text-align: right;\">\n",
       "      <th></th>\n",
       "      <th>672</th>\n",
       "      <th>625</th>\n",
       "      <th>675</th>\n",
       "      <th>693</th>\n",
       "      <th>775</th>\n",
       "      <th>536</th>\n",
       "      <th>389</th>\n",
       "      <th>56</th>\n",
       "      <th>695</th>\n",
       "      <th>794</th>\n",
       "    </tr>\n",
       "  </thead>\n",
       "  <tbody>\n",
       "    <tr>\n",
       "      <th>PassengerId</th>\n",
       "      <td>673</td>\n",
       "      <td>626</td>\n",
       "      <td>676</td>\n",
       "      <td>694</td>\n",
       "      <td>776</td>\n",
       "      <td>537</td>\n",
       "      <td>390</td>\n",
       "      <td>57</td>\n",
       "      <td>696</td>\n",
       "      <td>795</td>\n",
       "    </tr>\n",
       "    <tr>\n",
       "      <th>Survived</th>\n",
       "      <td>0</td>\n",
       "      <td>0</td>\n",
       "      <td>0</td>\n",
       "      <td>0</td>\n",
       "      <td>0</td>\n",
       "      <td>0</td>\n",
       "      <td>1</td>\n",
       "      <td>1</td>\n",
       "      <td>0</td>\n",
       "      <td>0</td>\n",
       "    </tr>\n",
       "    <tr>\n",
       "      <th>Pclass</th>\n",
       "      <td>2</td>\n",
       "      <td>1</td>\n",
       "      <td>3</td>\n",
       "      <td>3</td>\n",
       "      <td>3</td>\n",
       "      <td>1</td>\n",
       "      <td>2</td>\n",
       "      <td>2</td>\n",
       "      <td>2</td>\n",
       "      <td>3</td>\n",
       "    </tr>\n",
       "    <tr>\n",
       "      <th>Name</th>\n",
       "      <td>Mitchell, Mr. Henry Michael</td>\n",
       "      <td>Sutton, Mr. Frederick</td>\n",
       "      <td>Edvardsson, Mr. Gustaf Hjalmar</td>\n",
       "      <td>Saad, Mr. Khalil</td>\n",
       "      <td>Myhrman, Mr. Pehr Fabian Oliver Malkolm</td>\n",
       "      <td>Butt, Major. Archibald Willingham</td>\n",
       "      <td>Lehmann, Miss. Bertha</td>\n",
       "      <td>Rugg, Miss. Emily</td>\n",
       "      <td>Chapman, Mr. Charles Henry</td>\n",
       "      <td>Dantcheff, Mr. Ristiu</td>\n",
       "    </tr>\n",
       "    <tr>\n",
       "      <th>Sex</th>\n",
       "      <td>male</td>\n",
       "      <td>male</td>\n",
       "      <td>male</td>\n",
       "      <td>male</td>\n",
       "      <td>male</td>\n",
       "      <td>male</td>\n",
       "      <td>female</td>\n",
       "      <td>female</td>\n",
       "      <td>male</td>\n",
       "      <td>male</td>\n",
       "    </tr>\n",
       "    <tr>\n",
       "      <th>Age</th>\n",
       "      <td>70</td>\n",
       "      <td>61</td>\n",
       "      <td>18</td>\n",
       "      <td>25</td>\n",
       "      <td>18</td>\n",
       "      <td>45</td>\n",
       "      <td>17</td>\n",
       "      <td>21</td>\n",
       "      <td>52</td>\n",
       "      <td>25</td>\n",
       "    </tr>\n",
       "    <tr>\n",
       "      <th>SibSp</th>\n",
       "      <td>0</td>\n",
       "      <td>0</td>\n",
       "      <td>0</td>\n",
       "      <td>0</td>\n",
       "      <td>0</td>\n",
       "      <td>0</td>\n",
       "      <td>0</td>\n",
       "      <td>0</td>\n",
       "      <td>0</td>\n",
       "      <td>0</td>\n",
       "    </tr>\n",
       "    <tr>\n",
       "      <th>Parch</th>\n",
       "      <td>0</td>\n",
       "      <td>0</td>\n",
       "      <td>0</td>\n",
       "      <td>0</td>\n",
       "      <td>0</td>\n",
       "      <td>0</td>\n",
       "      <td>0</td>\n",
       "      <td>0</td>\n",
       "      <td>0</td>\n",
       "      <td>0</td>\n",
       "    </tr>\n",
       "    <tr>\n",
       "      <th>Ticket</th>\n",
       "      <td>C.A. 24580</td>\n",
       "      <td>36963</td>\n",
       "      <td>349912</td>\n",
       "      <td>2672</td>\n",
       "      <td>347078</td>\n",
       "      <td>113050</td>\n",
       "      <td>SC 1748</td>\n",
       "      <td>C.A. 31026</td>\n",
       "      <td>248731</td>\n",
       "      <td>349203</td>\n",
       "    </tr>\n",
       "    <tr>\n",
       "      <th>Fare</th>\n",
       "      <td>10.5</td>\n",
       "      <td>32.3208</td>\n",
       "      <td>7.775</td>\n",
       "      <td>7.225</td>\n",
       "      <td>7.75</td>\n",
       "      <td>26.55</td>\n",
       "      <td>12</td>\n",
       "      <td>10.5</td>\n",
       "      <td>13.5</td>\n",
       "      <td>7.8958</td>\n",
       "    </tr>\n",
       "    <tr>\n",
       "      <th>Cabin</th>\n",
       "      <td>NaN</td>\n",
       "      <td>D50</td>\n",
       "      <td>NaN</td>\n",
       "      <td>NaN</td>\n",
       "      <td>NaN</td>\n",
       "      <td>B38</td>\n",
       "      <td>NaN</td>\n",
       "      <td>NaN</td>\n",
       "      <td>NaN</td>\n",
       "      <td>NaN</td>\n",
       "    </tr>\n",
       "    <tr>\n",
       "      <th>Embarked</th>\n",
       "      <td>S</td>\n",
       "      <td>S</td>\n",
       "      <td>S</td>\n",
       "      <td>C</td>\n",
       "      <td>S</td>\n",
       "      <td>S</td>\n",
       "      <td>C</td>\n",
       "      <td>S</td>\n",
       "      <td>S</td>\n",
       "      <td>S</td>\n",
       "    </tr>\n",
       "  </tbody>\n",
       "</table>\n",
       "</div>"
      ],
      "text/plain": [
       "                                     672                    625  \\\n",
       "PassengerId                          673                    626   \n",
       "Survived                               0                      0   \n",
       "Pclass                                 2                      1   \n",
       "Name         Mitchell, Mr. Henry Michael  Sutton, Mr. Frederick   \n",
       "Sex                                 male                   male   \n",
       "Age                                   70                     61   \n",
       "SibSp                                  0                      0   \n",
       "Parch                                  0                      0   \n",
       "Ticket                        C.A. 24580                  36963   \n",
       "Fare                                10.5                32.3208   \n",
       "Cabin                                NaN                    D50   \n",
       "Embarked                               S                      S   \n",
       "\n",
       "                                        675               693  \\\n",
       "PassengerId                             676               694   \n",
       "Survived                                  0                 0   \n",
       "Pclass                                    3                 3   \n",
       "Name         Edvardsson, Mr. Gustaf Hjalmar  Saad, Mr. Khalil   \n",
       "Sex                                    male              male   \n",
       "Age                                      18                25   \n",
       "SibSp                                     0                 0   \n",
       "Parch                                     0                 0   \n",
       "Ticket                               349912              2672   \n",
       "Fare                                  7.775             7.225   \n",
       "Cabin                                   NaN               NaN   \n",
       "Embarked                                  S                 C   \n",
       "\n",
       "                                                 775  \\\n",
       "PassengerId                                      776   \n",
       "Survived                                           0   \n",
       "Pclass                                             3   \n",
       "Name         Myhrman, Mr. Pehr Fabian Oliver Malkolm   \n",
       "Sex                                             male   \n",
       "Age                                               18   \n",
       "SibSp                                              0   \n",
       "Parch                                              0   \n",
       "Ticket                                        347078   \n",
       "Fare                                            7.75   \n",
       "Cabin                                            NaN   \n",
       "Embarked                                           S   \n",
       "\n",
       "                                           536                    389  \\\n",
       "PassengerId                                537                    390   \n",
       "Survived                                     0                      1   \n",
       "Pclass                                       1                      2   \n",
       "Name         Butt, Major. Archibald Willingham  Lehmann, Miss. Bertha   \n",
       "Sex                                       male                 female   \n",
       "Age                                         45                     17   \n",
       "SibSp                                        0                      0   \n",
       "Parch                                        0                      0   \n",
       "Ticket                                  113050                SC 1748   \n",
       "Fare                                     26.55                     12   \n",
       "Cabin                                      B38                    NaN   \n",
       "Embarked                                     S                      C   \n",
       "\n",
       "                           56                          695  \\\n",
       "PassengerId                 57                         696   \n",
       "Survived                     1                           0   \n",
       "Pclass                       2                           2   \n",
       "Name         Rugg, Miss. Emily  Chapman, Mr. Charles Henry   \n",
       "Sex                     female                        male   \n",
       "Age                         21                          52   \n",
       "SibSp                        0                           0   \n",
       "Parch                        0                           0   \n",
       "Ticket              C.A. 31026                      248731   \n",
       "Fare                      10.5                        13.5   \n",
       "Cabin                      NaN                         NaN   \n",
       "Embarked                     S                           S   \n",
       "\n",
       "                               794  \n",
       "PassengerId                    795  \n",
       "Survived                         0  \n",
       "Pclass                           3  \n",
       "Name         Dantcheff, Mr. Ristiu  \n",
       "Sex                           male  \n",
       "Age                             25  \n",
       "SibSp                            0  \n",
       "Parch                            0  \n",
       "Ticket                      349203  \n",
       "Fare                        7.8958  \n",
       "Cabin                          NaN  \n",
       "Embarked                         S  "
      ]
     },
     "metadata": {},
     "output_type": "display_data"
    }
   ],
   "source": [
    "if np.issubdtype(column_series.dtype,np.number):\n",
    "    display(df[list(df[ColumnSelector.selected_col]>=FilterSelector.filter_by_value[0]) and list(df[ColumnSelector.selected_col]<=FilterSelector.filter_by_value[1])].sample(10).transpose())\n",
    "else:\n",
    "    display(df[df[ColumnSelector.selected_col]==FilterSelector.filter_by_value].sample(10).transpose())"
   ]
  },
  {
   "cell_type": "markdown",
   "metadata": {},
   "source": [
    "# <font color=\"goldenrod\">Distribution of a column after filtering</font>"
   ]
  },
  {
   "cell_type": "code",
   "execution_count": null,
   "metadata": {},
   "outputs": [],
   "source": []
  },
  {
   "cell_type": "markdown",
   "metadata": {},
   "source": [
    "# Do not change codes above, insert your custom codes below"
   ]
  }
 ],
 "metadata": {
  "kernelspec": {
   "display_name": "Python 3",
   "language": "python",
   "name": "python3"
  },
  "language_info": {
   "codemirror_mode": {
    "name": "ipython",
    "version": 3
   },
   "file_extension": ".py",
   "mimetype": "text/x-python",
   "name": "python",
   "nbconvert_exporter": "python",
   "pygments_lexer": "ipython3",
   "version": "3.6.5"
  },
  "widgets": {
   "application/vnd.jupyter.widget-state+json": {
    "state": {
     "01525c5b8d58422881d3186d01da25bb": {
      "model_module": "@jupyter-widgets/base",
      "model_module_version": "1.0.0",
      "model_name": "LayoutModel",
      "state": {}
     },
     "03fc7aa0a5ff4c77bd63597eb7410e84": {
      "model_module": "@jupyter-widgets/controls",
      "model_module_version": "1.2.0",
      "model_name": "DescriptionStyleModel",
      "state": {
       "description_width": ""
      }
     },
     "0bb78962c5c848748617bbdef0bb6970": {
      "model_module": "@jupyter-widgets/controls",
      "model_module_version": "1.2.0",
      "model_name": "HBoxModel",
      "state": {
       "children": [
        "IPY_MODEL_c753ab85fd4940e4b45f2e0ff30b10fe",
        "IPY_MODEL_9023cb5407e642d09b788dbc1a0e677d"
       ],
       "layout": "IPY_MODEL_367d1d8cb0af46599f9337e92e9c6556"
      }
     },
     "155a02f54b85493cad1b4810470d65bb": {
      "model_module": "@jupyter-widgets/base",
      "model_module_version": "1.0.0",
      "model_name": "LayoutModel",
      "state": {}
     },
     "16de254801bf4bf9a98e81b1df6385df": {
      "model_module": "@jupyter-widgets/controls",
      "model_module_version": "1.2.0",
      "model_name": "DescriptionStyleModel",
      "state": {
       "description_width": ""
      }
     },
     "1a976a73630545c29035781c84ca0926": {
      "model_module": "@jupyter-widgets/base",
      "model_module_version": "1.0.0",
      "model_name": "LayoutModel",
      "state": {}
     },
     "214c96e5953d42d8af29620ac29ff88a": {
      "model_module": "@jupyter-widgets/controls",
      "model_module_version": "1.2.0",
      "model_name": "DescriptionStyleModel",
      "state": {
       "description_width": ""
      }
     },
     "227533c0b5a041a782dcea5d7837ab67": {
      "model_module": "@jupyter-widgets/controls",
      "model_module_version": "1.2.0",
      "model_name": "HBoxModel",
      "state": {
       "children": [
        "IPY_MODEL_58614331072443458e249ec782f92677",
        "IPY_MODEL_5a93d2f8d77a4ca082d24c71985245e6"
       ],
       "layout": "IPY_MODEL_5092827ac26248acbaa8fa0372e74800"
      }
     },
     "2e8ef4e03d0d47608d58a0b61db68890": {
      "model_module": "@jupyter-widgets/controls",
      "model_module_version": "1.2.0",
      "model_name": "HBoxModel",
      "state": {
       "children": [
        "IPY_MODEL_8cf151d34a6c49cb84cc5c9784f3e528",
        "IPY_MODEL_722d31b6193f4f5fa6d616ed7bfc1431"
       ],
       "layout": "IPY_MODEL_68889ed283e043a7aa603df5c2c9aca2"
      }
     },
     "30ee0268612e47819aabc1ba834cda8e": {
      "model_module": "@jupyter-widgets/controls",
      "model_module_version": "1.2.0",
      "model_name": "HTMLModel",
      "state": {
       "layout": "IPY_MODEL_5b86bac08fda439c9216c44187e4f2e2",
       "style": "IPY_MODEL_b63ea320f7214942a574ee5c0a3bf95d",
       "value": "\n        <style>\n          .ttip { position: relative; display: inline-block; }\n          .ttip .ttiptext { visibility: hidden; background-color: #F8F8F8; outline: #CCCCCC solid thin;\n             color: black; border-radius: 2px; padding: 2px; text-align: center;\n             position: absolute; left: 53%; top: 30px; box-shadow: 7px 7px 10px #DDDDDD;\n             z-index: 100; min-width: 100px; font-size: 80%}\n          .ttip:hover .ttiptext { visibility: visible; }\n          .widget-dropdown .dropdown-menu { width: 100% }\n          .widget-select-multiple select { min-height: 100px; min-width: 300px;}\n        </style>\n        <div class=\"ttip\"><b>ColumnSelector</b></div>"
      }
     },
     "360e91817f344c0cac3c440a6fe6ae88": {
      "model_module": "@jupyter-widgets/base",
      "model_module_version": "1.0.0",
      "model_name": "LayoutModel",
      "state": {}
     },
     "367d1d8cb0af46599f9337e92e9c6556": {
      "model_module": "@jupyter-widgets/base",
      "model_module_version": "1.0.0",
      "model_name": "LayoutModel",
      "state": {}
     },
     "39032384422d49b2bdcd894f48872cda": {
      "model_module": "@jupyter-widgets/base",
      "model_module_version": "1.0.0",
      "model_name": "LayoutModel",
      "state": {
       "display": "flex",
       "flex_flow": "column"
      }
     },
     "4802feb8561e49538b0d93ab41168046": {
      "model_module": "@jupyter-widgets/controls",
      "model_module_version": "1.2.0",
      "model_name": "DescriptionStyleModel",
      "state": {
       "description_width": ""
      }
     },
     "4b2679892e9c4694820089e451f67f73": {
      "model_module": "@jupyter-widgets/controls",
      "model_module_version": "1.2.0",
      "model_name": "VBoxModel",
      "state": {
       "children": [
        "IPY_MODEL_eed65272ee3846cd94bbd94a0d1839bb",
        "IPY_MODEL_0bb78962c5c848748617bbdef0bb6970"
       ],
       "layout": "IPY_MODEL_e3c45a93907241c9a098c4e824fdba6b"
      }
     },
     "5092827ac26248acbaa8fa0372e74800": {
      "model_module": "@jupyter-widgets/base",
      "model_module_version": "1.0.0",
      "model_name": "LayoutModel",
      "state": {}
     },
     "539e8075382741febe69343cbce8d5fa": {
      "model_module": "@jupyter-widgets/controls",
      "model_module_version": "1.2.0",
      "model_name": "HTMLModel",
      "state": {
       "layout": "IPY_MODEL_a0ec5c9f77274bf3b56341e0642fd651",
       "style": "IPY_MODEL_552ffb36be8340eabb1381022f9b8f56",
       "value": "\n        <style>\n          .ttip { position: relative; display: inline-block; }\n          .ttip .ttiptext { visibility: hidden; background-color: #F8F8F8; outline: #CCCCCC solid thin;\n             color: black; border-radius: 2px; padding: 2px; text-align: center;\n             position: absolute; left: 53%; top: 30px; box-shadow: 7px 7px 10px #DDDDDD;\n             z-index: 100; min-width: 100px; font-size: 80%}\n          .ttip:hover .ttiptext { visibility: visible; }\n          .widget-dropdown .dropdown-menu { width: 100% }\n          .widget-select-multiple select { min-height: 100px; min-width: 300px;}\n        </style>\n        <div class=\"ttip\"><b>FileSelector</b></div>"
      }
     },
     "552ffb36be8340eabb1381022f9b8f56": {
      "model_module": "@jupyter-widgets/controls",
      "model_module_version": "1.2.0",
      "model_name": "DescriptionStyleModel",
      "state": {
       "description_width": ""
      }
     },
     "58614331072443458e249ec782f92677": {
      "model_module": "@jupyter-widgets/controls",
      "model_module_version": "1.2.0",
      "model_name": "HTMLModel",
      "state": {
       "layout": "IPY_MODEL_360e91817f344c0cac3c440a6fe6ae88",
       "style": "IPY_MODEL_f9816843aa5741598f7150f8b47822eb",
       "value": "<div class=\"ttip\" style=\"padding: 5px; width: 97px;\n                      text-align: right;\">file_encoding</div>"
      }
     },
     "5a93d2f8d77a4ca082d24c71985245e6": {
      "model_module": "@jupyter-widgets/controls",
      "model_module_version": "1.2.0",
      "model_name": "DropdownModel",
      "state": {
       "_options_labels": [
        "utf-8",
        "latin1"
       ],
       "index": 0,
       "layout": "IPY_MODEL_b22f797ca2f446ca8408fe9803a146f2",
       "style": "IPY_MODEL_4802feb8561e49538b0d93ab41168046"
      }
     },
     "5b86bac08fda439c9216c44187e4f2e2": {
      "model_module": "@jupyter-widgets/base",
      "model_module_version": "1.0.0",
      "model_name": "LayoutModel",
      "state": {}
     },
     "5ca39d9dbb314a22a6863174959666a9": {
      "model_module": "@jupyter-widgets/controls",
      "model_module_version": "1.2.0",
      "model_name": "DropdownModel",
      "state": {
       "_options_labels": [
        "train.csv"
       ],
       "index": 0,
       "layout": "IPY_MODEL_74ef97ca31704f3f8ed7c13f9f3ba3fb",
       "style": "IPY_MODEL_214c96e5953d42d8af29620ac29ff88a"
      }
     },
     "67bd0c72efb74059a355ab4acba8feee": {
      "model_module": "@jupyter-widgets/controls",
      "model_module_version": "1.2.0",
      "model_name": "HBoxModel",
      "state": {
       "children": [
        "IPY_MODEL_b1ee7b12301d4f5d9b66687a82c58070",
        "IPY_MODEL_f7fcab41c42c434a8e8c984fdd142328"
       ],
       "layout": "IPY_MODEL_e5eef291849a42a99d23a45133fafba1"
      }
     },
     "68889ed283e043a7aa603df5c2c9aca2": {
      "model_module": "@jupyter-widgets/base",
      "model_module_version": "1.0.0",
      "model_name": "LayoutModel",
      "state": {}
     },
     "6e177c3e77cf4a1b9acddedbe19979a8": {
      "model_module": "@jupyter-widgets/controls",
      "model_module_version": "1.2.0",
      "model_name": "HBoxModel",
      "state": {
       "children": [
        "IPY_MODEL_c97ff07bddcd47a592e5d00ff58616c9",
        "IPY_MODEL_5ca39d9dbb314a22a6863174959666a9"
       ],
       "layout": "IPY_MODEL_155a02f54b85493cad1b4810470d65bb"
      }
     },
     "722d31b6193f4f5fa6d616ed7bfc1431": {
      "model_module": "@jupyter-widgets/controls",
      "model_module_version": "1.2.0",
      "model_name": "DropdownModel",
      "state": {
       "_options_labels": [
        "PassengerId",
        "Survived",
        "Pclass",
        "Name",
        "Sex",
        "Age",
        "SibSp",
        "Parch",
        "Ticket",
        "Fare",
        "Cabin",
        "Embarked"
       ],
       "index": 5,
       "layout": "IPY_MODEL_e958203b7183433a9aa768cf9aa60ba5",
       "style": "IPY_MODEL_aab619722aad47099042ca2717106d68"
      }
     },
     "73082164be4d49aeafcd1373f354a4ab": {
      "model_module": "@jupyter-widgets/controls",
      "model_module_version": "1.2.0",
      "model_name": "VBoxModel",
      "state": {
       "children": [
        "IPY_MODEL_30ee0268612e47819aabc1ba834cda8e",
        "IPY_MODEL_67bd0c72efb74059a355ab4acba8feee",
        "IPY_MODEL_2e8ef4e03d0d47608d58a0b61db68890"
       ],
       "layout": "IPY_MODEL_c94050de1ce14b959af09560d52e31e3"
      }
     },
     "74ef97ca31704f3f8ed7c13f9f3ba3fb": {
      "model_module": "@jupyter-widgets/base",
      "model_module_version": "1.0.0",
      "model_name": "LayoutModel",
      "state": {
       "border": "0px"
      }
     },
     "8b04471d1e9d4f8cbb1a1cd29c838c1d": {
      "model_module": "@jupyter-widgets/controls",
      "model_module_version": "1.2.0",
      "model_name": "DescriptionStyleModel",
      "state": {
       "description_width": ""
      }
     },
     "8cf151d34a6c49cb84cc5c9784f3e528": {
      "model_module": "@jupyter-widgets/controls",
      "model_module_version": "1.2.0",
      "model_name": "HTMLModel",
      "state": {
       "layout": "IPY_MODEL_ae96e42331aa43668a15d94491b3462e",
       "style": "IPY_MODEL_16de254801bf4bf9a98e81b1df6385df",
       "value": "<div class=\"ttip\" style=\"padding: 5px; width: 97px;\n                      text-align: right;\">selected_col</div>"
      }
     },
     "9023cb5407e642d09b788dbc1a0e677d": {
      "model_module": "@jupyter-widgets/controls",
      "model_module_version": "1.2.0",
      "model_name": "FloatRangeSliderModel",
      "state": {
       "_model_name": "FloatRangeSliderModel",
       "_view_name": "FloatRangeSliderView",
       "continuous_update": false,
       "layout": "IPY_MODEL_f96bf81036d24c36aaf79a5a28296c2d",
       "max": 80,
       "min": 0.42,
       "step": 1.5916,
       "style": "IPY_MODEL_955478fcdf1e45a1a5212e0af51f40ea",
       "value": [
        65,
        80
       ]
      }
     },
     "955478fcdf1e45a1a5212e0af51f40ea": {
      "model_module": "@jupyter-widgets/controls",
      "model_module_version": "1.2.0",
      "model_name": "SliderStyleModel",
      "state": {
       "description_width": ""
      }
     },
     "a0ec5c9f77274bf3b56341e0642fd651": {
      "model_module": "@jupyter-widgets/base",
      "model_module_version": "1.0.0",
      "model_name": "LayoutModel",
      "state": {}
     },
     "a73031344e874f02a15094658968aaf0": {
      "model_module": "@jupyter-widgets/controls",
      "model_module_version": "1.2.0",
      "model_name": "DescriptionStyleModel",
      "state": {
       "description_width": ""
      }
     },
     "a9957d412cae466f94e4207a663cd029": {
      "model_module": "@jupyter-widgets/base",
      "model_module_version": "1.0.0",
      "model_name": "LayoutModel",
      "state": {}
     },
     "aab619722aad47099042ca2717106d68": {
      "model_module": "@jupyter-widgets/controls",
      "model_module_version": "1.2.0",
      "model_name": "DescriptionStyleModel",
      "state": {
       "description_width": ""
      }
     },
     "ae96e42331aa43668a15d94491b3462e": {
      "model_module": "@jupyter-widgets/base",
      "model_module_version": "1.0.0",
      "model_name": "LayoutModel",
      "state": {}
     },
     "b1ee7b12301d4f5d9b66687a82c58070": {
      "model_module": "@jupyter-widgets/controls",
      "model_module_version": "1.2.0",
      "model_name": "HTMLModel",
      "state": {
       "layout": "IPY_MODEL_01525c5b8d58422881d3186d01da25bb",
       "style": "IPY_MODEL_8b04471d1e9d4f8cbb1a1cd29c838c1d",
       "value": "<div class=\"ttip\" style=\"padding: 5px; width: 97px;\n                      text-align: right;\">convert_dtype</div>"
      }
     },
     "b22f797ca2f446ca8408fe9803a146f2": {
      "model_module": "@jupyter-widgets/base",
      "model_module_version": "1.0.0",
      "model_name": "LayoutModel",
      "state": {}
     },
     "b476f66704ab4d22a7ad1675f8b6664e": {
      "model_module": "@jupyter-widgets/controls",
      "model_module_version": "1.2.0",
      "model_name": "VBoxModel",
      "state": {
       "children": [
        "IPY_MODEL_539e8075382741febe69343cbce8d5fa",
        "IPY_MODEL_227533c0b5a041a782dcea5d7837ab67",
        "IPY_MODEL_6e177c3e77cf4a1b9acddedbe19979a8"
       ],
       "layout": "IPY_MODEL_39032384422d49b2bdcd894f48872cda"
      }
     },
     "b63ea320f7214942a574ee5c0a3bf95d": {
      "model_module": "@jupyter-widgets/controls",
      "model_module_version": "1.2.0",
      "model_name": "DescriptionStyleModel",
      "state": {
       "description_width": ""
      }
     },
     "bae6120046954fbdbbb1a961f79d14ac": {
      "model_module": "@jupyter-widgets/controls",
      "model_module_version": "1.2.0",
      "model_name": "DescriptionStyleModel",
      "state": {
       "description_width": ""
      }
     },
     "c753ab85fd4940e4b45f2e0ff30b10fe": {
      "model_module": "@jupyter-widgets/controls",
      "model_module_version": "1.2.0",
      "model_name": "HTMLModel",
      "state": {
       "layout": "IPY_MODEL_e1d5325c455a4756b54fd3c353bb83ac",
       "style": "IPY_MODEL_d9e8eb7d3bc547cf9dcbbd5f76df6c4c",
       "value": "<div class=\"ttip\" style=\"padding: 5px; width: 112px;\n                      text-align: right;\">filter_by_value</div>"
      }
     },
     "c94050de1ce14b959af09560d52e31e3": {
      "model_module": "@jupyter-widgets/base",
      "model_module_version": "1.0.0",
      "model_name": "LayoutModel",
      "state": {
       "display": "flex",
       "flex_flow": "column"
      }
     },
     "c97ff07bddcd47a592e5d00ff58616c9": {
      "model_module": "@jupyter-widgets/controls",
      "model_module_version": "1.2.0",
      "model_name": "HTMLModel",
      "state": {
       "layout": "IPY_MODEL_d5de2629403f4dd7804d0d55cccb2bce",
       "style": "IPY_MODEL_a73031344e874f02a15094658968aaf0",
       "value": "<div class=\"ttip\" style=\"padding: 5px; width: 97px;\n                      text-align: right;\">selected_file</div>"
      }
     },
     "d5de2629403f4dd7804d0d55cccb2bce": {
      "model_module": "@jupyter-widgets/base",
      "model_module_version": "1.0.0",
      "model_name": "LayoutModel",
      "state": {}
     },
     "d9e8eb7d3bc547cf9dcbbd5f76df6c4c": {
      "model_module": "@jupyter-widgets/controls",
      "model_module_version": "1.2.0",
      "model_name": "DescriptionStyleModel",
      "state": {
       "description_width": ""
      }
     },
     "e1d5325c455a4756b54fd3c353bb83ac": {
      "model_module": "@jupyter-widgets/base",
      "model_module_version": "1.0.0",
      "model_name": "LayoutModel",
      "state": {}
     },
     "e3c45a93907241c9a098c4e824fdba6b": {
      "model_module": "@jupyter-widgets/base",
      "model_module_version": "1.0.0",
      "model_name": "LayoutModel",
      "state": {
       "display": "flex",
       "flex_flow": "column"
      }
     },
     "e5eef291849a42a99d23a45133fafba1": {
      "model_module": "@jupyter-widgets/base",
      "model_module_version": "1.0.0",
      "model_name": "LayoutModel",
      "state": {}
     },
     "e958203b7183433a9aa768cf9aa60ba5": {
      "model_module": "@jupyter-widgets/base",
      "model_module_version": "1.0.0",
      "model_name": "LayoutModel",
      "state": {
       "border": "0px"
      }
     },
     "eed65272ee3846cd94bbd94a0d1839bb": {
      "model_module": "@jupyter-widgets/controls",
      "model_module_version": "1.2.0",
      "model_name": "HTMLModel",
      "state": {
       "layout": "IPY_MODEL_1a976a73630545c29035781c84ca0926",
       "style": "IPY_MODEL_03fc7aa0a5ff4c77bd63597eb7410e84",
       "value": "\n        <style>\n          .ttip { position: relative; display: inline-block; }\n          .ttip .ttiptext { visibility: hidden; background-color: #F8F8F8; outline: #CCCCCC solid thin;\n             color: black; border-radius: 2px; padding: 2px; text-align: center;\n             position: absolute; left: 53%; top: 30px; box-shadow: 7px 7px 10px #DDDDDD;\n             z-index: 100; min-width: 100px; font-size: 80%}\n          .ttip:hover .ttiptext { visibility: visible; }\n          .widget-dropdown .dropdown-menu { width: 100% }\n          .widget-select-multiple select { min-height: 100px; min-width: 300px;}\n        </style>\n        <div class=\"ttip\"><b>FilterSelector</b></div>"
      }
     },
     "f7fcab41c42c434a8e8c984fdd142328": {
      "model_module": "@jupyter-widgets/controls",
      "model_module_version": "1.2.0",
      "model_name": "DropdownModel",
      "state": {
       "_options_labels": [
        "Do not convert",
        "Numeric (remove commas)"
       ],
       "index": 0,
       "layout": "IPY_MODEL_a9957d412cae466f94e4207a663cd029",
       "style": "IPY_MODEL_bae6120046954fbdbbb1a961f79d14ac"
      }
     },
     "f96bf81036d24c36aaf79a5a28296c2d": {
      "model_module": "@jupyter-widgets/base",
      "model_module_version": "1.0.0",
      "model_name": "LayoutModel",
      "state": {
       "border": "0px"
      }
     },
     "f9816843aa5741598f7150f8b47822eb": {
      "model_module": "@jupyter-widgets/controls",
      "model_module_version": "1.2.0",
      "model_name": "DescriptionStyleModel",
      "state": {
       "description_width": ""
      }
     }
    },
    "version_major": 2,
    "version_minor": 0
   }
  }
 },
 "nbformat": 4,
 "nbformat_minor": 2
}
