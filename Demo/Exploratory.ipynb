{
 "cells": [
  {
   "cell_type": "code",
   "execution_count": 1,
   "metadata": {},
   "outputs": [],
   "source": [
    "import pandas as pd\n",
    "import numpy as np\n",
    "import matplotlib.pyplot as plt\n",
    "\n",
    "import glob\n",
    "# Requires paramnb package to be installed\n",
    "import param,paramnb"
   ]
  },
  {
   "cell_type": "markdown",
   "metadata": {},
   "source": [
    "# Contents\n",
    "### Data Frame\n",
    "<div style=\"margin-left:50px\">\n",
    "<a href=\"#filesel\">File selector</a><br>\n",
    "<a href=\"#shape\">Shape</a><br>\n",
    "<a href=\"#cols\">Column names and data types</a><br>\n",
    "<a href=\"#preview\">Preview</a><br>\n",
    "</div>\n",
    "\n",
    "### Column\n",
    "<div style=\"margin-left:50px\">\n",
    "<a href=\"#colsel\">Column selector</a><br>\n",
    "<a href=\"#coldescription\">Description</a><br>\n",
    "<a href=\"#colvalues\">Values count</a><br>\n",
    "</div>\n",
    "\n",
    "### Filter\n",
    "<div style=\"margin-left:50px\">\n",
    "<a href=\"#colsel\">Column selector</a><br>\n",
    "</div>"
   ]
  },
  {
   "cell_type": "code",
   "execution_count": 2,
   "metadata": {},
   "outputs": [],
   "source": [
    "# Define global variables\n",
    "\n",
    "available_encodings=[\n",
    "\"utf-8\",\n",
    "\"latin1\"\n",
    "]\n",
    "\n",
    "available_dtypes=[\n",
    "    \"Do not convert\",\n",
    "    \"Numeric (remove commas)\"\n",
    "]\n",
    "\n",
    "class DataConverters():\n",
    "    def remove_commas(series):\n",
    "        for i,val in enumerate(series):\n",
    "            if type(val)==\"str\":\n",
    "                series[i]=str(series[i]).replace(\",\",\"\")\n",
    "        return series"
   ]
  },
  {
   "cell_type": "markdown",
   "metadata": {},
   "source": [
    "# <font color=\"goldenrod\">Enter a list of input files here to get started </font>"
   ]
  },
  {
   "cell_type": "markdown",
   "metadata": {},
   "source": [
    "<a name=\"filesel\"></a>"
   ]
  },
  {
   "cell_type": "code",
   "execution_count": 3,
   "metadata": {},
   "outputs": [
    {
     "data": {
      "application/javascript": [
       "\n",
       "define('activehtml', [\"jupyter-js-widgets\"], function(widgets) {\n",
       "    var ActiveHTMLView = widgets.HTMLView.extend({\n",
       "        update: function() {\n",
       "            $(this.el).html(this.model.get('value'));\n",
       "        }\n",
       "    });\n",
       "    return {\n",
       "        ActiveHTMLView: ActiveHTMLView\n",
       "    };\n",
       "});\n"
      ],
      "text/plain": [
       "<IPython.core.display.Javascript object>"
      ]
     },
     "metadata": {},
     "output_type": "display_data"
    },
    {
     "data": {
      "application/vnd.jupyter.widget-view+json": {
       "model_id": "b476f66704ab4d22a7ad1675f8b6664e",
       "version_major": 2,
       "version_minor": 0
      },
      "text/plain": [
       "VBox(children=(HTML(value='\\n        <style>\\n          .ttip { position: relative; display: inline-block; }\\n…"
      ]
     },
     "metadata": {},
     "output_type": "display_data"
    },
    {
     "data": {
      "application/javascript": [
       "\n",
       "       var num = 4;\n",
       "       var run = false;\n",
       "       var current = $(this)[0];\n",
       "       $.each(IPython.notebook.get_cells(), function (idx, cell) {\n",
       "          if ((cell.output_area === current) && !run) {\n",
       "             run = true;\n",
       "          } else if ((cell.cell_type == 'code') && !(num < 1) && run) {\n",
       "             cell.execute();\n",
       "             num = num - 1;\n",
       "          }\n",
       "       });\n",
       "    "
      ],
      "text/plain": [
       "<IPython.core.display.Javascript object>"
      ]
     },
     "metadata": {},
     "output_type": "display_data"
    }
   ],
   "source": [
    "# A list of input files\n",
    "\n",
    "# obtained by wildcard\n",
    "#path2files=glob.glob(\"\")\n",
    "\n",
    "# OR from a list\n",
    "path2files=[\n",
    "    \"train.csv\"\n",
    "]\n",
    "\n",
    "class FileSelector(param.Parameterized):\n",
    "    selected_file=param.ObjectSelector(objects=path2files)\n",
    "    file_encoding=param.ObjectSelector(default=\"utf-8\",objects=available_encodings)\n",
    "\n",
    "paramnb.Widgets(FileSelector,next_n=4)"
   ]
  },
  {
   "cell_type": "markdown",
   "metadata": {},
   "source": [
    "<a name=\"shape\"></a>"
   ]
  },
  {
   "cell_type": "code",
   "execution_count": 4,
   "metadata": {
    "scrolled": true
   },
   "outputs": [
    {
     "name": "stdout",
     "output_type": "stream",
     "text": [
      "Rows: 891\tCols: 12\n"
     ]
    }
   ],
   "source": [
    "# Read file into a data frame\n",
    "if FileSelector.selected_file.endswith(\"csv\"):\n",
    "    df=pd.read_csv(FileSelector.selected_file,encoding=FileSelector.file_encoding)\n",
    "elif FileSelector.selected_file.endswith(\"xlsx\") or FileSelector.selected_file.endswith(\"xls\"):\n",
    "    df=pd.read_excel(FileSelector.selected_file,encoding=FileSelector.file_encoding)\n",
    "\n",
    "print(\"Rows: {}\\tCols: {}\".format(df.shape[0],df.shape[1]))"
   ]
  },
  {
   "cell_type": "markdown",
   "metadata": {},
   "source": [
    "<a name=\"cols\"></a>"
   ]
  },
  {
   "cell_type": "code",
   "execution_count": 5,
   "metadata": {
    "scrolled": true
   },
   "outputs": [
    {
     "data": {
      "text/html": [
       "<div>\n",
       "<style scoped>\n",
       "    .dataframe tbody tr th:only-of-type {\n",
       "        vertical-align: middle;\n",
       "    }\n",
       "\n",
       "    .dataframe tbody tr th {\n",
       "        vertical-align: top;\n",
       "    }\n",
       "\n",
       "    .dataframe thead th {\n",
       "        text-align: right;\n",
       "    }\n",
       "</style>\n",
       "<table border=\"1\" class=\"dataframe\">\n",
       "  <thead>\n",
       "    <tr style=\"text-align: right;\">\n",
       "      <th></th>\n",
       "      <th>Column Names</th>\n",
       "      <th>Data Types</th>\n",
       "    </tr>\n",
       "  </thead>\n",
       "  <tbody>\n",
       "    <tr>\n",
       "      <th>0</th>\n",
       "      <td>PassengerId</td>\n",
       "      <td>int64</td>\n",
       "    </tr>\n",
       "    <tr>\n",
       "      <th>1</th>\n",
       "      <td>Survived</td>\n",
       "      <td>int64</td>\n",
       "    </tr>\n",
       "    <tr>\n",
       "      <th>2</th>\n",
       "      <td>Pclass</td>\n",
       "      <td>int64</td>\n",
       "    </tr>\n",
       "    <tr>\n",
       "      <th>3</th>\n",
       "      <td>Name</td>\n",
       "      <td>object</td>\n",
       "    </tr>\n",
       "    <tr>\n",
       "      <th>4</th>\n",
       "      <td>Sex</td>\n",
       "      <td>object</td>\n",
       "    </tr>\n",
       "    <tr>\n",
       "      <th>5</th>\n",
       "      <td>Age</td>\n",
       "      <td>float64</td>\n",
       "    </tr>\n",
       "    <tr>\n",
       "      <th>6</th>\n",
       "      <td>SibSp</td>\n",
       "      <td>int64</td>\n",
       "    </tr>\n",
       "    <tr>\n",
       "      <th>7</th>\n",
       "      <td>Parch</td>\n",
       "      <td>int64</td>\n",
       "    </tr>\n",
       "    <tr>\n",
       "      <th>8</th>\n",
       "      <td>Ticket</td>\n",
       "      <td>object</td>\n",
       "    </tr>\n",
       "    <tr>\n",
       "      <th>9</th>\n",
       "      <td>Fare</td>\n",
       "      <td>float64</td>\n",
       "    </tr>\n",
       "    <tr>\n",
       "      <th>10</th>\n",
       "      <td>Cabin</td>\n",
       "      <td>object</td>\n",
       "    </tr>\n",
       "    <tr>\n",
       "      <th>11</th>\n",
       "      <td>Embarked</td>\n",
       "      <td>object</td>\n",
       "    </tr>\n",
       "  </tbody>\n",
       "</table>\n",
       "</div>"
      ],
      "text/plain": [
       "   Column Names Data Types\n",
       "0   PassengerId      int64\n",
       "1      Survived      int64\n",
       "2        Pclass      int64\n",
       "3          Name     object\n",
       "4           Sex     object\n",
       "5           Age    float64\n",
       "6         SibSp      int64\n",
       "7         Parch      int64\n",
       "8        Ticket     object\n",
       "9          Fare    float64\n",
       "10        Cabin     object\n",
       "11     Embarked     object"
      ]
     },
     "execution_count": 5,
     "metadata": {},
     "output_type": "execute_result"
    }
   ],
   "source": [
    "pd.DataFrame({\"Column Names\":df.columns.values,\"Data Types\":df.dtypes.values})"
   ]
  },
  {
   "cell_type": "markdown",
   "metadata": {},
   "source": [
    "<a name=\"preview\"></a>"
   ]
  },
  {
   "cell_type": "code",
   "execution_count": 6,
   "metadata": {
    "scrolled": true
   },
   "outputs": [
    {
     "data": {
      "text/html": [
       "<div>\n",
       "<style scoped>\n",
       "    .dataframe tbody tr th:only-of-type {\n",
       "        vertical-align: middle;\n",
       "    }\n",
       "\n",
       "    .dataframe tbody tr th {\n",
       "        vertical-align: top;\n",
       "    }\n",
       "\n",
       "    .dataframe thead th {\n",
       "        text-align: right;\n",
       "    }\n",
       "</style>\n",
       "<table border=\"1\" class=\"dataframe\">\n",
       "  <thead>\n",
       "    <tr style=\"text-align: right;\">\n",
       "      <th></th>\n",
       "      <th>526</th>\n",
       "      <th>29</th>\n",
       "      <th>607</th>\n",
       "      <th>459</th>\n",
       "      <th>265</th>\n",
       "      <th>215</th>\n",
       "      <th>445</th>\n",
       "      <th>719</th>\n",
       "      <th>161</th>\n",
       "      <th>240</th>\n",
       "    </tr>\n",
       "  </thead>\n",
       "  <tbody>\n",
       "    <tr>\n",
       "      <th>PassengerId</th>\n",
       "      <td>527</td>\n",
       "      <td>30</td>\n",
       "      <td>608</td>\n",
       "      <td>460</td>\n",
       "      <td>266</td>\n",
       "      <td>216</td>\n",
       "      <td>446</td>\n",
       "      <td>720</td>\n",
       "      <td>162</td>\n",
       "      <td>241</td>\n",
       "    </tr>\n",
       "    <tr>\n",
       "      <th>Survived</th>\n",
       "      <td>1</td>\n",
       "      <td>0</td>\n",
       "      <td>1</td>\n",
       "      <td>0</td>\n",
       "      <td>0</td>\n",
       "      <td>1</td>\n",
       "      <td>1</td>\n",
       "      <td>0</td>\n",
       "      <td>1</td>\n",
       "      <td>0</td>\n",
       "    </tr>\n",
       "    <tr>\n",
       "      <th>Pclass</th>\n",
       "      <td>2</td>\n",
       "      <td>3</td>\n",
       "      <td>1</td>\n",
       "      <td>3</td>\n",
       "      <td>2</td>\n",
       "      <td>1</td>\n",
       "      <td>1</td>\n",
       "      <td>3</td>\n",
       "      <td>2</td>\n",
       "      <td>3</td>\n",
       "    </tr>\n",
       "    <tr>\n",
       "      <th>Name</th>\n",
       "      <td>Ridsdale, Miss. Lucy</td>\n",
       "      <td>Todoroff, Mr. Lalio</td>\n",
       "      <td>Daniel, Mr. Robert Williams</td>\n",
       "      <td>O'Connor, Mr. Maurice</td>\n",
       "      <td>Reeves, Mr. David</td>\n",
       "      <td>Newell, Miss. Madeleine</td>\n",
       "      <td>Dodge, Master. Washington</td>\n",
       "      <td>Johnson, Mr. Malkolm Joackim</td>\n",
       "      <td>Watt, Mrs. James (Elizabeth \"Bessie\" Inglis Mi...</td>\n",
       "      <td>Zabour, Miss. Thamine</td>\n",
       "    </tr>\n",
       "    <tr>\n",
       "      <th>Sex</th>\n",
       "      <td>female</td>\n",
       "      <td>male</td>\n",
       "      <td>male</td>\n",
       "      <td>male</td>\n",
       "      <td>male</td>\n",
       "      <td>female</td>\n",
       "      <td>male</td>\n",
       "      <td>male</td>\n",
       "      <td>female</td>\n",
       "      <td>female</td>\n",
       "    </tr>\n",
       "    <tr>\n",
       "      <th>Age</th>\n",
       "      <td>50</td>\n",
       "      <td>NaN</td>\n",
       "      <td>27</td>\n",
       "      <td>NaN</td>\n",
       "      <td>36</td>\n",
       "      <td>31</td>\n",
       "      <td>4</td>\n",
       "      <td>33</td>\n",
       "      <td>40</td>\n",
       "      <td>NaN</td>\n",
       "    </tr>\n",
       "    <tr>\n",
       "      <th>SibSp</th>\n",
       "      <td>0</td>\n",
       "      <td>0</td>\n",
       "      <td>0</td>\n",
       "      <td>0</td>\n",
       "      <td>0</td>\n",
       "      <td>1</td>\n",
       "      <td>0</td>\n",
       "      <td>0</td>\n",
       "      <td>0</td>\n",
       "      <td>1</td>\n",
       "    </tr>\n",
       "    <tr>\n",
       "      <th>Parch</th>\n",
       "      <td>0</td>\n",
       "      <td>0</td>\n",
       "      <td>0</td>\n",
       "      <td>0</td>\n",
       "      <td>0</td>\n",
       "      <td>0</td>\n",
       "      <td>2</td>\n",
       "      <td>0</td>\n",
       "      <td>0</td>\n",
       "      <td>0</td>\n",
       "    </tr>\n",
       "    <tr>\n",
       "      <th>Ticket</th>\n",
       "      <td>W./C. 14258</td>\n",
       "      <td>349216</td>\n",
       "      <td>113804</td>\n",
       "      <td>371060</td>\n",
       "      <td>C.A. 17248</td>\n",
       "      <td>35273</td>\n",
       "      <td>33638</td>\n",
       "      <td>347062</td>\n",
       "      <td>C.A. 33595</td>\n",
       "      <td>2665</td>\n",
       "    </tr>\n",
       "    <tr>\n",
       "      <th>Fare</th>\n",
       "      <td>10.5</td>\n",
       "      <td>7.8958</td>\n",
       "      <td>30.5</td>\n",
       "      <td>7.75</td>\n",
       "      <td>10.5</td>\n",
       "      <td>113.275</td>\n",
       "      <td>81.8583</td>\n",
       "      <td>7.775</td>\n",
       "      <td>15.75</td>\n",
       "      <td>14.4542</td>\n",
       "    </tr>\n",
       "    <tr>\n",
       "      <th>Cabin</th>\n",
       "      <td>NaN</td>\n",
       "      <td>NaN</td>\n",
       "      <td>NaN</td>\n",
       "      <td>NaN</td>\n",
       "      <td>NaN</td>\n",
       "      <td>D36</td>\n",
       "      <td>A34</td>\n",
       "      <td>NaN</td>\n",
       "      <td>NaN</td>\n",
       "      <td>NaN</td>\n",
       "    </tr>\n",
       "    <tr>\n",
       "      <th>Embarked</th>\n",
       "      <td>S</td>\n",
       "      <td>S</td>\n",
       "      <td>S</td>\n",
       "      <td>Q</td>\n",
       "      <td>S</td>\n",
       "      <td>C</td>\n",
       "      <td>S</td>\n",
       "      <td>S</td>\n",
       "      <td>S</td>\n",
       "      <td>C</td>\n",
       "    </tr>\n",
       "  </tbody>\n",
       "</table>\n",
       "</div>"
      ],
      "text/plain": [
       "                              526                  29   \\\n",
       "PassengerId                   527                   30   \n",
       "Survived                        1                    0   \n",
       "Pclass                          2                    3   \n",
       "Name         Ridsdale, Miss. Lucy  Todoroff, Mr. Lalio   \n",
       "Sex                        female                 male   \n",
       "Age                            50                  NaN   \n",
       "SibSp                           0                    0   \n",
       "Parch                           0                    0   \n",
       "Ticket                W./C. 14258               349216   \n",
       "Fare                         10.5               7.8958   \n",
       "Cabin                         NaN                  NaN   \n",
       "Embarked                        S                    S   \n",
       "\n",
       "                                     607                    459  \\\n",
       "PassengerId                          608                    460   \n",
       "Survived                               1                      0   \n",
       "Pclass                                 1                      3   \n",
       "Name         Daniel, Mr. Robert Williams  O'Connor, Mr. Maurice   \n",
       "Sex                                 male                   male   \n",
       "Age                                   27                    NaN   \n",
       "SibSp                                  0                      0   \n",
       "Parch                                  0                      0   \n",
       "Ticket                            113804                 371060   \n",
       "Fare                                30.5                   7.75   \n",
       "Cabin                                NaN                    NaN   \n",
       "Embarked                               S                      Q   \n",
       "\n",
       "                           265                      215  \\\n",
       "PassengerId                266                      216   \n",
       "Survived                     0                        1   \n",
       "Pclass                       2                        1   \n",
       "Name         Reeves, Mr. David  Newell, Miss. Madeleine   \n",
       "Sex                       male                   female   \n",
       "Age                         36                       31   \n",
       "SibSp                        0                        1   \n",
       "Parch                        0                        0   \n",
       "Ticket              C.A. 17248                    35273   \n",
       "Fare                      10.5                  113.275   \n",
       "Cabin                      NaN                      D36   \n",
       "Embarked                     S                        C   \n",
       "\n",
       "                                   445                           719  \\\n",
       "PassengerId                        446                           720   \n",
       "Survived                             1                             0   \n",
       "Pclass                               1                             3   \n",
       "Name         Dodge, Master. Washington  Johnson, Mr. Malkolm Joackim   \n",
       "Sex                               male                          male   \n",
       "Age                                  4                            33   \n",
       "SibSp                                0                             0   \n",
       "Parch                                2                             0   \n",
       "Ticket                           33638                        347062   \n",
       "Fare                           81.8583                         7.775   \n",
       "Cabin                              A34                           NaN   \n",
       "Embarked                             S                             S   \n",
       "\n",
       "                                                           161  \\\n",
       "PassengerId                                                162   \n",
       "Survived                                                     1   \n",
       "Pclass                                                       2   \n",
       "Name         Watt, Mrs. James (Elizabeth \"Bessie\" Inglis Mi...   \n",
       "Sex                                                     female   \n",
       "Age                                                         40   \n",
       "SibSp                                                        0   \n",
       "Parch                                                        0   \n",
       "Ticket                                              C.A. 33595   \n",
       "Fare                                                     15.75   \n",
       "Cabin                                                      NaN   \n",
       "Embarked                                                     S   \n",
       "\n",
       "                               240  \n",
       "PassengerId                    241  \n",
       "Survived                         0  \n",
       "Pclass                           3  \n",
       "Name         Zabour, Miss. Thamine  \n",
       "Sex                         female  \n",
       "Age                            NaN  \n",
       "SibSp                            1  \n",
       "Parch                            0  \n",
       "Ticket                        2665  \n",
       "Fare                       14.4542  \n",
       "Cabin                          NaN  \n",
       "Embarked                         C  "
      ]
     },
     "execution_count": 6,
     "metadata": {},
     "output_type": "execute_result"
    }
   ],
   "source": [
    "df.sample(10).transpose()"
   ]
  },
  {
   "cell_type": "markdown",
   "metadata": {},
   "source": [
    "# <font color=\"goldenrod\">Select a column to take a closer look</font>"
   ]
  },
  {
   "cell_type": "markdown",
   "metadata": {},
   "source": [
    "<a name=\"colsel\"></a>"
   ]
  },
  {
   "cell_type": "code",
   "execution_count": 7,
   "metadata": {},
   "outputs": [
    {
     "data": {
      "application/javascript": [
       "\n",
       "define('activehtml', [\"jupyter-js-widgets\"], function(widgets) {\n",
       "    var ActiveHTMLView = widgets.HTMLView.extend({\n",
       "        update: function() {\n",
       "            $(this.el).html(this.model.get('value'));\n",
       "        }\n",
       "    });\n",
       "    return {\n",
       "        ActiveHTMLView: ActiveHTMLView\n",
       "    };\n",
       "});\n"
      ],
      "text/plain": [
       "<IPython.core.display.Javascript object>"
      ]
     },
     "metadata": {},
     "output_type": "display_data"
    },
    {
     "data": {
      "application/vnd.jupyter.widget-view+json": {
       "model_id": "73082164be4d49aeafcd1373f354a4ab",
       "version_major": 2,
       "version_minor": 0
      },
      "text/plain": [
       "VBox(children=(HTML(value='\\n        <style>\\n          .ttip { position: relative; display: inline-block; }\\n…"
      ]
     },
     "metadata": {},
     "output_type": "display_data"
    },
    {
     "data": {
      "application/javascript": [
       "\n",
       "       var num = 3;\n",
       "       var run = false;\n",
       "       var current = $(this)[0];\n",
       "       $.each(IPython.notebook.get_cells(), function (idx, cell) {\n",
       "          if ((cell.output_area === current) && !run) {\n",
       "             run = true;\n",
       "          } else if ((cell.cell_type == 'code') && !(num < 1) && run) {\n",
       "             cell.execute();\n",
       "             num = num - 1;\n",
       "          }\n",
       "       });\n",
       "    "
      ],
      "text/plain": [
       "<IPython.core.display.Javascript object>"
      ]
     },
     "metadata": {},
     "output_type": "display_data"
    }
   ],
   "source": [
    "class ColumnSelector(param.Parameterized):\n",
    "    selected_col=param.ObjectSelector(objects=df.columns.values)\n",
    "    convert_dtype=param.ObjectSelector(default=\"Do not convert\",objects=available_dtypes)\n",
    "    \n",
    "paramnb.Widgets(ColumnSelector,next_n=3)"
   ]
  },
  {
   "cell_type": "markdown",
   "metadata": {},
   "source": [
    "<a name=\"coldescription\"></a>"
   ]
  },
  {
   "cell_type": "code",
   "execution_count": 8,
   "metadata": {},
   "outputs": [
    {
     "name": "stdout",
     "output_type": "stream",
     "text": [
      "count    714.000000\n",
      "mean      29.699118\n",
      "std       14.526497\n",
      "min        0.420000\n",
      "25%       20.125000\n",
      "50%       28.000000\n",
      "75%       38.000000\n",
      "max       80.000000\n",
      "Name: Age, dtype: float64\n"
     ]
    },
    {
     "data": {
      "image/png": "[encoded data removed]",
      "text/plain": [
       "<Figure size 432x288 with 1 Axes>"
      ]
     },
     "metadata": {},
     "output_type": "display_data"
    }
   ],
   "source": [
    "if not ColumnSelector.convert_dtype==\"Do not convert\":\n",
    "    if ColumnSelector.convert_dtype==\"Numeric (remove commas)\":\n",
    "        column_series=DataConverters.remove_commas(df[ColumnSelector.selected_col])\n",
    "        column_series=pd.to_numeric(column_series,errors=\"coerce\")\n",
    "else:\n",
    "    column_series=df[ColumnSelector.selected_col]\n",
    "\n",
    "print(column_series.describe())\n",
    "\n",
    "if np.issubdtype(column_series.dtype,np.number):\n",
    "    plt.boxplot(column_series.dropna())"
   ]
  },
  {
   "cell_type": "markdown",
   "metadata": {},
   "source": [
    "<a name=\"colvalues\"></a>"
   ]
  },
  {
   "cell_type": "code",
   "execution_count": 9,
   "metadata": {},
   "outputs": [
    {
     "name": "stdout",
     "output_type": "stream",
     "text": [
      "NA count: 177\n"
     ]
    },
    {
     "data": {
      "image/png": "[encoded data removed]",
      "text/plain": [
       "<Figure size 432x288 with 1 Axes>"
      ]
     },
     "metadata": {},
     "output_type": "display_data"
    }
   ],
   "source": [
    "if np.issubdtype(column_series.dtype,np.number):\n",
    "    print(\"NA count: {}\".format(np.sum(pd.isnull(column_series))))\n",
    "    plt.hist(column_series.dropna())\n",
    "else:\n",
    "    print(\"NA count: {}\".format(np.sum(pd.isnull(column_series))))\n",
    "    print(pd.DataFrame(column_series.value_counts(dropna=False)))"
   ]
  },
  {
   "cell_type": "markdown",
   "metadata": {},
   "source": [
    "# <font color=\"goldenrod\">Look at data filtered by the selected column</font>"
   ]
  },
  {
   "cell_type": "code",
   "execution_count": 10,
   "metadata": {},
   "outputs": [
    {
     "data": {
      "application/javascript": [
       "\n",
       "define('activehtml', [\"jupyter-js-widgets\"], function(widgets) {\n",
       "    var ActiveHTMLView = widgets.HTMLView.extend({\n",
       "        update: function() {\n",
       "            $(this.el).html(this.model.get('value'));\n",
       "        }\n",
       "    });\n",
       "    return {\n",
       "        ActiveHTMLView: ActiveHTMLView\n",
       "    };\n",
       "});\n"
      ],
      "text/plain": [
       "<IPython.core.display.Javascript object>"
      ]
     },
     "metadata": {},
     "output_type": "display_data"
    },
    {
     "data": {
      "application/vnd.jupyter.widget-view+json": {
       "model_id": "4b2679892e9c4694820089e451f67f73",
       "version_major": 2,
       "version_minor": 0
      },
      "text/plain": [
       "VBox(children=(HTML(value='\\n        <style>\\n          .ttip { position: relative; display: inline-block; }\\n…"
      ]
     },
     "metadata": {},
     "output_type": "display_data"
    },
    {
     "data": {
      "application/javascript": [
       "\n",
       "       var num = 1;\n",
       "       var run = false;\n",
       "       var current = $(this)[0];\n",
       "       $.each(IPython.notebook.get_cells(), function (idx, cell) {\n",
       "          if ((cell.output_area === current) && !run) {\n",
       "             run = true;\n",
       "          } else if ((cell.cell_type == 'code') && !(num < 1) && run) {\n",
       "             cell.execute();\n",
       "             num = num - 1;\n",
       "          }\n",
       "       });\n",
       "    "
      ],
      "text/plain": [
       "<IPython.core.display.Javascript object>"
      ]
     },
     "metadata": {},
     "output_type": "display_data"
    },
    {
     "data": {
      "application/javascript": [
       "\n",
       "       var num = 1;\n",
       "       var run = false;\n",
       "       var current = $(this)[0];\n",
       "       $.each(IPython.notebook.get_cells(), function (idx, cell) {\n",
       "          if ((cell.output_area === current) && !run) {\n",
       "             run = true;\n",
       "          } else if ((cell.cell_type == 'code') && !(num < 1) && run) {\n",
       "             cell.execute();\n",
       "             num = num - 1;\n",
       "          }\n",
       "       });\n",
       "    "
      ],
      "text/plain": [
       "<IPython.core.display.Javascript object>"
      ]
     },
     "metadata": {},
     "output_type": "display_data"
    },
    {
     "data": {
      "application/javascript": [
       "\n",
       "       var num = 1;\n",
       "       var run = false;\n",
       "       var current = $(this)[0];\n",
       "       $.each(IPython.notebook.get_cells(), function (idx, cell) {\n",
       "          if ((cell.output_area === current) && !run) {\n",
       "             run = true;\n",
       "          } else if ((cell.cell_type == 'code') && !(num < 1) && run) {\n",
       "             cell.execute();\n",
       "             num = num - 1;\n",
       "          }\n",
       "       });\n",
       "    "
      ],
      "text/plain": [
       "<IPython.core.display.Javascript object>"
      ]
     },
     "metadata": {},
     "output_type": "display_data"
    }
   ],
   "source": [
    "if np.issubdtype(column_series.dtype,np.number):\n",
    "    class FilterSelector(param.Parameterized):\n",
    "        filter_by_value=param.Range(bounds=(column_series.min(), column_series.max()))\n",
    "else:    \n",
    "    class FilterSelector(param.Parameterized):\n",
    "        filter_by_value=param.ObjectSelector(objects=column_series.values)\n",
    "\n",
    "if not np.issubdtype(column_series.dtype,np.number):\n",
    "# May take too long to load\n",
    "    if len(column_series.unique())<2000:\n",
    "        paramnb.Widgets(FilterSelector,next_n=1)\n",
    "else:\n",
    "    paramnb.Widgets(FilterSelector,next_n=1)"
   ]
  },
  {
   "cell_type": "code",
   "execution_count": 13,
   "metadata": {
    "scrolled": false
   },
   "outputs": [
    {
     "data": {
      "text/html": [
       "<div>\n",
       "<style scoped>\n",
       "    .dataframe tbody tr th:only-of-type {\n",
       "        vertical-align: middle;\n",
       "    }\n",
       "\n",
       "    .dataframe tbody tr th {\n",
       "        vertical-align: top;\n",
       "    }\n",
       "\n",
       "    .dataframe thead th {\n",
       "        text-align: right;\n",
       "    }\n",
       "</style>\n",
       "<table border=\"1\" class=\"dataframe\">\n",
       "  <thead>\n",
       "    <tr style=\"text-align: right;\">\n",
       "      <th></th>\n",
       "      <th>672</th>\n",
       "      <th>625</th>\n",
       "      <th>675</th>\n",
       "      <th>693</th>\n",
       "      <th>775</th>\n",
       "      <th>536</th>\n",
       "      <th>389</th>\n",
       "      <th>56</th>\n",
       "      <th>695</th>\n",
       "      <th>794</th>\n",
       "    </tr>\n",
       "  </thead>\n",
       "  <tbody>\n",
       "    <tr>\n",
       "      <th>PassengerId</th>\n",
       "      <td>673</td>\n",
       "      <td>626</td>\n",
       "      <td>676</td>\n",
       "      <td>694</td>\n",
       "      <td>776</td>\n",
       "      <td>537</td>\n",
       "      <td>390</td>\n",
       "      <td>57</td>\n",
       "      <td>696</td>\n",
       "      <td>795</td>\n",
       "    </tr>\n",
       "    <tr>\n",
       "      <th>Survived</th>\n",
       "      <td>0</td>\n",
       "      <td>0</td>\n",
       "      <td>0</td>\n",
       "      <td>0</td>\n",
       "      <td>0</td>\n",
       "      <td>0</td>\n",
       "      <td>1</td>\n",
       "      <td>1</td>\n",
       "      <td>0</td>\n",
       "      <td>0</td>\n",
       "    </tr>\n",
       "    <tr>\n",
       "      <th>Pclass</th>\n",
       "      <td>2</td>\n",
       "      <td>1</td>\n",
       "      <td>3</td>\n",
       "      <td>3</td>\n",
       "      <td>3</td>\n",
       "      <td>1</td>\n",
       "      <td>2</td>\n",
       "      <td>2</td>\n",
       "      <td>2</td>\n",
       "      <td>3</td>\n",
       "    </tr>\n",
       "    <tr>\n",
       "      <th>Name</th>\n",
       "      <td>Mitchell, Mr. Henry Michael</td>\n",
       "      <td>Sutton, Mr. Frederick</td>\n",
       "      <td>Edvardsson, Mr. Gustaf Hjalmar</td>\n",
       "      <td>Saad, Mr. Khalil</td>\n",
       "      <td>Myhrman, Mr. Pehr Fabian Oliver Malkolm</td>\n",
       "      <td>Butt, Major. Archibald Willingham</td>\n",
       "      <td>Lehmann, Miss. Bertha</td>\n",
       "      <td>Rugg, Miss. Emily</td>\n",
       "      <td>Chapman, Mr. Charles Henry</td>\n",
       "      <td>Dantcheff, Mr. Ristiu</td>\n",
       "    </tr>\n",
       "    <tr>\n",
       "      <th>Sex</th>\n",
       "      <td>male</td>\n",
       "      <td>male</td>\n",
       "      <td>male</td>\n",
       "      <td>male</td>\n",
       "      <td>male</td>\n",
       "      <td>male</td>\n",
       "      <td>female</td>\n",
       "      <td>female</td>\n",
       "      <td>male</td>\n",
       "      <td>male</td>\n",
       "    </tr>\n",
       "    <tr>\n",
       "      <th>Age</th>\n",
       "      <td>70</td>\n",
       "      <td>61</td>\n",
       "      <td>18</td>\n",
       "      <td>25</td>\n",
       "      <td>18</td>\n",
       "      <td>45</td>\n",
       "      <td>17</td>\n",
       "      <td>21</td>\n",
       "      <td>52</td>\n",
       "      <td>25</td>\n",
       "    </tr>\n",
       "    <tr>\n",
       "      <th>SibSp</th>\n",
       "      <td>0</td>\n",
       "      <td>0</td>\n",
       "      <td>0</td>\n",
       "      <td>0</td>\n",
       "      <td>0</td>\n",
       "      <td>0</td>\n",
       "      <td>0</td>\n",
       "      <td>0</td>\n",
       "      <td>0</td>\n",
       "      <td>0</td>\n",
       "    </tr>\n",
       "    <tr>\n",
       "      <th>Parch</th>\n",
       "      <td>0</td>\n",
       "      <td>0</td>\n",
       "      <td>0</td>\n",
       "      <td>0</td>\n",
       "      <td>0</td>\n",
       "      <td>0</td>\n",
       "      <td>0</td>\n",
       "      <td>0</td>\n",
       "      <td>0</td>\n",
       "      <td>0</td>\n",
       "    </tr>\n",
       "    <tr>\n",
       "      <th>Ticket</th>\n",
       "      <td>C.A. 24580</td>\n",
       "      <td>36963</td>\n",
       "      <td>349912</td>\n",
       "      <td>2672</td>\n",
       "      <td>347078</td>\n",
       "      <td>113050</td>\n",
       "      <td>SC 1748</td>\n",
       "      <td>C.A. 31026</td>\n",
       "      <td>248731</td>\n",
       "      <td>349203</td>\n",
       "    </tr>\n",
       "    <tr>\n",
       "      <th>Fare</th>\n",
       "      <td>10.5</td>\n",
       "      <td>32.3208</td>\n",
       "      <td>7.775</td>\n",
       "      <td>7.225</td>\n",
       "      <td>7.75</td>\n",
       "      <td>26.55</td>\n",
       "      <td>12</td>\n",
       "      <td>10.5</td>\n",
       "      <td>13.5</td>\n",
       "      <td>7.8958</td>\n",
       "    </tr>\n",
       "    <tr>\n",
       "      <th>Cabin</th>\n",
       "      <td>NaN</td>\n",
       "      <td>D50</td>\n",
       "      <td>NaN</td>\n",
       "      <td>NaN</td>\n",
       "      <td>NaN</td>\n",
       "      <td>B38</td>\n",
       "      <td>NaN</td>\n",
       "      <td>NaN</td>\n",
       "      <td>NaN</td>\n",
       "      <td>NaN</td>\n",
       "    </tr>\n",
       "    <tr>\n",
       "      <th>Embarked</th>\n",
       "      <td>S</td>\n",
       "      <td>S</td>\n",
       "      <td>S</td>\n",
       "      <td>C</td>\n",
       "      <td>S</td>\n",
       "      <td>S</td>\n",
       "      <td>C</td>\n",
       "      <td>S</td>\n",
       "      <td>S</td>\n",
       "      <td>S</td>\n",
       "    </tr>\n",
       "  </tbody>\n",
       "</table>\n",
       "</div>"
      ],
      "text/plain": [
       "                                     672                    625  \\\n",
       "PassengerId                          673                    626   \n",
       "Survived                               0                      0   \n",
       "Pclass                                 2                      1   \n",
       "Name         Mitchell, Mr. Henry Michael  Sutton, Mr. Frederick   \n",
       "Sex                                 male                   male   \n",
       "Age                                   70                     61   \n",
       "SibSp                                  0                      0   \n",
       "Parch                                  0                      0   \n",
       "Ticket                        C.A. 24580                  36963   \n",
       "Fare                                10.5                32.3208   \n",
       "Cabin                                NaN                    D50   \n",
       "Embarked                               S                      S   \n",
       "\n",
       "                                        675               693  \\\n",
       "PassengerId                             676               694   \n",
       "Survived                                  0                 0   \n",
       "Pclass                                    3                 3   \n",
       "Name         Edvardsson, Mr. Gustaf Hjalmar  Saad, Mr. Khalil   \n",
       "Sex                                    male              male   \n",
       "Age                                      18                25   \n",
       "SibSp                                     0                 0   \n",
       "Parch                                     0                 0   \n",
       "Ticket                               349912              2672   \n",
       "Fare                                  7.775             7.225   \n",
       "Cabin                                   NaN               NaN   \n",
       "Embarked                                  S                 C   \n",
       "\n",
       "                                                 775  \\\n",
       "PassengerId                                      776   \n",
       "Survived                                           0   \n",
       "Pclass                                             3   \n",
       "Name         Myhrman, Mr. Pehr Fabian Oliver Malkolm   \n",
       "Sex                                             male   \n",
       "Age                                               18   \n",
       "SibSp                                              0   \n",
       "Parch                                              0   \n",
       "Ticket                                        347078   \n",
       "Fare                                            7.75   \n",
       "Cabin                                            NaN   \n",
       "Embarked                                           S   \n",
       "\n",
       "                                           536                    389  \\\n",
       "PassengerId                                537                    390   \n",
       "Survived                                     0                      1   \n",
       "Pclass                                       1                      2   \n",
       "Name         Butt, Major. Archibald Willingham  Lehmann, Miss. Bertha   \n",
       "Sex                                       male                 female   \n",
       "Age                                         45                     17   \n",
       "SibSp                                        0                      0   \n",
       "Parch                                        0                      0   \n",
       "Ticket                                  113050                SC 1748   \n",
       "Fare                                     26.55                     12   \n",
       "Cabin                                      B38                    NaN   \n",
       "Embarked                                     S                      C   \n",
       "\n",
       "                           56                          695  \\\n",
       "PassengerId                 57                         696   \n",
       "Survived                     1                           0   \n",
       "Pclass                       2                           2   \n",
       "Name         Rugg, Miss. Emily  Chapman, Mr. Charles Henry   \n",
       "Sex                     female                        male   \n",
       "Age                         21                          52   \n",
       "SibSp                        0                           0   \n",
       "Parch                        0                           0   \n",
       "Ticket              C.A. 31026                      248731   \n",
       "Fare                      10.5                        13.5   \n",
       "Cabin                      NaN                         NaN   \n",
       "Embarked                     S                           S   \n",
       "\n",
       "                               794  \n",
       "PassengerId                    795  \n",
       "Survived                         0  \n",
       "Pclass                           3  \n",
       "Name         Dantcheff, Mr. Ristiu  \n",
       "Sex                           male  \n",
       "Age                             25  \n",
       "SibSp                            0  \n",
       "Parch                            0  \n",
       "Ticket                      349203  \n",
       "Fare                        7.8958  \n",
       "Cabin                          NaN  \n",
       "Embarked                         S  "
      ]
     },
     "metadata": {},
     "output_type": "display_data"
    }
   ],
   "source": [
    "if np.issubdtype(column_series.dtype,np.number):\n",
    "    display(df[list(df[ColumnSelector.selected_col]>=FilterSelector.filter_by_value[0]) and list(df[ColumnSelector.selected_col]<=FilterSelector.filter_by_value[1])].sample(10).transpose())\n",
    "else:\n",
    "    display(df[df[ColumnSelector.selected_col]==FilterSelector.filter_by_value].sample(10).transpose())"
   ]
  },
  {
   "cell_type": "markdown",
   "metadata": {},
   "source": [
    "# <font color=\"goldenrod\">Distribution of a column after filtering</font>"
   ]
  },
  {
   "cell_type": "code",
   "execution_count": null,
   "metadata": {},
   "outputs": [],
   "source": []
  },
  {
   "cell_type": "markdown",
   "metadata": {},
   "source": [
    "# Do not change codes above, insert your custom codes below"
   ]
  }
 ],
 "metadata": {
  "kernelspec": {
   "display_name": "Python 3",
   "language": "python",
   "name": "python3"
  },
  "language_info": {
   "codemirror_mode": {
    "name": "ipython",
    "version": 3
   },
   "file_extension": ".py",
   "mimetype": "text/x-python",
   "name": "python",
   "nbconvert_exporter": "python",
   "pygments_lexer": "ipython3",
   "version": "3.6.5"
  }
 },
 "nbformat": 4,
 "nbformat_minor": 2
}
