{
 "cells": [
  {
   "cell_type": "markdown",
   "metadata": {},
   "source": [
    "# TK file selector"
   ]
  },
  {
   "cell_type": "code",
   "execution_count": null,
   "metadata": {},
   "outputs": [],
   "source": [
    "# Run Tk window to choose files\n",
    "def path_gui():\n",
    "    tk_root=tk.Tk()\n",
    "    tk_root.title(\"File select window\")\n",
    "    def sel_files_callback(event):\n",
    "        globals()[\"path2files\"]=list(tk.filedialog.askopenfilenames())\n",
    "        tk_root.destroy()\n",
    "    def sel_dir_callback(event):\n",
    "        globals()[\"path2files\"]=glob.glob(tk.filedialog.askdirectory()+\"/*\")\n",
    "        tk_root.destroy()\n",
    "    sel_dir_btn=tk.Button(tk_root,text=\"Select directory\")\n",
    "    sel_files_btn=tk.Button(tk_root,text=\"Select files\")\n",
    "    sel_files_btn.bind(\"<ButtonPress-1>\",sel_files_callback)\n",
    "    sel_dir_btn.bind(\"<ButtonPress-1>\",sel_dir_callback)\n",
    "    sel_files_btn.place(x=50,y=10,width=100)\n",
    "    sel_dir_btn.place(x=50,y=40,width=100)\n",
    "    tk_root.mainloop()"
   ]
  },
  {
   "cell_type": "markdown",
   "metadata": {},
   "source": [
    "# Data Loader"
   ]
  },
  {
   "cell_type": "code",
   "execution_count": null,
   "metadata": {},
   "outputs": [],
   "source": [
    "# Data loader\n",
    "def universal_load(path,enc=\"utf-8\"):\n",
    "    if path.endswith(\"csv\"):\n",
    "        df=pd.read_csv(path,encoding=enc)\n",
    "    elif path.endswith(\"xlsx\") or path.endswith(\"xls\"):\n",
    "        df=pd.read_excel(path,encoding=enc)\n",
    "    elif path.endswith(\"txt\"):\n",
    "        df=pd.read_table(path,encoding=enc)\n",
    "    return df"
   ]
  },
  {
   "cell_type": "markdown",
   "metadata": {},
   "source": [
    "# Heatmap"
   ]
  },
  {
   "cell_type": "code",
   "execution_count": null,
   "metadata": {},
   "outputs": [],
   "source": [
    "##########\n",
    "### Input\n",
    "##########\n",
    "# 2D array\n",
    "data_matrix=\n",
    "# Columns in 2D array\n",
    "xlabs=\n",
    "# Rows in 2D array\n",
    "ylabs=\n",
    "# A threshold for black/white text color\n",
    "color_thresh=\n",
    "# Output image file name\n",
    "output_name=\n",
    "\n",
    "##########\n",
    "### Main\n",
    "##########\n",
    "fig, ax=plt.subplots()\n",
    "im=plt.imshow(data_matrix,aspect='auto',cmap=plt.cm.Blues)\n",
    "ax.figure.colorbar(im,ax=ax)\n",
    "\n",
    "ax.set_xticks(np.arange(len(xlabs)))\n",
    "ax.set_yticks(np.arange(len(ylabs)))\n",
    "\n",
    "ax.set_xticklabels(xlabs)\n",
    "ax.set_yticklabels(ylabs)\n",
    "\n",
    "plt.setp(ax.get_xticklabels(),rotation=45,ha=\"right\",rotation_mode=\"anchor\")\n",
    "\n",
    "for i in range(len(ylabs)):\n",
    "    for j in range(len(xlabs)):\n",
    "        if data_matrix[i][j]>color_thresh:\n",
    "            ax.text(j,i,\"%.1f%%\" % data_matrix[i][j],ha=\"center\",va=\"center\",color=\"w\")\n",
    "        else:\n",
    "            ax.text(j,i,\"%.1f%%\" % data_matrix[i][j],ha=\"center\",va=\"center\")\n",
    "        \n",
    "#ax.set_title(\"\")\n",
    "plt.savefig(output_name+\".png\",bbox_inches='tight',dpi=300)"
   ]
  },
  {
   "cell_type": "markdown",
   "metadata": {},
   "source": [
    "# Shelve"
   ]
  },
  {
   "cell_type": "code",
   "execution_count": null,
   "metadata": {},
   "outputs": [],
   "source": [
    "# Load saved objects with shelve\n",
    "def load_shelf(filename):\n",
    "    with shelve.open(filename) as shelf:\n",
    "        imported=dict(shelf)\n",
    "    return imported"
   ]
  }
 ],
 "metadata": {
  "kernelspec": {
   "display_name": "Python 3",
   "language": "python",
   "name": "python3"
  },
  "language_info": {
   "codemirror_mode": {
    "name": "ipython",
    "version": 3
   },
   "file_extension": ".py",
   "mimetype": "text/x-python",
   "name": "python",
   "nbconvert_exporter": "python",
   "pygments_lexer": "ipython3",
   "version": "3.6.5"
  }
 },
 "nbformat": 4,
 "nbformat_minor": 2
}
