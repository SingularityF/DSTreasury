{
 "cells": [
  {
   "cell_type": "code",
   "execution_count": null,
   "metadata": {},
   "outputs": [],
   "source": [
    "import pandas as pd\n",
    "import numpy as np\n",
    "import matplotlib.pyplot as plt\n",
    "\n",
    "import glob\n",
    "# Requires paramnb package to be installed\n",
    "import param,paramnb"
   ]
  },
  {
   "cell_type": "markdown",
   "metadata": {},
   "source": [
    "# Contents\n",
    "### Data Frame\n",
    "<div style=\"margin-left:50px\">\n",
    "<a href=\"#filesel\">File selector</a><br>\n",
    "<a href=\"#shape\">Shape</a><br>\n",
    "<a href=\"#cols\">Column names and data types</a><br>\n",
    "<a href=\"#preview\">Preview</a><br>\n",
    "</div>\n",
    "\n",
    "### Column\n",
    "<div style=\"margin-left:50px\">\n",
    "<a href=\"#colsel\">Column selector</a><br>\n",
    "<a href=\"#coldescription\">Description</a><br>\n",
    "<a href=\"#colvalues\">Values count</a><br>\n",
    "</div>\n",
    "\n",
    "### Filter\n",
    "<div style=\"margin-left:50px\">\n",
    "<a href=\"#colsel\">Column selector</a><br>\n",
    "</div>"
   ]
  },
  {
   "cell_type": "code",
   "execution_count": null,
   "metadata": {},
   "outputs": [],
   "source": [
    "# Define global variables\n",
    "\n",
    "available_encodings=[\n",
    "\"utf-8\",\n",
    "\"latin1\"\n",
    "]\n",
    "\n",
    "available_dtypes=[\n",
    "    \"Do not convert\",\n",
    "    \"Numeric (remove commas)\"\n",
    "]\n",
    "\n",
    "class DataConverters():\n",
    "    def remove_commas(series):\n",
    "        for i,val in enumerate(series):\n",
    "            if type(val)==\"str\":\n",
    "                series[i]=str(series[i]).replace(\",\",\"\")\n",
    "        return series"
   ]
  },
  {
   "cell_type": "markdown",
   "metadata": {},
   "source": [
    "# <font color=\"goldenrod\">Enter a list of input files here to get started </font>"
   ]
  },
  {
   "cell_type": "markdown",
   "metadata": {},
   "source": [
    "<a name=\"filesel\"></a>"
   ]
  },
  {
   "cell_type": "code",
   "execution_count": null,
   "metadata": {},
   "outputs": [],
   "source": [
    "# A list of input files\n",
    "\n",
    "# obtained by wildcard\n",
    "#path2files=glob.glob(\"\")\n",
    "\n",
    "# OR from a list\n",
    "path2files=[\n",
    "    \n",
    "]\n",
    "\n",
    "class FileSelector(param.Parameterized):\n",
    "    selected_file=param.ObjectSelector(objects=path2files)\n",
    "    file_encoding=param.ObjectSelector(default=\"utf-8\",objects=available_encodings)\n",
    "\n",
    "paramnb.Widgets(FileSelector,next_n=4)"
   ]
  },
  {
   "cell_type": "markdown",
   "metadata": {},
   "source": [
    "<a name=\"shape\"></a>"
   ]
  },
  {
   "cell_type": "code",
   "execution_count": null,
   "metadata": {
    "scrolled": true
   },
   "outputs": [],
   "source": [
    "# Read file into a data frame\n",
    "if FileSelector.selected_file.endswith(\"csv\"):\n",
    "    df=pd.read_csv(FileSelector.selected_file,encoding=FileSelector.file_encoding)\n",
    "elif FileSelector.selected_file.endswith(\"xlsx\") or FileSelector.selected_file.endswith(\"xls\"):\n",
    "    df=pd.read_excel(FileSelector.selected_file,encoding=FileSelector.file_encoding)\n",
    "\n",
    "print(\"Rows: {}\\tCols: {}\".format(df.shape[0],df.shape[1]))"
   ]
  },
  {
   "cell_type": "markdown",
   "metadata": {},
   "source": [
    "<a name=\"cols\"></a>"
   ]
  },
  {
   "cell_type": "code",
   "execution_count": null,
   "metadata": {
    "scrolled": true
   },
   "outputs": [],
   "source": [
    "pd.DataFrame({\"Column Names\":df.columns.values,\"Data Types\":df.dtypes.values})"
   ]
  },
  {
   "cell_type": "markdown",
   "metadata": {},
   "source": [
    "<a name=\"preview\"></a>"
   ]
  },
  {
   "cell_type": "code",
   "execution_count": null,
   "metadata": {
    "scrolled": true
   },
   "outputs": [],
   "source": [
    "df.sample(10).transpose()"
   ]
  },
  {
   "cell_type": "markdown",
   "metadata": {},
   "source": [
    "# <font color=\"goldenrod\">Select a column to take a closer look</font>"
   ]
  },
  {
   "cell_type": "markdown",
   "metadata": {},
   "source": [
    "<a name=\"colsel\"></a>"
   ]
  },
  {
   "cell_type": "code",
   "execution_count": null,
   "metadata": {},
   "outputs": [],
   "source": [
    "class ColumnSelector(param.Parameterized):\n",
    "    selected_col=param.ObjectSelector(objects=df.columns.values)\n",
    "    convert_dtype=param.ObjectSelector(default=\"Do not convert\",objects=available_dtypes)\n",
    "    \n",
    "paramnb.Widgets(ColumnSelector,next_n=3)"
   ]
  },
  {
   "cell_type": "markdown",
   "metadata": {},
   "source": [
    "<a name=\"coldescription\"></a>"
   ]
  },
  {
   "cell_type": "code",
   "execution_count": null,
   "metadata": {},
   "outputs": [],
   "source": [
    "if not ColumnSelector.convert_dtype==\"Do not convert\":\n",
    "    if ColumnSelector.convert_dtype==\"Numeric (remove commas)\":\n",
    "        column_series=DataConverters.remove_commas(df[ColumnSelector.selected_col])\n",
    "        column_series=pd.to_numeric(column_series,errors=\"coerce\")\n",
    "else:\n",
    "    column_series=df[ColumnSelector.selected_col]\n",
    "\n",
    "print(column_series.describe())\n",
    "\n",
    "if np.issubdtype(column_series.dtype,np.number):\n",
    "    plt.boxplot(column_series.dropna())"
   ]
  },
  {
   "cell_type": "markdown",
   "metadata": {},
   "source": [
    "<a name=\"colvalues\"></a>"
   ]
  },
  {
   "cell_type": "code",
   "execution_count": null,
   "metadata": {},
   "outputs": [],
   "source": [
    "if np.issubdtype(column_series.dtype,np.number):\n",
    "    print(\"NA count: {}\".format(np.sum(pd.isnull(column_series))))\n",
    "    plt.hist(column_series.dropna())\n",
    "else:\n",
    "    print(\"NA count: {}\".format(np.sum(pd.isnull(column_series))))\n",
    "    print(pd.DataFrame(column_series.value_counts(dropna=False)))"
   ]
  },
  {
   "cell_type": "markdown",
   "metadata": {},
   "source": [
    "# <font color=\"goldenrod\">Look at data filtered by the selected column</font>"
   ]
  },
  {
   "cell_type": "code",
   "execution_count": null,
   "metadata": {},
   "outputs": [],
   "source": [
    "if np.issubdtype(column_series.dtype,np.number):\n",
    "    class FilterSelector(param.Parameterized):\n",
    "        filter_by_value=param.Range(bounds=(column_series.min(), column_series.max()))\n",
    "else:    \n",
    "    class FilterSelector(param.Parameterized):\n",
    "        filter_by_value=param.ObjectSelector(objects=column_series.values)\n",
    "\n",
    "if not np.issubdtype(column_series.dtype,np.number):\n",
    "# May take too long to load\n",
    "    if len(column_series.unique())<2000:\n",
    "        paramnb.Widgets(FilterSelector,next_n=1)\n",
    "else:\n",
    "    paramnb.Widgets(FilterSelector,next_n=1)"
   ]
  },
  {
   "cell_type": "code",
   "execution_count": null,
   "metadata": {
    "scrolled": false
   },
   "outputs": [],
   "source": [
    "if np.issubdtype(column_series.dtype,np.number):\n",
    "    display(df[list(df[ColumnSelector.selected_col]>=FilterSelector.filter_by_value[0]) and list(df[ColumnSelector.selected_col]<=FilterSelector.filter_by_value[1])].sample(10).transpose())\n",
    "else:\n",
    "    display(df[df[ColumnSelector.selected_col]==FilterSelector.filter_by_value].sample(10).transpose())"
   ]
  },
  {
   "cell_type": "markdown",
   "metadata": {},
   "source": [
    "# <font color=\"goldenrod\">Distribution of a column after filtering</font>"
   ]
  },
  {
   "cell_type": "code",
   "execution_count": null,
   "metadata": {},
   "outputs": [],
   "source": []
  },
  {
   "cell_type": "markdown",
   "metadata": {},
   "source": [
    "# Do not change codes above, insert your custom codes below"
   ]
  }
 ],
 "metadata": {
  "kernelspec": {
   "display_name": "Python 3",
   "language": "python",
   "name": "python3"
  },
  "language_info": {
   "codemirror_mode": {
    "name": "ipython",
    "version": 3
   },
   "file_extension": ".py",
   "mimetype": "text/x-python",
   "name": "python",
   "nbconvert_exporter": "python",
   "pygments_lexer": "ipython3",
   "version": "3.6.5"
  }
 },
 "nbformat": 4,
 "nbformat_minor": 2
}
