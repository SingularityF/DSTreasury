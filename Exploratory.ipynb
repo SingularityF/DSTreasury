{
 "cells": [
  {
   "cell_type": "code",
   "execution_count": null,
   "metadata": {},
   "outputs": [],
   "source": [
    "import pandas as pd\n",
    "import numpy as np\n",
    "import matplotlib.pyplot as plt\n",
    "\n",
    "import glob\n",
    "# Requires paramnb package to be installed\n",
    "import param,paramnb\n",
    "\n",
    "import xlsxwriter\n",
    "import tempfile\n",
    "import os\n",
    "import re\n",
    "import shelve"
   ]
  },
  {
   "cell_type": "markdown",
   "metadata": {},
   "source": [
    "# Contents\n",
    "### Data Frame\n",
    "<div style=\"margin-left:50px\">\n",
    "<a href=\"#filesel\">File selector</a><br>\n",
    "<a href=\"#shape\">Shape</a><br>\n",
    "<a href=\"#cols\">Column names and data types</a><br>\n",
    "<a href=\"#preview\">Preview</a><br>\n",
    "</div>\n",
    "\n",
    "### Column\n",
    "<div style=\"margin-left:50px\">\n",
    "<a href=\"#colsel\">Column selector</a><br>\n",
    "<a href=\"#coldescription\">Descriptive statistics</a><br>\n",
    "<a href=\"#colvalues\">Values count</a><br>\n",
    "<a href=\"#quantile\">Quantiles and rare levels</a><br>\n",
    "<a href=\"#outlier\">Outliers and rare level examples</a><br>\n",
    "</div>\n",
    "\n",
    "### Filter\n",
    "<div style=\"margin-left:50px\">\n",
    "<a href=\"#filtersel\">Filter selector</a><br>\n",
    "<a href=\"#filteredprev\">Filtered preview</a><br>\n",
    "<a href=\"#filteredcolsel\">Filtered column selector</a><br>\n",
    "<a href=\"#filtereddesc\">Filtered descriptive statistics</a><br>\n",
    "<a href=\"#filteredvalues\">Filtered values count</a><br>\n",
    "</div>\n",
    "\n",
    "\n",
    "### Plots\n",
    "<div style=\"margin-left:50px\">\n",
    "<a href=\"#intersel\">Interaction selector</a><br>\n",
    "<a href=\"#scatter\">Scatter plot</a><br>\n",
    "</div>"
   ]
  },
  {
   "cell_type": "code",
   "execution_count": null,
   "metadata": {},
   "outputs": [],
   "source": [
    "\"\"\"Load code dependencies\n",
    "\n",
    "If your dataset won't load, try\n",
    "\n",
    "adding encodings;\n",
    "adding new file extensions;\n",
    "\n",
    "If you need to convert a column and no existing methods fit,  \n",
    "add new converters by adding a method in class \"DataConverters\",\n",
    "then add the name and function in the dictionary \"converters\".\n",
    "\"\"\"\n",
    "\n",
    "# Add your custom encodings here\n",
    "available_encodings=[\n",
    "\"utf-8\",\n",
    "\"latin1\",\n",
    "]\n",
    "\n",
    "# Data loader\n",
    "# Add new extension here\n",
    "def universal_load(path,enc=\"utf-8\"):\n",
    "    if path.endswith(\"csv\"):\n",
    "        df=pd.read_csv(path,encoding=enc)\n",
    "    elif path.endswith(\"xlsx\") or path.endswith(\"xls\"):\n",
    "        df=pd.read_excel(path,encoding=enc)\n",
    "    elif path.endswith(\"txt\"):\n",
    "        df=pd.read_table(path,encoding=enc)\n",
    "    return df\n",
    "\n",
    "class DataConverters:\n",
    "    # Add new column converters here    \n",
    "    def binarize(orig_series):\n",
    "        series=pd.Series().reindex_like(orig_series)\n",
    "        for i,val in enumerate(orig_series):\n",
    "            series[i]=np.array(val>0).astype(float)\n",
    "        return series\n",
    "        \n",
    "    # Add your custom column preprocessor here\n",
    "    def custom(orig_series):\n",
    "        series=pd.Series().reindex_like(orig_series)\n",
    "        for i,val in enumerate(orig_series):\n",
    "            if type(val)==str:\n",
    "                if val.startswith('['):\n",
    "                    number_list=np.array([float(item) for item in re.findall(r\"[0-9\\.]+\",val[1:-1])])\n",
    "                    series[i]=np.max(number_list)\n",
    "            else:\n",
    "                series[i]=val\n",
    "        return series\n",
    "    \n",
    "# Add new column converters here\n",
    "converters={\n",
    "    \"Do not convert\": None,\n",
    "    \"Binarize\" : DataConverters.binarize,\n",
    "    \"Custom\": DataConverters.custom,\n",
    "    }\n",
    "\n",
    "def is_factor(series):\n",
    "    return False if np.issubdtype(series.dtype,np.number) else True\n",
    "\n",
    "# Avoid pandas' spitting errors when using sample function\n",
    "def smart_sample(dataframe,rows):\n",
    "    if dataframe.shape[0]>=rows:\n",
    "        return dataframe.sample(rows)\n",
    "    else:\n",
    "        return dataframe\n",
    "\n",
    "# Excel report heading\n",
    "def make_heading(colid,rowid,content,worksheet):\n",
    "    heading_format=workbook.add_format({'bold': True,'font_size':20})\n",
    "    worksheet.write('{}{}'.format(colid,rowid), content,heading_format)\n",
    "\n",
    "# Excel report plot\n",
    "# Temp files not deleted\n",
    "# May cause leak for small tmp space\n",
    "def make_plot(colid,rowid,fig,worksheet):\n",
    "    _,path2file=tempfile.mkstemp(suffix=\".png\")\n",
    "    fig.set_size_inches(6.4*.7,4.8*.7)\n",
    "    fig.savefig(path2file,dpi=300)\n",
    "    worksheet.insert_image('{}{}'.format(colid,rowid), path2file)\n",
    "\n",
    "# Excel report change line\n",
    "def adv_ptr_var(df,amount):\n",
    "# Add blank row after df\n",
    "    if df.shape[0]>=amount:\n",
    "        return amount+2\n",
    "    else:\n",
    "        return df.shape[0]+2"
   ]
  },
  {
   "cell_type": "markdown",
   "metadata": {},
   "source": [
    "# <font color=\"goldenrod\">Enter a list of input files here to get started </font>"
   ]
  },
  {
   "cell_type": "markdown",
   "metadata": {},
   "source": [
    "<a name=\"filesel\"></a>"
   ]
  },
  {
   "cell_type": "code",
   "execution_count": null,
   "metadata": {
    "scrolled": true
   },
   "outputs": [],
   "source": [
    "# A list of input files\n",
    "\n",
    "# obtained by wildcard\n",
    "path2files=glob.glob(\"???\")\n",
    "\n",
    "# OR from a list\n",
    "#path2files=[\n",
    "#\n",
    "#]\n",
    "\n",
    "class FileSelector(param.Parameterized):\n",
    "    selected_file=param.ObjectSelector(objects=path2files)\n",
    "    file_encoding=param.ObjectSelector(default=\"utf-8\",objects=available_encodings)\n",
    "\n",
    "paramnb.Widgets(FileSelector,next_n=4)"
   ]
  },
  {
   "cell_type": "markdown",
   "metadata": {},
   "source": [
    "<a name=\"shape\"></a>"
   ]
  },
  {
   "cell_type": "code",
   "execution_count": null,
   "metadata": {
    "scrolled": true
   },
   "outputs": [],
   "source": [
    "# Read file into a data frame\n",
    "df=universal_load(FileSelector.selected_file,enc=FileSelector.file_encoding)\n",
    "\n",
    "print(\"Rows: {}\\tCols: {}\".format(df.shape[0],df.shape[1]))"
   ]
  },
  {
   "cell_type": "markdown",
   "metadata": {},
   "source": [
    "<a name=\"cols\"></a>"
   ]
  },
  {
   "cell_type": "code",
   "execution_count": null,
   "metadata": {
    "scrolled": false
   },
   "outputs": [],
   "source": [
    "df_dtype=pd.DataFrame({\"Column Names\":df.columns.values,\"Data Types\":df.dtypes.values})\n",
    "display(df_dtype)"
   ]
  },
  {
   "cell_type": "markdown",
   "metadata": {},
   "source": [
    "<a name=\"preview\"></a>"
   ]
  },
  {
   "cell_type": "code",
   "execution_count": null,
   "metadata": {
    "scrolled": false
   },
   "outputs": [],
   "source": [
    "smart_sample(df,10).transpose()"
   ]
  },
  {
   "cell_type": "markdown",
   "metadata": {},
   "source": [
    "# <font color=\"goldenrod\">Select a column to take a closer look</font>"
   ]
  },
  {
   "cell_type": "markdown",
   "metadata": {},
   "source": [
    "<a name=\"colsel\"></a>"
   ]
  },
  {
   "cell_type": "code",
   "execution_count": null,
   "metadata": {
    "scrolled": true
   },
   "outputs": [],
   "source": [
    "class ColumnSelector(param.Parameterized):\n",
    "    selected_col=param.ObjectSelector(objects=df.columns.values)\n",
    "    convert_method=param.ObjectSelector(default=\"Do not convert\",objects=converters.keys())\n",
    "    \n",
    "paramnb.Widgets(ColumnSelector,next_n=5)"
   ]
  },
  {
   "cell_type": "markdown",
   "metadata": {},
   "source": [
    "<a name=\"coldescription\"></a>"
   ]
  },
  {
   "cell_type": "code",
   "execution_count": null,
   "metadata": {},
   "outputs": [],
   "source": [
    "if not ColumnSelector.convert_method==\"Do not convert\":\n",
    "    column_series=converters[ColumnSelector.convert_method](df[ColumnSelector.selected_col])\n",
    "    column_series=pd.to_numeric(column_series,errors=\"coerce\")\n",
    "else:\n",
    "    column_series=df[ColumnSelector.selected_col]\n",
    "\n",
    "col_desc_df=column_series.describe()\n",
    "print(col_desc_df)\n",
    "\n",
    "if not is_factor(column_series):\n",
    "    plt.boxplot(column_series.dropna())\n",
    "    \n",
    "# Save fig\n",
    "colboxfig=plt.gcf()"
   ]
  },
  {
   "cell_type": "markdown",
   "metadata": {},
   "source": [
    "<a name=\"colvalues\"></a>"
   ]
  },
  {
   "cell_type": "code",
   "execution_count": null,
   "metadata": {
    "scrolled": false
   },
   "outputs": [],
   "source": [
    "col_nacount=np.sum(pd.isnull(column_series))\n",
    "\n",
    "if not is_factor(column_series):\n",
    "    print(\"NA count: {}\".format(col_nacount))\n",
    "    plt.hist(column_series.dropna(),bins=20)\n",
    "else:\n",
    "    print(\"NA count: {}\".format(col_nacount))\n",
    "    valcount_df=column_series.value_counts(dropna=False).to_frame()\n",
    "    print(valcount_df)\n",
    "    \n",
    "# Save fig\n",
    "colhistfig=plt.gcf()"
   ]
  },
  {
   "cell_type": "markdown",
   "metadata": {},
   "source": [
    "<a name=\"quantile\"></a>"
   ]
  },
  {
   "cell_type": "code",
   "execution_count": null,
   "metadata": {
    "scrolled": true
   },
   "outputs": [],
   "source": [
    "# Quantiles\n",
    "if not is_factor(column_series):\n",
    "    quantile_list=[\n",
    "        column_series.quantile(.005),\n",
    "        column_series.quantile(.01),\n",
    "        column_series.quantile(.025),\n",
    "        column_series.quantile(.05),\n",
    "        column_series.quantile(.95),\n",
    "        column_series.quantile(.975),\n",
    "        column_series.quantile(.99),\n",
    "        column_series.quantile(.995),\n",
    "    ]\n",
    "    quantile_df=pd.Series(quantile_list,index=[\"0.5%\",\"1%\",\"2.5%\",\"5%\",\"95%\",\"97.5%\",\"99%\",\"99.5%\"]).to_frame().transpose()\n",
    "    print(\"Quantiles\")\n",
    "    display(quantile_df)\n",
    "else:\n",
    "# Rare levels\n",
    "    print(\"Rare levels\")\n",
    "    rare_lvl_df=valcount_df.sort_values(by=[ColumnSelector.selected_col],ascending=True)\n",
    "    display(rare_lvl_df.head(10))\n",
    "    rare_lvl=rare_lvl_df.index[0]"
   ]
  },
  {
   "cell_type": "markdown",
   "metadata": {},
   "source": [
    "<a name=\"outlier\"></a>"
   ]
  },
  {
   "cell_type": "code",
   "execution_count": null,
   "metadata": {
    "scrolled": true
   },
   "outputs": [],
   "source": [
    "# Outliers\n",
    "if not is_factor(column_series):\n",
    "    q3=column_series.quantile(.75)\n",
    "    q1=column_series.quantile(.25)\n",
    "    IQR=q3-q1\n",
    "    upper_fence=q3+1.5*IQR\n",
    "    lower_fence=q1-1.5*IQR\n",
    "    outlier_upper_df=df[column_series>upper_fence].sort_values(by=[ColumnSelector.selected_col],ascending=False)\n",
    "    outlier_lower_df=df[column_series<lower_fence].sort_values(by=[ColumnSelector.selected_col],ascending=True)\n",
    "    print(\"Outliers above upper fence\")\n",
    "    display(outlier_upper_df.head(10).transpose())\n",
    "    print(\"Outliers below lower fence\")\n",
    "    display(outlier_lower_df.head(10).transpose())\n",
    "else:\n",
    "    print(\"Examples of rare levels\")\n",
    "    rare_exp_df=df[df[ColumnSelector.selected_col]==rare_lvl]\n",
    "    display(rare_exp_df.head(10))"
   ]
  },
  {
   "cell_type": "markdown",
   "metadata": {},
   "source": [
    "# <font color=\"goldenrod\">Look at data filtered by the selected column</font>"
   ]
  },
  {
   "cell_type": "markdown",
   "metadata": {},
   "source": [
    "<a name=\"filtersel\"></a>"
   ]
  },
  {
   "cell_type": "code",
   "execution_count": null,
   "metadata": {},
   "outputs": [],
   "source": [
    "nadf=df[df[ColumnSelector.selected_col].isnull()]\n",
    "\n",
    "if not is_factor(column_series):\n",
    "    class FilterSelector(param.Parameterized):\n",
    "        filter_by_value=param.Range(bounds=(column_series.min(), column_series.max()))\n",
    "        filter_by_na=param.Boolean()\n",
    "else:    \n",
    "    class FilterSelector(param.Parameterized):\n",
    "        filter_by_value=param.ObjectSelector(objects=column_series.values)\n",
    "        filter_by_na=param.Boolean()\n",
    "\n",
    "if is_factor(column_series):\n",
    "# May take too long to load\n",
    "    if len(column_series.unique())<2000:\n",
    "        paramnb.Widgets(FilterSelector,next_n=2)\n",
    "else:\n",
    "    paramnb.Widgets(FilterSelector,next_n=2)"
   ]
  },
  {
   "cell_type": "markdown",
   "metadata": {},
   "source": [
    "<a name=\"filteredprev\"></a>"
   ]
  },
  {
   "cell_type": "code",
   "execution_count": null,
   "metadata": {
    "scrolled": false
   },
   "outputs": [],
   "source": [
    "if FilterSelector.filter_by_na==True:\n",
    "    if nadf.shape[0]>=10:\n",
    "        display(smart_sample(nadf,10).transpose())\n",
    "    else:\n",
    "        display(nadf.transpose())\n",
    "else:\n",
    "    if not is_factor(column_series):\n",
    "        subdf=df[(column_series>=FilterSelector.filter_by_value[0]) & (column_series<=FilterSelector.filter_by_value[1])]\n",
    "        display(smart_sample(subdf,10).transpose())\n",
    "    else:\n",
    "        subdf=df[column_series==FilterSelector.filter_by_value]\n",
    "        display(smart_sample(subdf,10).transpose())"
   ]
  },
  {
   "cell_type": "markdown",
   "metadata": {},
   "source": [
    "# <font color=\"goldenrod\">Distribution of a column after filtering</font>"
   ]
  },
  {
   "cell_type": "markdown",
   "metadata": {},
   "source": [
    "<a name=\"filteredcolsel\"></a>"
   ]
  },
  {
   "cell_type": "code",
   "execution_count": null,
   "metadata": {
    "scrolled": true
   },
   "outputs": [],
   "source": [
    "class FilteredColumnSelector(param.Parameterized):\n",
    "    selected_col=param.ObjectSelector(objects=df.columns.values)\n",
    "    convert_method=param.ObjectSelector(default=\"Do not convert\",objects=converters.keys())\n",
    "    \n",
    "paramnb.Widgets(FilteredColumnSelector,next_n=2)"
   ]
  },
  {
   "cell_type": "markdown",
   "metadata": {},
   "source": [
    "<a name=\"filtereddesc\"></a>"
   ]
  },
  {
   "cell_type": "code",
   "execution_count": null,
   "metadata": {},
   "outputs": [],
   "source": [
    "if not FilteredColumnSelector.convert_method==\"Do not convert\":\n",
    "    filtered_column_series=converters[FilteredColumnSelector.convert_method](subdf[FilteredColumnSelector.selected_col])\n",
    "    filtered_column_series=pd.to_numeric(filtered_column_series,errors=\"coerce\")\n",
    "else:\n",
    "    filtered_column_series=subdf[FilteredColumnSelector.selected_col]\n",
    "\n",
    "print(filtered_column_series.describe())\n",
    "\n",
    "if not is_factor(filtered_column_series):\n",
    "    plt.boxplot(filtered_column_series.dropna())"
   ]
  },
  {
   "cell_type": "markdown",
   "metadata": {},
   "source": [
    "<a name=\"filteredvalues\"></a>"
   ]
  },
  {
   "cell_type": "code",
   "execution_count": null,
   "metadata": {},
   "outputs": [],
   "source": [
    "if not is_factor(filtered_column_series):\n",
    "    print(\"NA count: {}\".format(np.sum(pd.isnull(filtered_column_series))))\n",
    "    plt.hist(filtered_column_series.dropna())\n",
    "else:\n",
    "    print(\"NA count: {}\".format(np.sum(pd.isnull(filtered_column_series))))\n",
    "    print(pd.DataFrame(filtered_column_series.value_counts(dropna=False)))"
   ]
  },
  {
   "cell_type": "markdown",
   "metadata": {},
   "source": [
    "# <font color=\"goldenrod\">Interaction between two variables</font>"
   ]
  },
  {
   "cell_type": "markdown",
   "metadata": {},
   "source": [
    "<a name=\"intersel\"></a>"
   ]
  },
  {
   "cell_type": "code",
   "execution_count": null,
   "metadata": {},
   "outputs": [],
   "source": [
    "class InteractionSelector(param.Parameterized):\n",
    "    first_variable=param.ObjectSelector(objects=df.columns.values)\n",
    "    second_variable=param.ObjectSelector(objects=df.columns.values)\n",
    "    invert_axis=param.Boolean()\n",
    "    \n",
    "paramnb.Widgets(InteractionSelector,next_n=1)"
   ]
  },
  {
   "cell_type": "markdown",
   "metadata": {},
   "source": [
    "<a name=\"scatter\"></a>"
   ]
  },
  {
   "cell_type": "code",
   "execution_count": null,
   "metadata": {},
   "outputs": [],
   "source": [
    "# Scatter plot\n",
    "plt.figure(figsize=(10,10))\n",
    "if not InteractionSelector.invert_axis==True:\n",
    "    plt.scatter(df.dropna()[InteractionSelector.first_variable],df.dropna()[InteractionSelector.second_variable],marker='x',s=2)\n",
    "    plt.xlabel(InteractionSelector.first_variable)\n",
    "    plt.ylabel(InteractionSelector.second_variable)\n",
    "else:\n",
    "    plt.scatter(df.dropna()[InteractionSelector.second_variable],df.dropna()[InteractionSelector.first_variable],marker=\"x\",s=2)\n",
    "    plt.ylabel(InteractionSelector.first_variable)\n",
    "    plt.xlabel(InteractionSelector.second_variable)"
   ]
  },
  {
   "cell_type": "markdown",
   "metadata": {},
   "source": [
    "# <font color=\"goldenrod\">Generate excel report</font>"
   ]
  },
  {
   "cell_type": "code",
   "execution_count": null,
   "metadata": {
    "scrolled": false
   },
   "outputs": [],
   "source": [
    "# Column report\n",
    "\n",
    "rowptr=1\n",
    "\n",
    "# Write output to a xlsx file named \"report - [column name]\" in reports folder\n",
    "if not os.path.exists(\"reports\"):\n",
    "    os.makedirs(\"reports\")\n",
    "writer = pd.ExcelWriter('reports/report - {}.xlsx'.format(ColumnSelector.selected_col), engine='xlsxwriter')\n",
    "\n",
    "sheetname=ColumnSelector.selected_col if len(ColumnSelector.selected_col)<31 else ColumnSelector.selected_col[:30]\n",
    "workbook  = writer.book\n",
    "worksheet = workbook.add_worksheet(sheetname)\n",
    "writer.sheets[sheetname] = worksheet\n",
    "\n",
    "make_heading(\"A\",rowptr, ColumnSelector.selected_col,worksheet)\n",
    "rowptr+=2\n",
    "\n",
    "\n",
    "# Descriptive data frame\n",
    "make_heading(\"A\",rowptr, \"Descriptive statistics\",worksheet)\n",
    "rowptr+=1\n",
    "col_desc_df.to_frame().transpose().to_excel(writer, sheet_name=sheetname,startrow=rowptr-1,index=False)\n",
    "rowptr+=3\n",
    "\n",
    "# Quantile\n",
    "if not is_factor(column_series):\n",
    "    make_heading(\"A\",rowptr, \"Quantiles\",worksheet)\n",
    "    rowptr+=1\n",
    "    quantile_df.to_excel(writer, sheet_name=sheetname,startrow=rowptr-1,index=False)\n",
    "    rowptr+=3\n",
    "\n",
    "# Value count\n",
    "if is_factor(column_series):\n",
    "    make_heading(\"A\",rowptr,\"Value counts\",worksheet)\n",
    "    rowptr+=1\n",
    "    valcount_df.transpose().to_excel(writer, sheet_name=sheetname,startrow=rowptr-1)\n",
    "    rowptr+=3\n",
    "else:\n",
    "# Plots\n",
    "    make_heading('A',rowptr, \"Box plot of {} values\".format(ColumnSelector.selected_col),worksheet)\n",
    "    make_heading('K',rowptr, \"Histogram of {} values\".format(ColumnSelector.selected_col),worksheet)\n",
    "    rowptr+=1\n",
    "    make_plot(\"A\",rowptr,colboxfig,worksheet)\n",
    "    make_plot(\"K\",rowptr,colhistfig,worksheet)\n",
    "    rowptr+=18\n",
    "    \n",
    "# Rare levels\n",
    "if is_factor(column_series):\n",
    "    make_heading(\"A\",rowptr, \"Some rare levels\",worksheet)\n",
    "    rowptr+=1\n",
    "    rare_lvl_df.head(10).transpose().to_excel(writer, sheet_name=sheetname,startrow=rowptr-1,index=False)\n",
    "    rowptr+=3\n",
    "\n",
    "# Print NA examples\n",
    "make_heading(\"A\",rowptr, \"Some examples with NA value\",worksheet)\n",
    "rowptr+=1\n",
    "worksheet.write(\"A{}\".format(rowptr),\"NA count in this column: {}\".format(col_nacount))\n",
    "rowptr+=1\n",
    "\n",
    "smart_sample(nadf,10).to_excel(writer, sheet_name=sheetname,startrow=rowptr-1,index=False)\n",
    "rowptr+=adv_ptr_var(nadf,10)\n",
    "\n",
    "# Print outlier examples\n",
    "if not is_factor(column_series):\n",
    "    make_heading(\"A\",rowptr, \"Some outliers above upper fence\",worksheet)\n",
    "    rowptr+=1\n",
    "    outlier_upper_df.head(10).to_excel(writer,sheet_name=sheetname,startrow=rowptr-1,index=False)\n",
    "    rowptr+=adv_ptr_var(outlier_upper_df,10)\n",
    "    \n",
    "    make_heading(\"A\",rowptr, \"Some outliers below lower fence\",worksheet)\n",
    "    rowptr+=1\n",
    "    outlier_lower_df.head(10).to_excel(writer,sheet_name=sheetname,startrow=rowptr-1,index=False)\n",
    "    rowptr+=adv_ptr_var(outlier_lower_df,10)\n",
    "# Rare level examples\n",
    "else:\n",
    "    make_heading(\"A\",rowptr, \"Some examples of rare levels\",worksheet)\n",
    "    rowptr+=1\n",
    "    rare_exp_df.head(10).to_excel(writer,sheet_name=sheetname,startrow=rowptr-1,index=False)\n",
    "    rowptr+=adv_ptr_var(rare_exp_df,10)\n",
    "    \n",
    "# Highlight column\n",
    "highligh_format=workbook.add_format()\n",
    "highligh_format.set_bg_color('orange')\n",
    "worksheet.set_column(df.columns.get_loc(ColumnSelector.selected_col),df.columns.get_loc(ColumnSelector.selected_col),None,highligh_format)\n",
    "    \n",
    "workbook.close()"
   ]
  },
  {
   "cell_type": "code",
   "execution_count": null,
   "metadata": {},
   "outputs": [],
   "source": [
    "# Dataset report\n",
    "rowptr=1\n",
    "\n",
    "# Write output to a xlsx file named \"report - Overall - Dataset\" in reports folder\n",
    "if not os.path.exists(\"reports\"):\n",
    "    os.makedirs(\"reports\")\n",
    "writer = pd.ExcelWriter('reports/report - Overall - Dataset.xlsx', engine='xlsxwriter')\n",
    "\n",
    "workbook  = writer.book\n",
    "worksheet = workbook.add_worksheet(\"Dataset\")\n",
    "writer.sheets[\"Dataset\"] = worksheet\n",
    "\n",
    "make_heading(\"A\",rowptr, os.path.basename(FileSelector.selected_file),worksheet)\n",
    "rowptr+=2\n",
    "\n",
    "make_heading(\"A\",rowptr, \"Shape\",worksheet)\n",
    "rowptr+=1\n",
    "worksheet.write(\"A{}\".format(rowptr),\"Row: {}\".format(df.shape[0]))\n",
    "worksheet.write(\"C{}\".format(rowptr),\"Column: {}\".format(df.shape[1]))\n",
    "rowptr+=2\n",
    "    \n",
    "make_heading(\"A\",rowptr, \"Column descriptions\",worksheet)\n",
    "rowptr+=1\n",
    "df_dtype.transpose().to_excel(writer, sheet_name=\"Dataset\",startrow=rowptr-1)\n",
    "rowptr+=4\n",
    "\n",
    "make_heading(\"A\",rowptr, \"Some examples\",worksheet)\n",
    "rowptr+=1\n",
    "smart_sample(df,50).to_excel(writer, sheet_name=\"Dataset\",startrow=rowptr-1,index=False)\n",
    "rowptr+=adv_ptr_var(df,50)\n",
    "\n",
    "workbook.close()"
   ]
  },
  {
   "cell_type": "markdown",
   "metadata": {},
   "source": [
    "# <font color=\"goldenrod\">Export variables, plots and data frames</font>"
   ]
  },
  {
   "cell_type": "code",
   "execution_count": null,
   "metadata": {},
   "outputs": [],
   "source": [
    "output_filename=\"???\"\n",
    "shelf=shelve.open(output_filename,\"n\")"
   ]
  },
  {
   "cell_type": "code",
   "execution_count": null,
   "metadata": {},
   "outputs": [],
   "source": [
    "shelf[\"???\"]=filtered_column_series"
   ]
  },
  {
   "cell_type": "code",
   "execution_count": null,
   "metadata": {},
   "outputs": [],
   "source": [
    "shelf.close()"
   ]
  },
  {
   "cell_type": "markdown",
   "metadata": {},
   "source": [
    "# Do not change codes above, insert your custom codes below"
   ]
  }
 ],
 "metadata": {
  "kernelspec": {
   "display_name": "Python 3",
   "language": "python",
   "name": "python3"
  },
  "language_info": {
   "codemirror_mode": {
    "name": "ipython",
    "version": 3
   },
   "file_extension": ".py",
   "mimetype": "text/x-python",
   "name": "python",
   "nbconvert_exporter": "python",
   "pygments_lexer": "ipython3",
   "version": "3.6.5"
  }
 },
 "nbformat": 4,
 "nbformat_minor": 2
}
