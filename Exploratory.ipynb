{
 "cells": [
  {
   "cell_type": "code",
   "execution_count": null,
   "metadata": {},
   "outputs": [],
   "source": [
    "# Native\n",
    "import os\n",
    "import re\n",
    "import shelve\n",
    "import glob\n",
    "import libmod\n",
    "\n",
    "# Data analysis\n",
    "import pandas as pd\n",
    "import numpy as np\n",
    "import matplotlib.pyplot as plt\n",
    "\n",
    "# Miscellaneous\n",
    "import param\n",
    "import paramnb\n",
    "import xlsxwriter"
   ]
  },
  {
   "cell_type": "markdown",
   "metadata": {},
   "source": [
    "# Contents\n",
    "### Data Frame\n",
    "<div style=\"margin-left:50px\">\n",
    "<a href=\"#filesel\">File selector</a><br>\n",
    "<a href=\"#shape\">Shape</a><br>\n",
    "<a href=\"#cols\">Column names and data types</a><br>\n",
    "<a href=\"#preview\">Preview</a><br>\n",
    "</div>\n",
    "\n",
    "### Column\n",
    "<div style=\"margin-left:50px\">\n",
    "<a href=\"#colsel\">Column selector</a><br>\n",
    "<a href=\"#coldescription\">Descriptive statistics</a><br>\n",
    "<a href=\"#colvalues\">Values count</a><br>\n",
    "<a href=\"#quantile\">Quantiles and rare levels</a><br>\n",
    "<a href=\"#outlier\">Outliers and rare level examples</a><br>\n",
    "</div>\n",
    "\n",
    "### Filter\n",
    "<div style=\"margin-left:50px\">\n",
    "<a href=\"#filtersel\">Filter selector</a><br>\n",
    "<a href=\"#filteredprev\">Filtered preview</a><br>\n",
    "<a href=\"#filteredcolsel\">Filtered column selector</a><br>\n",
    "<a href=\"#filtereddesc\">Filtered descriptive statistics</a><br>\n",
    "<a href=\"#filteredvalues\">Filtered values count</a><br>\n",
    "</div>\n",
    "\n",
    "\n",
    "### Plots\n",
    "<div style=\"margin-left:50px\">\n",
    "<a href=\"#intersel\">Interaction selector</a><br>\n",
    "<a href=\"#scatter\">Scatter plot</a><br>\n",
    "</div>"
   ]
  },
  {
   "cell_type": "code",
   "execution_count": null,
   "metadata": {},
   "outputs": [],
   "source": [
    "\"\"\"Load code dependencies\n",
    "\n",
    "If your dataset won't load, try\n",
    "\n",
    "adding encodings;\n",
    "\n",
    "If you need to convert a column and no existing methods fit,  \n",
    "add new converters by adding a method in class \"DataConverters\",\n",
    "then add the name and function in the dictionary \"custom_converters\".\n",
    "\"\"\"\n",
    "\n",
    "# Add your custom encodings here\n",
    "available_encodings=[\n",
    "\"utf-8\",\n",
    "\"latin1\",\n",
    "]\n",
    "\n",
    "# Add new data converter functions here\n",
    "class DataConverters(libmod.DataConverters):\n",
    "    def custom(orig_series):\n",
    "        \"\"\"Sample for extending DataConverters class\n",
    "        Outputs input series with all cells blank \n",
    "        \"\"\"\n",
    "        # Do not change original data frame, make a copy\n",
    "        series=orig_series.reindex_like(orig_series)\n",
    "        return series\n",
    "    \n",
    "# Add new column converters here\n",
    "custom_converters={\n",
    "    \"Custom\": DataConverters.custom,\n",
    "    }\n",
    "\n",
    "converters={**libmod.Explore.converters,**custom_converters}"
   ]
  },
  {
   "cell_type": "markdown",
   "metadata": {},
   "source": [
    "# <font color=\"goldenrod\">Select a list of input files here to get started </font>"
   ]
  },
  {
   "cell_type": "markdown",
   "metadata": {},
   "source": [
    "<a name=\"filesel\"></a>"
   ]
  },
  {
   "cell_type": "code",
   "execution_count": null,
   "metadata": {
    "scrolled": true
   },
   "outputs": [],
   "source": [
    "# Run Tk to get file(s) path\n",
    "inputlib=libmod.Input()\n",
    "inputlib.path_gui()\n",
    "# If Tk won't run, use the fallback below\n",
    "\n",
    "# obtained by wildcard\n",
    "# inputlib.path2files=glob.glob(\"???\")\n",
    "\n",
    "# OR from a list\n",
    "# inputlib.path2files=[\n",
    "#\n",
    "#]\n",
    "\n",
    "class FileSelector(param.Parameterized):\n",
    "    selected_file=param.ObjectSelector(objects=inputlib.path2files)\n",
    "    file_encoding=param.ObjectSelector(default=\"utf-8\",objects=available_encodings)\n",
    "\n",
    "paramnb.Widgets(FileSelector,next_n=3)"
   ]
  },
  {
   "cell_type": "markdown",
   "metadata": {},
   "source": [
    "<a name=\"shape\"></a>"
   ]
  },
  {
   "cell_type": "code",
   "execution_count": null,
   "metadata": {
    "scrolled": true
   },
   "outputs": [],
   "source": [
    "# Read file into a data frame\n",
    "df=inputlib.universal_load(FileSelector.selected_file,enc=FileSelector.file_encoding)\n",
    "\n",
    "print(\"Rows: {}\\tCols: {}\".format(df.shape[0],df.shape[1]))\n",
    "\n",
    "df_dtype=pd.DataFrame({\"Column Names\":df.columns.values,\"Data Types\":df.dtypes.values})\n",
    "display(df_dtype)"
   ]
  },
  {
   "cell_type": "markdown",
   "metadata": {},
   "source": [
    "<a name=\"cols\"></a>"
   ]
  },
  {
   "cell_type": "markdown",
   "metadata": {},
   "source": [
    "<a name=\"preview\"></a>"
   ]
  },
  {
   "cell_type": "code",
   "execution_count": null,
   "metadata": {
    "scrolled": true
   },
   "outputs": [],
   "source": [
    "libmod.smart_sample(df,10).transpose()"
   ]
  },
  {
   "cell_type": "markdown",
   "metadata": {},
   "source": [
    "# <font color=\"goldenrod\">Select a column to take a closer look</font>"
   ]
  },
  {
   "cell_type": "markdown",
   "metadata": {},
   "source": [
    "<a name=\"colsel\"></a>"
   ]
  },
  {
   "cell_type": "code",
   "execution_count": null,
   "metadata": {
    "scrolled": false
   },
   "outputs": [],
   "source": [
    "class ColumnSelector(param.Parameterized):\n",
    "    selected_col=param.ObjectSelector(objects=df.columns.values)\n",
    "    convert_method=param.ObjectSelector(default=\"Do not convert\",objects=converters.keys())\n",
    "    \n",
    "paramnb.Widgets(ColumnSelector,next_n=4)"
   ]
  },
  {
   "cell_type": "markdown",
   "metadata": {},
   "source": [
    "<a name=\"coldescription\"></a>"
   ]
  },
  {
   "cell_type": "code",
   "execution_count": null,
   "metadata": {
    "scrolled": false
   },
   "outputs": [],
   "source": [
    "if not ColumnSelector.convert_method==\"Do not convert\":\n",
    "    column_series=converters[ColumnSelector.convert_method](df[ColumnSelector.selected_col])\n",
    "    column_series=pd.to_numeric(column_series,errors=\"coerce\")\n",
    "else:\n",
    "    column_series=df[ColumnSelector.selected_col]\n",
    "\n",
    "col_nacount=np.sum(pd.isnull(column_series))\n",
    "print(\"Null count: {}\\tNull percent: {:.2%}\".format(col_nacount,col_nacount/df.shape[0]))\n",
    "    \n",
    "col_desc_df=column_series.describe().to_frame().transpose()\n",
    "display(col_desc_df)\n",
    "\n",
    "if not libmod.is_factor(column_series):\n",
    "    # Save figure to cache\n",
    "    plt.boxplot(column_series.dropna())\n",
    "    colboxfig=plt.gcf()\n",
    "    plt.close()\n",
    "    plt.hist(column_series.dropna(),bins=30)\n",
    "    colhistfig=plt.gcf()\n",
    "    plt.close()\n",
    "    # Make plot\n",
    "    plt.figure(figsize=(15,6))\n",
    "    plt.subplot(1,2,1)\n",
    "    plt.boxplot(column_series.dropna())\n",
    "    plt.subplot(1,2,2)\n",
    "    plt.hist(column_series.dropna(),bins=30)    \n",
    "else:\n",
    "    valcount_df=column_series.value_counts(dropna=False).to_frame()\n",
    "    display(valcount_df)"
   ]
  },
  {
   "cell_type": "markdown",
   "metadata": {},
   "source": [
    "<a name=\"colvalues\"></a>"
   ]
  },
  {
   "cell_type": "markdown",
   "metadata": {},
   "source": [
    "<a name=\"quantile\"></a>"
   ]
  },
  {
   "cell_type": "code",
   "execution_count": null,
   "metadata": {
    "scrolled": true
   },
   "outputs": [],
   "source": [
    "# Quantiles\n",
    "if not libmod.is_factor(column_series):\n",
    "    quantile_list=[\n",
    "        column_series.quantile(.005),\n",
    "        column_series.quantile(.01),\n",
    "        column_series.quantile(.025),\n",
    "        column_series.quantile(.05),\n",
    "        column_series.quantile(.95),\n",
    "        column_series.quantile(.975),\n",
    "        column_series.quantile(.99),\n",
    "        column_series.quantile(.995),\n",
    "    ]\n",
    "    quantile_df=pd.Series(quantile_list,index=[\"0.5%\",\"1%\",\"2.5%\",\"5%\",\"95%\",\"97.5%\",\"99%\",\"99.5%\"]).to_frame().transpose()\n",
    "    print(\"Quantiles\")\n",
    "    display(quantile_df)\n",
    "else:\n",
    "# Rare levels\n",
    "    print(\"Rare levels\")\n",
    "    rare_lvl_df=valcount_df.sort_values(by=[ColumnSelector.selected_col],ascending=True)\n",
    "    display(rare_lvl_df.head(10))\n",
    "    rare_lvl=rare_lvl_df.index[0]"
   ]
  },
  {
   "cell_type": "markdown",
   "metadata": {},
   "source": [
    "<a name=\"outlier\"></a>"
   ]
  },
  {
   "cell_type": "code",
   "execution_count": null,
   "metadata": {
    "scrolled": true
   },
   "outputs": [],
   "source": [
    "# Outliers\n",
    "if not libmod.is_factor(column_series):\n",
    "    q3=column_series.quantile(.75)\n",
    "    q1=column_series.quantile(.25)\n",
    "    IQR=q3-q1\n",
    "    upper_fence=q3+1.5*IQR\n",
    "    lower_fence=q1-1.5*IQR\n",
    "    outlier_upper_df=df.loc[column_series[column_series>upper_fence].sort_values(ascending=False).index]\n",
    "    outlier_lower_df=df.loc[column_series[column_series<lower_fence].sort_values(ascending=True).index]\n",
    "    print(\"Outliers above upper fence\")\n",
    "    display(outlier_upper_df.head(10).transpose())\n",
    "    print(\"Outliers below lower fence\")\n",
    "    display(outlier_lower_df.head(10).transpose())\n",
    "else:\n",
    "    print(\"Examples of rare levels\")\n",
    "    rare_exp_df=df[df[ColumnSelector.selected_col]==rare_lvl]\n",
    "    display(rare_exp_df.head(10))"
   ]
  },
  {
   "cell_type": "markdown",
   "metadata": {},
   "source": [
    "# <font color=\"goldenrod\">Look at data filtered by the selected column</font>"
   ]
  },
  {
   "cell_type": "markdown",
   "metadata": {},
   "source": [
    "<a name=\"filtersel\"></a>"
   ]
  },
  {
   "cell_type": "code",
   "execution_count": null,
   "metadata": {},
   "outputs": [],
   "source": [
    "nadf=df[df[ColumnSelector.selected_col].isnull()]\n",
    "\n",
    "if not libmod.is_factor(column_series):\n",
    "    class FilterSelector(param.Parameterized):\n",
    "        filter_by_value=param.Range(bounds=(column_series.min(), column_series.max()))\n",
    "        filter_by_na=param.Boolean()\n",
    "else:    \n",
    "    class FilterSelector(param.Parameterized):\n",
    "        filter_by_value=param.ObjectSelector(objects=column_series.values)\n",
    "        filter_by_na=param.Boolean()\n",
    "\n",
    "if libmod.is_factor(column_series):\n",
    "# May take too long to load\n",
    "    if len(column_series.unique())<2000:\n",
    "        paramnb.Widgets(FilterSelector,next_n=2)\n",
    "else:\n",
    "    paramnb.Widgets(FilterSelector,next_n=2)"
   ]
  },
  {
   "cell_type": "markdown",
   "metadata": {},
   "source": [
    "<a name=\"filteredprev\"></a>"
   ]
  },
  {
   "cell_type": "code",
   "execution_count": null,
   "metadata": {
    "scrolled": true
   },
   "outputs": [],
   "source": [
    "if FilterSelector.filter_by_na==True:\n",
    "    subdf=nadf\n",
    "else:\n",
    "    if not libmod.is_factor(column_series):\n",
    "        subdf=df[(column_series>=FilterSelector.filter_by_value[0]) & (column_series<=FilterSelector.filter_by_value[1])]\n",
    "    else:\n",
    "        subdf=df[column_series==FilterSelector.filter_by_value]\n",
    "        \n",
    "print(\"Filtered rows: {}\\tFiltered percent: {:.2%}\".format(subdf.shape[0],subdf.shape[0]/df.shape[0]))\n",
    "display(libmod.smart_sample(subdf,10).transpose())"
   ]
  },
  {
   "cell_type": "markdown",
   "metadata": {},
   "source": [
    "# <font color=\"goldenrod\">Distribution of a column after filtering</font>"
   ]
  },
  {
   "cell_type": "markdown",
   "metadata": {},
   "source": [
    "<a name=\"filteredcolsel\"></a>"
   ]
  },
  {
   "cell_type": "code",
   "execution_count": null,
   "metadata": {
    "scrolled": true
   },
   "outputs": [],
   "source": [
    "class FilteredColumnSelector(param.Parameterized):\n",
    "    selected_col=param.ObjectSelector(objects=df.columns.values)\n",
    "    convert_method=param.ObjectSelector(default=\"Do not convert\",objects=converters.keys())\n",
    "    \n",
    "paramnb.Widgets(FilteredColumnSelector,next_n=2)"
   ]
  },
  {
   "cell_type": "markdown",
   "metadata": {},
   "source": [
    "<a name=\"filtereddesc\"></a>"
   ]
  },
  {
   "cell_type": "code",
   "execution_count": null,
   "metadata": {},
   "outputs": [],
   "source": [
    "if not FilteredColumnSelector.convert_method==\"Do not convert\":\n",
    "    filtered_column_series=converters[FilteredColumnSelector.convert_method](subdf[FilteredColumnSelector.selected_col])\n",
    "    filtered_column_series=pd.to_numeric(filtered_column_series,errors=\"coerce\")\n",
    "else:\n",
    "    filtered_column_series=subdf[FilteredColumnSelector.selected_col]\n",
    "\n",
    "print(filtered_column_series.describe())\n",
    "\n",
    "if not libmod.is_factor(filtered_column_series):\n",
    "    plt.boxplot(filtered_column_series.dropna())"
   ]
  },
  {
   "cell_type": "markdown",
   "metadata": {},
   "source": [
    "<a name=\"filteredvalues\"></a>"
   ]
  },
  {
   "cell_type": "code",
   "execution_count": null,
   "metadata": {},
   "outputs": [],
   "source": [
    "if not libmod.is_factor(filtered_column_series):\n",
    "    print(\"NA count: {}\".format(np.sum(pd.isnull(filtered_column_series))))\n",
    "    plt.hist(filtered_column_series.dropna(),bins=30)\n",
    "else:\n",
    "    print(\"NA count: {}\".format(np.sum(pd.isnull(filtered_column_series))))\n",
    "    print(pd.DataFrame(filtered_column_series.value_counts(dropna=False)))"
   ]
  },
  {
   "cell_type": "markdown",
   "metadata": {},
   "source": [
    "# <font color=\"goldenrod\">Interaction between two variables</font>"
   ]
  },
  {
   "cell_type": "markdown",
   "metadata": {},
   "source": [
    "<a name=\"intersel\"></a>"
   ]
  },
  {
   "cell_type": "code",
   "execution_count": null,
   "metadata": {},
   "outputs": [],
   "source": [
    "class InteractionSelector(param.Parameterized):\n",
    "    first_variable=param.ObjectSelector(objects=df.columns.values)\n",
    "    second_variable=param.ObjectSelector(objects=df.columns.values)\n",
    "    invert_axis=param.Boolean()\n",
    "    \n",
    "paramnb.Widgets(InteractionSelector,next_n=1)"
   ]
  },
  {
   "cell_type": "markdown",
   "metadata": {},
   "source": [
    "<a name=\"scatter\"></a>"
   ]
  },
  {
   "cell_type": "code",
   "execution_count": null,
   "metadata": {},
   "outputs": [],
   "source": [
    "# Scatter plot\n",
    "plt.figure(figsize=(10,10))\n",
    "if not InteractionSelector.invert_axis==True:\n",
    "    plt.scatter(df.dropna()[InteractionSelector.first_variable],df.dropna()[InteractionSelector.second_variable],marker='x',s=2)\n",
    "    plt.xlabel(InteractionSelector.first_variable)\n",
    "    plt.ylabel(InteractionSelector.second_variable)\n",
    "else:\n",
    "    plt.scatter(df.dropna()[InteractionSelector.second_variable],df.dropna()[InteractionSelector.first_variable],marker=\"x\",s=2)\n",
    "    plt.ylabel(InteractionSelector.first_variable)\n",
    "    plt.xlabel(InteractionSelector.second_variable)"
   ]
  },
  {
   "cell_type": "markdown",
   "metadata": {},
   "source": [
    "# <font color=\"goldenrod\">Generate excel report</font>"
   ]
  },
  {
   "cell_type": "code",
   "execution_count": null,
   "metadata": {
    "scrolled": false
   },
   "outputs": [],
   "source": [
    "# Column report\n",
    "\n",
    "rowptr=1\n",
    "\n",
    "# Write output to a xlsx file named \"report - [column name]\" in reports folder\n",
    "if not os.path.exists(\"reports\"):\n",
    "    os.makedirs(\"reports\")\n",
    "writer = pd.ExcelWriter('reports/report - {}.xlsx'.format(ColumnSelector.selected_col), engine='xlsxwriter')\n",
    "\n",
    "sheetname=ColumnSelector.selected_col if len(ColumnSelector.selected_col)<31 else ColumnSelector.selected_col[:30]\n",
    "workbook  = writer.book\n",
    "worksheet = workbook.add_worksheet(sheetname)\n",
    "writer.sheets[sheetname] = worksheet\n",
    "\n",
    "libmod.make_heading(\"A\",rowptr, ColumnSelector.selected_col,workbook,worksheet)\n",
    "rowptr+=2\n",
    "\n",
    "\n",
    "# Descriptive data frame\n",
    "libmod.make_heading(\"A\",rowptr, \"Descriptive statistics\",workbook,worksheet)\n",
    "rowptr+=1\n",
    "col_desc_df.to_excel(writer, sheet_name=sheetname,startrow=rowptr-1,index=False)\n",
    "rowptr+=3\n",
    "\n",
    "# Quantile\n",
    "if not libmod.is_factor(column_series):\n",
    "    libmod.make_heading(\"A\",rowptr, \"Quantiles\",workbook,worksheet)\n",
    "    rowptr+=1\n",
    "    quantile_df.to_excel(writer, sheet_name=sheetname,startrow=rowptr-1,index=False)\n",
    "    rowptr+=3\n",
    "\n",
    "# Value count\n",
    "if libmod.is_factor(column_series):\n",
    "    libmod.make_heading(\"A\",rowptr,\"Value counts\",workbook,worksheet)\n",
    "    rowptr+=1\n",
    "    valcount_df.transpose().to_excel(writer, sheet_name=sheetname,startrow=rowptr-1)\n",
    "    rowptr+=3\n",
    "else:\n",
    "# Plots\n",
    "    libmod.make_heading('A',rowptr, \"Box plot of {} values\".format(ColumnSelector.selected_col),workbook,worksheet)\n",
    "    libmod.make_heading('K',rowptr, \"Histogram of {} values\".format(ColumnSelector.selected_col),workbook,worksheet)\n",
    "    rowptr+=1\n",
    "    libmod.make_plot(\"A\",rowptr,colboxfig,worksheet)\n",
    "    libmod.make_plot(\"K\",rowptr,colhistfig,worksheet)\n",
    "    rowptr+=18\n",
    "    \n",
    "# Rare levels\n",
    "if libmod.is_factor(column_series):\n",
    "    libmod.make_heading(\"A\",rowptr, \"Some rare levels\",workbook,worksheet)\n",
    "    rowptr+=1\n",
    "    rare_lvl_df.head(10).transpose().to_excel(writer, sheet_name=sheetname,startrow=rowptr-1,index=False)\n",
    "    rowptr+=3\n",
    "\n",
    "# Print NA examples\n",
    "libmod.make_heading(\"A\",rowptr, \"Some examples with NA value\",workbook,worksheet)\n",
    "rowptr+=1\n",
    "worksheet.write(\"A{}\".format(rowptr),\"NA count in this column: {}\".format(col_nacount))\n",
    "rowptr+=1\n",
    "\n",
    "libmod.smart_sample(nadf,10).to_excel(writer, sheet_name=sheetname,startrow=rowptr-1,index=False)\n",
    "rowptr+=libmod.adv_ptr_var(nadf,10)\n",
    "\n",
    "# Print outlier examples\n",
    "if not libmod.is_factor(column_series):\n",
    "    libmod.make_heading(\"A\",rowptr, \"Some outliers above upper fence\",workbook,worksheet)\n",
    "    rowptr+=1\n",
    "    outlier_upper_df.head(10).to_excel(writer,sheet_name=sheetname,startrow=rowptr-1,index=False)\n",
    "    rowptr+=libmod.adv_ptr_var(outlier_upper_df,10)\n",
    "    \n",
    "    libmod.make_heading(\"A\",rowptr, \"Some outliers below lower fence\",workbook,worksheet)\n",
    "    rowptr+=1\n",
    "    outlier_lower_df.head(10).to_excel(writer,sheet_name=sheetname,startrow=rowptr-1,index=False)\n",
    "    rowptr+=libmod.adv_ptr_var(outlier_lower_df,10)\n",
    "# Rare level examples\n",
    "else:\n",
    "    libmod.make_heading(\"A\",rowptr, \"Some examples of rare levels\",workbook,worksheet)\n",
    "    rowptr+=1\n",
    "    rare_exp_df.head(10).to_excel(writer,sheet_name=sheetname,startrow=rowptr-1,index=False)\n",
    "    rowptr+=libmod.adv_ptr_var(rare_exp_df,10)\n",
    "    \n",
    "# Highlight column\n",
    "highligh_format=workbook.add_format()\n",
    "highligh_format.set_bg_color('orange')\n",
    "worksheet.set_column(df.columns.get_loc(ColumnSelector.selected_col),df.columns.get_loc(ColumnSelector.selected_col),None,highligh_format)\n",
    "    \n",
    "workbook.close()"
   ]
  },
  {
   "cell_type": "code",
   "execution_count": null,
   "metadata": {},
   "outputs": [],
   "source": [
    "# Dataset report\n",
    "rowptr=1\n",
    "\n",
    "# Write output to a xlsx file named \"report - Overall - Dataset\" in reports folder\n",
    "if not os.path.exists(\"reports\"):\n",
    "    os.makedirs(\"reports\")\n",
    "writer = pd.ExcelWriter('reports/report - Overall - Dataset.xlsx', engine='xlsxwriter')\n",
    "\n",
    "workbook  = writer.book\n",
    "worksheet = workbook.add_worksheet(\"Dataset\")\n",
    "writer.sheets[\"Dataset\"] = worksheet\n",
    "\n",
    "libmod.make_heading(\"A\",rowptr, os.path.basename(FileSelector.selected_file),workbook,worksheet)\n",
    "rowptr+=2\n",
    "\n",
    "libmod.make_heading(\"A\",rowptr, \"Shape\",workbook,worksheet)\n",
    "rowptr+=1\n",
    "worksheet.write(\"A{}\".format(rowptr),\"Row: {}\".format(df.shape[0]))\n",
    "worksheet.write(\"C{}\".format(rowptr),\"Column: {}\".format(df.shape[1]))\n",
    "rowptr+=2\n",
    "    \n",
    "libmod.make_heading(\"A\",rowptr, \"Column descriptions\",workbook,worksheet)\n",
    "rowptr+=1\n",
    "df_dtype.transpose().to_excel(writer, sheet_name=\"Dataset\",startrow=rowptr-1)\n",
    "rowptr+=4\n",
    "\n",
    "libmod.make_heading(\"A\",rowptr, \"Some examples\",workbook,worksheet)\n",
    "rowptr+=1\n",
    "libmod.smart_sample(df,50).to_excel(writer, sheet_name=\"Dataset\",startrow=rowptr-1,index=False)\n",
    "rowptr+=libmod.adv_ptr_var(df,50)\n",
    "\n",
    "workbook.close()"
   ]
  },
  {
   "cell_type": "markdown",
   "metadata": {},
   "source": [
    "# <font color=\"goldenrod\">Export variables, plots and data frames</font>"
   ]
  },
  {
   "cell_type": "markdown",
   "metadata": {},
   "source": [
    "<h2>Global variables</h2>\n",
    "<table>\n",
    "    <thead>\n",
    "        <tr>\n",
    "            <th>Variable Name</th>\n",
    "            <th>Description</th>\n",
    "        </tr>\n",
    "    </thead>\n",
    "    <tbody>\n",
    "        <tr><td>inputlib.path2files</td><td>A list of path of dataset to choose from</td></tr>\n",
    "        <tr><td>df</td><td>Dataframe of dataset</td></tr>\n",
    "        <tr><td>df_dtype</td><td>Dataframe of dataset columns and data type of columns</td></tr>\n",
    "        <tr><td>colboxfig</td><td>Box plot of selected column (if numerical)</td></tr>\n",
    "        <tr><td>colhistfig</td><td>Histogram of selected column (if numerical)</td></tr>\n",
    "        <tr><td>valcount_df</td><td>Column value counts</td></tr>\n",
    "        <tr><td>col_desc_df</td><td>Column descriptive statistics</td></tr>\n",
    "        <tr><td>***</td><td>Placeholder</td></tr>\n",
    "    </tbody>\n",
    "</table>"
   ]
  },
  {
   "cell_type": "code",
   "execution_count": null,
   "metadata": {},
   "outputs": [],
   "source": [
    "output_filename=\"???\"\n",
    "shelf=shelve.open(output_filename,\"n\")"
   ]
  },
  {
   "cell_type": "code",
   "execution_count": null,
   "metadata": {},
   "outputs": [],
   "source": [
    "shelf[\"???\"]=filtered_column_series"
   ]
  },
  {
   "cell_type": "code",
   "execution_count": null,
   "metadata": {},
   "outputs": [],
   "source": [
    "shelf.close()"
   ]
  },
  {
   "cell_type": "markdown",
   "metadata": {},
   "source": [
    "# Do not change codes above, insert your custom codes below"
   ]
  }
 ],
 "metadata": {
  "kernelspec": {
   "display_name": "Python 3",
   "language": "python",
   "name": "python3"
  },
  "language_info": {
   "codemirror_mode": {
    "name": "ipython",
    "version": 3
   },
   "file_extension": ".py",
   "mimetype": "text/x-python",
   "name": "python",
   "nbconvert_exporter": "python",
   "pygments_lexer": "ipython3",
   "version": "3.6.5"
  }
 },
 "nbformat": 4,
 "nbformat_minor": 2
}
